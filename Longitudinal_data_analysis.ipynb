{
  "cells": [
    {
      "cell_type": "markdown",
      "metadata": {
        "id": "yF9J1W73Vc7-"
      },
      "source": [
        "# **Longitudinal data analysis**"
      ]
    },
    {
      "cell_type": "markdown",
      "source": [
        "# **#Pre-class assignment**"
      ],
      "metadata": {
        "id": "7jbQYn1biSfl"
      }
    },
    {
      "cell_type": "code",
      "source": [
        "library(foreign)"
      ],
      "metadata": {
        "id": "wEMWTof5id5K"
      },
      "execution_count": 1,
      "outputs": []
    },
    {
      "cell_type": "code",
      "source": [
        "temp <- tempfile()\n",
        "download.file(\"https://drive.google.com/uc?id=1pAy5L-BHCcAIVg1h4jOaPaWWlfPBYMVO&authuser=0&export=download\", temp)\n",
        "ccex<-readRDS(temp)"
      ],
      "metadata": {
        "id": "YAIEx8EqlL8l"
      },
      "execution_count": 2,
      "outputs": []
    },
    {
      "cell_type": "markdown",
      "source": [
        "### **Data Dictionary**"
      ],
      "metadata": {
        "id": "nie0Htw7la7M"
      }
    },
    {
      "cell_type": "markdown",
      "source": [
        "*   STRATA [Matched set of subjects]\n",
        "\n",
        "*   PIDGEN [Individual ID generated]\n",
        "\n",
        "*   SEX [Sex] : Male, Female\n",
        "\n",
        "*   AGE [Age group] : 1-10, 11-20, 21-30, 31-40, 41-50, 51-60, 61-70, 71-80\n",
        "\n",
        "*   STATUS [Groups of the subjects] : Case = TRUE, Control = FALSE\n",
        "\n",
        "*   DIAGCODE [ICD-10 diagnoses]\n",
        "\n",
        "*   DIAGTYPE [Type of ICD-10 diagnosis] : 1 = Principle diagnosis, 2 = Comorbidity, 3 = Complication, 4 = Other, 5 = External cause, 6 = Additional code, 7 = Morphology code"
      ],
      "metadata": {
        "id": "87UD9o_jlijG"
      }
    },
    {
      "cell_type": "code",
      "source": [
        "head(ccex)"
      ],
      "metadata": {
        "colab": {
          "base_uri": "https://localhost:8080/",
          "height": 286
        },
        "id": "L9B5NhNEqSpc",
        "outputId": "910f6efc-8116-434e-9117-9e13a3a3fbaf"
      },
      "execution_count": 4,
      "outputs": [
        {
          "output_type": "display_data",
          "data": {
            "text/html": [
              "<table class=\"dataframe\">\n",
              "<caption>A data.table: 6 × 8</caption>\n",
              "<thead>\n",
              "\t<tr><th></th><th scope=col>STRATA</th><th scope=col>PIDGEN</th><th scope=col>SEX</th><th scope=col>AGE</th><th scope=col>STATUS</th><th scope=col>DIAGCODE</th><th scope=col>DIAGTYPE</th><th scope=col>P_WEEKS</th></tr>\n",
              "\t<tr><th></th><th scope=col>&lt;chr&gt;</th><th scope=col>&lt;chr&gt;</th><th scope=col>&lt;chr&gt;</th><th scope=col>&lt;fct&gt;</th><th scope=col>&lt;lgl&gt;</th><th scope=col>&lt;chr&gt;</th><th scope=col>&lt;int&gt;</th><th scope=col>&lt;int&gt;</th></tr>\n",
              "</thead>\n",
              "<tbody>\n",
              "\t<tr><th scope=row>1</th><td>2070</td><td>0001</td><td>Male  </td><td>(20,30]</td><td> TRUE</td><td>I828 </td><td>1</td><td>25</td></tr>\n",
              "\t<tr><th scope=row>2</th><td>1961</td><td>0002</td><td>Female</td><td>(30,40]</td><td>FALSE</td><td>J181 </td><td>1</td><td>28</td></tr>\n",
              "\t<tr><th scope=row>3</th><td>1264</td><td>0003</td><td>Male  </td><td>(30,40]</td><td>FALSE</td><td>C384 </td><td>1</td><td>41</td></tr>\n",
              "\t<tr><th scope=row>4</th><td>1264</td><td>0003</td><td>Male  </td><td>(30,40]</td><td>FALSE</td><td>M8565</td><td>5</td><td>21</td></tr>\n",
              "\t<tr><th scope=row>5</th><td>1758</td><td>0004</td><td>Male  </td><td>(30,40]</td><td> TRUE</td><td>D135 </td><td>1</td><td> 6</td></tr>\n",
              "\t<tr><th scope=row>6</th><td>2138</td><td>2305</td><td>Female</td><td>(30,40]</td><td> TRUE</td><td>J90  </td><td>1</td><td>49</td></tr>\n",
              "</tbody>\n",
              "</table>\n"
            ],
            "text/markdown": "\nA data.table: 6 × 8\n\n| <!--/--> | STRATA &lt;chr&gt; | PIDGEN &lt;chr&gt; | SEX &lt;chr&gt; | AGE &lt;fct&gt; | STATUS &lt;lgl&gt; | DIAGCODE &lt;chr&gt; | DIAGTYPE &lt;int&gt; | P_WEEKS &lt;int&gt; |\n|---|---|---|---|---|---|---|---|---|\n| 1 | 2070 | 0001 | Male   | (20,30] |  TRUE | I828  | 1 | 25 |\n| 2 | 1961 | 0002 | Female | (30,40] | FALSE | J181  | 1 | 28 |\n| 3 | 1264 | 0003 | Male   | (30,40] | FALSE | C384  | 1 | 41 |\n| 4 | 1264 | 0003 | Male   | (30,40] | FALSE | M8565 | 5 | 21 |\n| 5 | 1758 | 0004 | Male   | (30,40] |  TRUE | D135  | 1 |  6 |\n| 6 | 2138 | 2305 | Female | (30,40] |  TRUE | J90   | 1 | 49 |\n\n",
            "text/latex": "A data.table: 6 × 8\n\\begin{tabular}{r|llllllll}\n  & STRATA & PIDGEN & SEX & AGE & STATUS & DIAGCODE & DIAGTYPE & P\\_WEEKS\\\\\n  & <chr> & <chr> & <chr> & <fct> & <lgl> & <chr> & <int> & <int>\\\\\n\\hline\n\t1 & 2070 & 0001 & Male   & (20,30{]} &  TRUE & I828  & 1 & 25\\\\\n\t2 & 1961 & 0002 & Female & (30,40{]} & FALSE & J181  & 1 & 28\\\\\n\t3 & 1264 & 0003 & Male   & (30,40{]} & FALSE & C384  & 1 & 41\\\\\n\t4 & 1264 & 0003 & Male   & (30,40{]} & FALSE & M8565 & 5 & 21\\\\\n\t5 & 1758 & 0004 & Male   & (30,40{]} &  TRUE & D135  & 1 &  6\\\\\n\t6 & 2138 & 2305 & Female & (30,40{]} &  TRUE & J90   & 1 & 49\\\\\n\\end{tabular}\n",
            "text/plain": [
              "  STRATA PIDGEN SEX    AGE     STATUS DIAGCODE DIAGTYPE P_WEEKS\n",
              "1 2070   0001   Male   (20,30]  TRUE  I828     1        25     \n",
              "2 1961   0002   Female (30,40] FALSE  J181     1        28     \n",
              "3 1264   0003   Male   (30,40] FALSE  C384     1        41     \n",
              "4 1264   0003   Male   (30,40] FALSE  M8565    5        21     \n",
              "5 1758   0004   Male   (30,40]  TRUE  D135     1         6     \n",
              "6 2138   2305   Female (30,40]  TRUE  J90      1        49     "
            ]
          },
          "metadata": {}
        }
      ]
    },
    {
      "cell_type": "markdown",
      "source": [
        "**Explore the dataset downloaded as followings:**"
      ],
      "metadata": {
        "id": "P5h_j9PGl_3L"
      }
    },
    {
      "cell_type": "markdown",
      "source": [
        "Note that, the data were recorded as a long format, each subject could be diagnosed with many ICD-10 diagnoses. Hence, the PIDGEN may be repeated.\n",
        "For further details, see: Kumwichar, P., & Chongsuvivatwong, V. (2022). Data mining for ICD-10 admission diagnoses preceding tuberculosis within 1 year among non-HIV and non-diabetes patients. Tropical Medicine and Infectious Disease, 7(4), 61. [link text](https://www.mdpi.com/2414-6366/7/4/61/htm)"
      ],
      "metadata": {
        "id": "F2S6R2ocosFw"
      }
    },
    {
      "cell_type": "markdown",
      "source": [
        "1. How many patients in the dataset?"
      ],
      "metadata": {
        "id": "7fl202BAmgsB"
      }
    },
    {
      "cell_type": "code",
      "source": [
        "#your codes"
      ],
      "metadata": {
        "id": "p7qsmn9Km0vp"
      },
      "execution_count": null,
      "outputs": []
    },
    {
      "cell_type": "markdown",
      "source": [
        "2. How many bacteriologically confirmed PTB cases in the dataset? [Hint: ICD-10 as A15 or A15.1-9]"
      ],
      "metadata": {
        "id": "JpnytitIm63H"
      }
    },
    {
      "cell_type": "code",
      "source": [
        "#your codes"
      ],
      "metadata": {
        "id": "LKelCp9anitG"
      },
      "execution_count": null,
      "outputs": []
    },
    {
      "cell_type": "markdown",
      "source": [
        "3. How many bacteriologically confirmed PTB cases who were diagnosed as a princicple diagnosis?"
      ],
      "metadata": {
        "id": "5Zj0WQ_bnlKw"
      }
    },
    {
      "cell_type": "code",
      "source": [
        "#your codes"
      ],
      "metadata": {
        "id": "1UI87DGxoNp7"
      },
      "execution_count": null,
      "outputs": []
    },
    {
      "cell_type": "markdown",
      "source": [
        "4. Visulize the population pyramid for the bacteriologically confirmed PTB cases?"
      ],
      "metadata": {
        "id": "IQWH4dEYoRbZ"
      }
    },
    {
      "cell_type": "code",
      "source": [
        "#your codes"
      ],
      "metadata": {
        "id": "LitJgHICok7h"
      },
      "execution_count": null,
      "outputs": []
    },
    {
      "cell_type": "markdown",
      "source": [
        "# **#Class section**"
      ],
      "metadata": {
        "id": "j_V8dUlipiPb"
      }
    },
    {
      "cell_type": "markdown",
      "source": [
        "Note that, you can read through this section before the class, \n",
        "# but you **don't** need to **do the quizzes**."
      ],
      "metadata": {
        "id": "6C2PyzLzpjVQ"
      }
    },
    {
      "cell_type": "markdown",
      "metadata": {
        "id": "uSKvvaxgJ8BT"
      },
      "source": [
        "**Preparation**"
      ]
    },
    {
      "cell_type": "markdown",
      "source": [
        "Install package epiDisplay"
      ],
      "metadata": {
        "id": "Tl2JUAePljGI"
      }
    },
    {
      "cell_type": "code",
      "source": [
        "install.packages(\"epiDisplay\")"
      ],
      "metadata": {
        "colab": {
          "base_uri": "https://localhost:8080/"
        },
        "id": "uo36b1CCligQ",
        "outputId": "0c3d789b-0ad1-45b7-8477-a3426762181a"
      },
      "execution_count": 3,
      "outputs": [
        {
          "output_type": "stream",
          "name": "stderr",
          "text": [
            "Installing package into ‘/usr/local/lib/R/site-library’\n",
            "(as ‘lib’ is unspecified)\n",
            "\n"
          ]
        }
      ]
    },
    {
      "cell_type": "markdown",
      "metadata": {
        "id": "xNQzVFZzEtOl"
      },
      "source": [
        "Import package."
      ]
    },
    {
      "cell_type": "code",
      "source": [
        "library(tidyverse)\n",
        "library(epiDisplay)"
      ],
      "metadata": {
        "colab": {
          "base_uri": "https://localhost:8080/"
        },
        "id": "CzwFckZemDo_",
        "outputId": "bafe53da-67bd-4ddf-fa2e-d3f88443ed09"
      },
      "execution_count": 5,
      "outputs": [
        {
          "output_type": "stream",
          "name": "stderr",
          "text": [
            "Warning message in system(\"timedatectl\", intern = TRUE):\n",
            "“running command 'timedatectl' had status 1”\n",
            "── \u001b[1mAttaching packages\u001b[22m ─────────────────────────────────────── tidyverse 1.3.1 ──\n",
            "\n",
            "\u001b[32m✔\u001b[39m \u001b[34mggplot2\u001b[39m 3.4.1     \u001b[32m✔\u001b[39m \u001b[34mpurrr  \u001b[39m 1.0.1\n",
            "\u001b[32m✔\u001b[39m \u001b[34mtibble \u001b[39m 3.1.8     \u001b[32m✔\u001b[39m \u001b[34mdplyr  \u001b[39m 1.1.0\n",
            "\u001b[32m✔\u001b[39m \u001b[34mtidyr  \u001b[39m 1.3.0     \u001b[32m✔\u001b[39m \u001b[34mstringr\u001b[39m 1.4.1\n",
            "\u001b[32m✔\u001b[39m \u001b[34mreadr  \u001b[39m 2.1.4     \u001b[32m✔\u001b[39m \u001b[34mforcats\u001b[39m 1.0.0\n",
            "\n",
            "── \u001b[1mConflicts\u001b[22m ────────────────────────────────────────── tidyverse_conflicts() ──\n",
            "\u001b[31m✖\u001b[39m \u001b[34mdplyr\u001b[39m::\u001b[32mfilter()\u001b[39m masks \u001b[34mstats\u001b[39m::filter()\n",
            "\u001b[31m✖\u001b[39m \u001b[34mdplyr\u001b[39m::\u001b[32mlag()\u001b[39m    masks \u001b[34mstats\u001b[39m::lag()\n",
            "\n",
            "Loading required package: survival\n",
            "\n",
            "Loading required package: MASS\n",
            "\n",
            "\n",
            "Attaching package: ‘MASS’\n",
            "\n",
            "\n",
            "The following object is masked from ‘package:dplyr’:\n",
            "\n",
            "    select\n",
            "\n",
            "\n",
            "Loading required package: nnet\n",
            "\n",
            "\n",
            "Attaching package: ‘epiDisplay’\n",
            "\n",
            "\n",
            "The following object is masked from ‘package:ggplot2’:\n",
            "\n",
            "    alpha\n",
            "\n",
            "\n"
          ]
        }
      ]
    },
    {
      "cell_type": "markdown",
      "metadata": {
        "id": "z59LduDoviMz"
      },
      "source": [
        "# **Practice**"
      ]
    },
    {
      "cell_type": "markdown",
      "source": [
        "## **Pipe**"
      ],
      "metadata": {
        "id": "VRFPDvg2ozMn"
      }
    },
    {
      "cell_type": "code",
      "source": [
        "head(airquality)"
      ],
      "metadata": {
        "colab": {
          "base_uri": "https://localhost:8080/",
          "height": 286
        },
        "id": "Jb-16xCOsm-Z",
        "outputId": "d73d7967-3207-422b-9711-71e0593c4085"
      },
      "execution_count": 7,
      "outputs": [
        {
          "output_type": "display_data",
          "data": {
            "text/html": [
              "<table class=\"dataframe\">\n",
              "<caption>A data.frame: 6 × 6</caption>\n",
              "<thead>\n",
              "\t<tr><th></th><th scope=col>Ozone</th><th scope=col>Solar.R</th><th scope=col>Wind</th><th scope=col>Temp</th><th scope=col>Month</th><th scope=col>Day</th></tr>\n",
              "\t<tr><th></th><th scope=col>&lt;int&gt;</th><th scope=col>&lt;int&gt;</th><th scope=col>&lt;dbl&gt;</th><th scope=col>&lt;int&gt;</th><th scope=col>&lt;int&gt;</th><th scope=col>&lt;int&gt;</th></tr>\n",
              "</thead>\n",
              "<tbody>\n",
              "\t<tr><th scope=row>1</th><td>41</td><td>190</td><td> 7.4</td><td>67</td><td>5</td><td>1</td></tr>\n",
              "\t<tr><th scope=row>2</th><td>36</td><td>118</td><td> 8.0</td><td>72</td><td>5</td><td>2</td></tr>\n",
              "\t<tr><th scope=row>3</th><td>12</td><td>149</td><td>12.6</td><td>74</td><td>5</td><td>3</td></tr>\n",
              "\t<tr><th scope=row>4</th><td>18</td><td>313</td><td>11.5</td><td>62</td><td>5</td><td>4</td></tr>\n",
              "\t<tr><th scope=row>5</th><td>NA</td><td> NA</td><td>14.3</td><td>56</td><td>5</td><td>5</td></tr>\n",
              "\t<tr><th scope=row>6</th><td>28</td><td> NA</td><td>14.9</td><td>66</td><td>5</td><td>6</td></tr>\n",
              "</tbody>\n",
              "</table>\n"
            ],
            "text/markdown": "\nA data.frame: 6 × 6\n\n| <!--/--> | Ozone &lt;int&gt; | Solar.R &lt;int&gt; | Wind &lt;dbl&gt; | Temp &lt;int&gt; | Month &lt;int&gt; | Day &lt;int&gt; |\n|---|---|---|---|---|---|---|\n| 1 | 41 | 190 |  7.4 | 67 | 5 | 1 |\n| 2 | 36 | 118 |  8.0 | 72 | 5 | 2 |\n| 3 | 12 | 149 | 12.6 | 74 | 5 | 3 |\n| 4 | 18 | 313 | 11.5 | 62 | 5 | 4 |\n| 5 | NA |  NA | 14.3 | 56 | 5 | 5 |\n| 6 | 28 |  NA | 14.9 | 66 | 5 | 6 |\n\n",
            "text/latex": "A data.frame: 6 × 6\n\\begin{tabular}{r|llllll}\n  & Ozone & Solar.R & Wind & Temp & Month & Day\\\\\n  & <int> & <int> & <dbl> & <int> & <int> & <int>\\\\\n\\hline\n\t1 & 41 & 190 &  7.4 & 67 & 5 & 1\\\\\n\t2 & 36 & 118 &  8.0 & 72 & 5 & 2\\\\\n\t3 & 12 & 149 & 12.6 & 74 & 5 & 3\\\\\n\t4 & 18 & 313 & 11.5 & 62 & 5 & 4\\\\\n\t5 & NA &  NA & 14.3 & 56 & 5 & 5\\\\\n\t6 & 28 &  NA & 14.9 & 66 & 5 & 6\\\\\n\\end{tabular}\n",
            "text/plain": [
              "  Ozone Solar.R Wind Temp Month Day\n",
              "1 41    190      7.4 67   5     1  \n",
              "2 36    118      8.0 72   5     2  \n",
              "3 12    149     12.6 74   5     3  \n",
              "4 18    313     11.5 62   5     4  \n",
              "5 NA     NA     14.3 56   5     5  \n",
              "6 28     NA     14.9 66   5     6  "
            ]
          },
          "metadata": {}
        }
      ]
    },
    {
      "cell_type": "code",
      "source": [
        "airquality$Wind[1:10]"
      ],
      "metadata": {
        "colab": {
          "base_uri": "https://localhost:8080/",
          "height": 34
        },
        "id": "LliHHuXcmJtu",
        "outputId": "7cb61a55-1612-4d8b-bbea-610211054731"
      },
      "execution_count": null,
      "outputs": [
        {
          "output_type": "display_data",
          "data": {
            "text/html": [
              "<style>\n",
              ".list-inline {list-style: none; margin:0; padding: 0}\n",
              ".list-inline>li {display: inline-block}\n",
              ".list-inline>li:not(:last-child)::after {content: \"\\00b7\"; padding: 0 .5ex}\n",
              "</style>\n",
              "<ol class=list-inline><li>7.4</li><li>8</li><li>12.6</li><li>11.5</li><li>14.3</li><li>14.9</li><li>8.6</li><li>13.8</li><li>20.1</li><li>8.6</li></ol>\n"
            ],
            "text/markdown": "1. 7.4\n2. 8\n3. 12.6\n4. 11.5\n5. 14.3\n6. 14.9\n7. 8.6\n8. 13.8\n9. 20.1\n10. 8.6\n\n\n",
            "text/latex": "\\begin{enumerate*}\n\\item 7.4\n\\item 8\n\\item 12.6\n\\item 11.5\n\\item 14.3\n\\item 14.9\n\\item 8.6\n\\item 13.8\n\\item 20.1\n\\item 8.6\n\\end{enumerate*}\n",
            "text/plain": [
              " [1]  7.4  8.0 12.6 11.5 14.3 14.9  8.6 13.8 20.1  8.6"
            ]
          },
          "metadata": {}
        }
      ]
    },
    {
      "cell_type": "code",
      "source": [
        "round(exp(diff(log(airquality$Wind[1:10]))),1)"
      ],
      "metadata": {
        "colab": {
          "base_uri": "https://localhost:8080/",
          "height": 34
        },
        "id": "y2YqkJZro9Hu",
        "outputId": "1b1f1d71-d812-4995-d6c1-359b4b6fdfa4"
      },
      "execution_count": null,
      "outputs": [
        {
          "output_type": "display_data",
          "data": {
            "text/html": [
              "<style>\n",
              ".list-inline {list-style: none; margin:0; padding: 0}\n",
              ".list-inline>li {display: inline-block}\n",
              ".list-inline>li:not(:last-child)::after {content: \"\\00b7\"; padding: 0 .5ex}\n",
              "</style>\n",
              "<ol class=list-inline><li>1.1</li><li>1.6</li><li>0.9</li><li>1.2</li><li>1</li><li>0.6</li><li>1.6</li><li>1.5</li><li>0.4</li></ol>\n"
            ],
            "text/markdown": "1. 1.1\n2. 1.6\n3. 0.9\n4. 1.2\n5. 1\n6. 0.6\n7. 1.6\n8. 1.5\n9. 0.4\n\n\n",
            "text/latex": "\\begin{enumerate*}\n\\item 1.1\n\\item 1.6\n\\item 0.9\n\\item 1.2\n\\item 1\n\\item 0.6\n\\item 1.6\n\\item 1.5\n\\item 0.4\n\\end{enumerate*}\n",
            "text/plain": [
              "[1] 1.1 1.6 0.9 1.2 1.0 0.6 1.6 1.5 0.4"
            ]
          },
          "metadata": {}
        }
      ]
    },
    {
      "cell_type": "code",
      "source": [
        "airquality %>%       #In the airquality data set\n",
        "   slice(1:10) %>%   #In the first 10 rows\n",
        "   .$Wind %>%        #of variable Wind\n",
        "   log() %>%         #Find the log of each day\n",
        "   diff() %>%        #Difference, adjacent days\n",
        "   exp() %>%         #Exponentiation\n",
        "   round(1)          #Round to 1 digit decimal"
      ],
      "metadata": {
        "colab": {
          "base_uri": "https://localhost:8080/",
          "height": 34
        },
        "id": "wY_PLSlapCvn",
        "outputId": "4631859d-1326-4f16-f37b-c7ba5e47a8db"
      },
      "execution_count": null,
      "outputs": [
        {
          "output_type": "display_data",
          "data": {
            "text/html": [
              "<style>\n",
              ".list-inline {list-style: none; margin:0; padding: 0}\n",
              ".list-inline>li {display: inline-block}\n",
              ".list-inline>li:not(:last-child)::after {content: \"\\00b7\"; padding: 0 .5ex}\n",
              "</style>\n",
              "<ol class=list-inline><li>1.1</li><li>1.6</li><li>0.9</li><li>1.2</li><li>1</li><li>0.6</li><li>1.6</li><li>1.5</li><li>0.4</li></ol>\n"
            ],
            "text/markdown": "1. 1.1\n2. 1.6\n3. 0.9\n4. 1.2\n5. 1\n6. 0.6\n7. 1.6\n8. 1.5\n9. 0.4\n\n\n",
            "text/latex": "\\begin{enumerate*}\n\\item 1.1\n\\item 1.6\n\\item 0.9\n\\item 1.2\n\\item 1\n\\item 0.6\n\\item 1.6\n\\item 1.5\n\\item 0.4\n\\end{enumerate*}\n",
            "text/plain": [
              "[1] 1.1 1.6 0.9 1.2 1.0 0.6 1.6 1.5 0.4"
            ]
          },
          "metadata": {}
        }
      ]
    },
    {
      "cell_type": "markdown",
      "source": [
        "Quiz: calculate the differences between square root of the ozone levels in the adjacent days"
      ],
      "metadata": {
        "id": "QGSqVdsQsa0j"
      }
    },
    {
      "cell_type": "code",
      "source": [
        "#your turn"
      ],
      "metadata": {
        "id": "JTAbdLxetNdo"
      },
      "execution_count": null,
      "outputs": []
    },
    {
      "cell_type": "markdown",
      "source": [
        "## **Arrange**"
      ],
      "metadata": {
        "id": "ZtgGpkW9pM2n"
      }
    },
    {
      "cell_type": "code",
      "source": [
        "airquality %>% slice(1:10)"
      ],
      "metadata": {
        "colab": {
          "base_uri": "https://localhost:8080/",
          "height": 411
        },
        "id": "vDyrF-9_pZOZ",
        "outputId": "eebbae7b-8307-46b9-e744-648b85f2612e"
      },
      "execution_count": null,
      "outputs": [
        {
          "output_type": "display_data",
          "data": {
            "text/html": [
              "<table class=\"dataframe\">\n",
              "<caption>A data.frame: 10 × 6</caption>\n",
              "<thead>\n",
              "\t<tr><th scope=col>Ozone</th><th scope=col>Solar.R</th><th scope=col>Wind</th><th scope=col>Temp</th><th scope=col>Month</th><th scope=col>Day</th></tr>\n",
              "\t<tr><th scope=col>&lt;int&gt;</th><th scope=col>&lt;int&gt;</th><th scope=col>&lt;dbl&gt;</th><th scope=col>&lt;int&gt;</th><th scope=col>&lt;int&gt;</th><th scope=col>&lt;int&gt;</th></tr>\n",
              "</thead>\n",
              "<tbody>\n",
              "\t<tr><td>41</td><td>190</td><td> 7.4</td><td>67</td><td>5</td><td> 1</td></tr>\n",
              "\t<tr><td>36</td><td>118</td><td> 8.0</td><td>72</td><td>5</td><td> 2</td></tr>\n",
              "\t<tr><td>12</td><td>149</td><td>12.6</td><td>74</td><td>5</td><td> 3</td></tr>\n",
              "\t<tr><td>18</td><td>313</td><td>11.5</td><td>62</td><td>5</td><td> 4</td></tr>\n",
              "\t<tr><td>NA</td><td> NA</td><td>14.3</td><td>56</td><td>5</td><td> 5</td></tr>\n",
              "\t<tr><td>28</td><td> NA</td><td>14.9</td><td>66</td><td>5</td><td> 6</td></tr>\n",
              "\t<tr><td>23</td><td>299</td><td> 8.6</td><td>65</td><td>5</td><td> 7</td></tr>\n",
              "\t<tr><td>19</td><td> 99</td><td>13.8</td><td>59</td><td>5</td><td> 8</td></tr>\n",
              "\t<tr><td> 8</td><td> 19</td><td>20.1</td><td>61</td><td>5</td><td> 9</td></tr>\n",
              "\t<tr><td>NA</td><td>194</td><td> 8.6</td><td>69</td><td>5</td><td>10</td></tr>\n",
              "</tbody>\n",
              "</table>\n"
            ],
            "text/markdown": "\nA data.frame: 10 × 6\n\n| Ozone &lt;int&gt; | Solar.R &lt;int&gt; | Wind &lt;dbl&gt; | Temp &lt;int&gt; | Month &lt;int&gt; | Day &lt;int&gt; |\n|---|---|---|---|---|---|\n| 41 | 190 |  7.4 | 67 | 5 |  1 |\n| 36 | 118 |  8.0 | 72 | 5 |  2 |\n| 12 | 149 | 12.6 | 74 | 5 |  3 |\n| 18 | 313 | 11.5 | 62 | 5 |  4 |\n| NA |  NA | 14.3 | 56 | 5 |  5 |\n| 28 |  NA | 14.9 | 66 | 5 |  6 |\n| 23 | 299 |  8.6 | 65 | 5 |  7 |\n| 19 |  99 | 13.8 | 59 | 5 |  8 |\n|  8 |  19 | 20.1 | 61 | 5 |  9 |\n| NA | 194 |  8.6 | 69 | 5 | 10 |\n\n",
            "text/latex": "A data.frame: 10 × 6\n\\begin{tabular}{llllll}\n Ozone & Solar.R & Wind & Temp & Month & Day\\\\\n <int> & <int> & <dbl> & <int> & <int> & <int>\\\\\n\\hline\n\t 41 & 190 &  7.4 & 67 & 5 &  1\\\\\n\t 36 & 118 &  8.0 & 72 & 5 &  2\\\\\n\t 12 & 149 & 12.6 & 74 & 5 &  3\\\\\n\t 18 & 313 & 11.5 & 62 & 5 &  4\\\\\n\t NA &  NA & 14.3 & 56 & 5 &  5\\\\\n\t 28 &  NA & 14.9 & 66 & 5 &  6\\\\\n\t 23 & 299 &  8.6 & 65 & 5 &  7\\\\\n\t 19 &  99 & 13.8 & 59 & 5 &  8\\\\\n\t  8 &  19 & 20.1 & 61 & 5 &  9\\\\\n\t NA & 194 &  8.6 & 69 & 5 & 10\\\\\n\\end{tabular}\n",
            "text/plain": [
              "   Ozone Solar.R Wind Temp Month Day\n",
              "1  41    190      7.4 67   5      1 \n",
              "2  36    118      8.0 72   5      2 \n",
              "3  12    149     12.6 74   5      3 \n",
              "4  18    313     11.5 62   5      4 \n",
              "5  NA     NA     14.3 56   5      5 \n",
              "6  28     NA     14.9 66   5      6 \n",
              "7  23    299      8.6 65   5      7 \n",
              "8  19     99     13.8 59   5      8 \n",
              "9   8     19     20.1 61   5      9 \n",
              "10 NA    194      8.6 69   5     10 "
            ]
          },
          "metadata": {}
        }
      ]
    },
    {
      "cell_type": "code",
      "source": [
        "airquality %>% slice(1:10) %>% arrange(Wind)"
      ],
      "metadata": {
        "colab": {
          "base_uri": "https://localhost:8080/",
          "height": 411
        },
        "id": "XpAcGLVhpfOg",
        "outputId": "2fc737c6-7808-460c-c796-52931b0c1a05"
      },
      "execution_count": null,
      "outputs": [
        {
          "output_type": "display_data",
          "data": {
            "text/html": [
              "<table class=\"dataframe\">\n",
              "<caption>A data.frame: 10 × 6</caption>\n",
              "<thead>\n",
              "\t<tr><th scope=col>Ozone</th><th scope=col>Solar.R</th><th scope=col>Wind</th><th scope=col>Temp</th><th scope=col>Month</th><th scope=col>Day</th></tr>\n",
              "\t<tr><th scope=col>&lt;int&gt;</th><th scope=col>&lt;int&gt;</th><th scope=col>&lt;dbl&gt;</th><th scope=col>&lt;int&gt;</th><th scope=col>&lt;int&gt;</th><th scope=col>&lt;int&gt;</th></tr>\n",
              "</thead>\n",
              "<tbody>\n",
              "\t<tr><td>41</td><td>190</td><td> 7.4</td><td>67</td><td>5</td><td> 1</td></tr>\n",
              "\t<tr><td>36</td><td>118</td><td> 8.0</td><td>72</td><td>5</td><td> 2</td></tr>\n",
              "\t<tr><td>23</td><td>299</td><td> 8.6</td><td>65</td><td>5</td><td> 7</td></tr>\n",
              "\t<tr><td>NA</td><td>194</td><td> 8.6</td><td>69</td><td>5</td><td>10</td></tr>\n",
              "\t<tr><td>18</td><td>313</td><td>11.5</td><td>62</td><td>5</td><td> 4</td></tr>\n",
              "\t<tr><td>12</td><td>149</td><td>12.6</td><td>74</td><td>5</td><td> 3</td></tr>\n",
              "\t<tr><td>19</td><td> 99</td><td>13.8</td><td>59</td><td>5</td><td> 8</td></tr>\n",
              "\t<tr><td>NA</td><td> NA</td><td>14.3</td><td>56</td><td>5</td><td> 5</td></tr>\n",
              "\t<tr><td>28</td><td> NA</td><td>14.9</td><td>66</td><td>5</td><td> 6</td></tr>\n",
              "\t<tr><td> 8</td><td> 19</td><td>20.1</td><td>61</td><td>5</td><td> 9</td></tr>\n",
              "</tbody>\n",
              "</table>\n"
            ],
            "text/markdown": "\nA data.frame: 10 × 6\n\n| Ozone &lt;int&gt; | Solar.R &lt;int&gt; | Wind &lt;dbl&gt; | Temp &lt;int&gt; | Month &lt;int&gt; | Day &lt;int&gt; |\n|---|---|---|---|---|---|\n| 41 | 190 |  7.4 | 67 | 5 |  1 |\n| 36 | 118 |  8.0 | 72 | 5 |  2 |\n| 23 | 299 |  8.6 | 65 | 5 |  7 |\n| NA | 194 |  8.6 | 69 | 5 | 10 |\n| 18 | 313 | 11.5 | 62 | 5 |  4 |\n| 12 | 149 | 12.6 | 74 | 5 |  3 |\n| 19 |  99 | 13.8 | 59 | 5 |  8 |\n| NA |  NA | 14.3 | 56 | 5 |  5 |\n| 28 |  NA | 14.9 | 66 | 5 |  6 |\n|  8 |  19 | 20.1 | 61 | 5 |  9 |\n\n",
            "text/latex": "A data.frame: 10 × 6\n\\begin{tabular}{llllll}\n Ozone & Solar.R & Wind & Temp & Month & Day\\\\\n <int> & <int> & <dbl> & <int> & <int> & <int>\\\\\n\\hline\n\t 41 & 190 &  7.4 & 67 & 5 &  1\\\\\n\t 36 & 118 &  8.0 & 72 & 5 &  2\\\\\n\t 23 & 299 &  8.6 & 65 & 5 &  7\\\\\n\t NA & 194 &  8.6 & 69 & 5 & 10\\\\\n\t 18 & 313 & 11.5 & 62 & 5 &  4\\\\\n\t 12 & 149 & 12.6 & 74 & 5 &  3\\\\\n\t 19 &  99 & 13.8 & 59 & 5 &  8\\\\\n\t NA &  NA & 14.3 & 56 & 5 &  5\\\\\n\t 28 &  NA & 14.9 & 66 & 5 &  6\\\\\n\t  8 &  19 & 20.1 & 61 & 5 &  9\\\\\n\\end{tabular}\n",
            "text/plain": [
              "   Ozone Solar.R Wind Temp Month Day\n",
              "1  41    190      7.4 67   5      1 \n",
              "2  36    118      8.0 72   5      2 \n",
              "3  23    299      8.6 65   5      7 \n",
              "4  NA    194      8.6 69   5     10 \n",
              "5  18    313     11.5 62   5      4 \n",
              "6  12    149     12.6 74   5      3 \n",
              "7  19     99     13.8 59   5      8 \n",
              "8  NA     NA     14.3 56   5      5 \n",
              "9  28     NA     14.9 66   5      6 \n",
              "10  8     19     20.1 61   5      9 "
            ]
          },
          "metadata": {}
        }
      ]
    },
    {
      "cell_type": "code",
      "source": [
        "airquality %>% slice(1:10) %>% arrange(desc(Wind))"
      ],
      "metadata": {
        "colab": {
          "base_uri": "https://localhost:8080/",
          "height": 411
        },
        "id": "CAUdiupRvxQO",
        "outputId": "77c536be-e000-4194-97e2-1dbdb9f21a9c"
      },
      "execution_count": null,
      "outputs": [
        {
          "output_type": "display_data",
          "data": {
            "text/html": [
              "<table class=\"dataframe\">\n",
              "<caption>A data.frame: 10 × 6</caption>\n",
              "<thead>\n",
              "\t<tr><th scope=col>Ozone</th><th scope=col>Solar.R</th><th scope=col>Wind</th><th scope=col>Temp</th><th scope=col>Month</th><th scope=col>Day</th></tr>\n",
              "\t<tr><th scope=col>&lt;int&gt;</th><th scope=col>&lt;int&gt;</th><th scope=col>&lt;dbl&gt;</th><th scope=col>&lt;int&gt;</th><th scope=col>&lt;int&gt;</th><th scope=col>&lt;int&gt;</th></tr>\n",
              "</thead>\n",
              "<tbody>\n",
              "\t<tr><td> 8</td><td> 19</td><td>20.1</td><td>61</td><td>5</td><td> 9</td></tr>\n",
              "\t<tr><td>28</td><td> NA</td><td>14.9</td><td>66</td><td>5</td><td> 6</td></tr>\n",
              "\t<tr><td>NA</td><td> NA</td><td>14.3</td><td>56</td><td>5</td><td> 5</td></tr>\n",
              "\t<tr><td>19</td><td> 99</td><td>13.8</td><td>59</td><td>5</td><td> 8</td></tr>\n",
              "\t<tr><td>12</td><td>149</td><td>12.6</td><td>74</td><td>5</td><td> 3</td></tr>\n",
              "\t<tr><td>18</td><td>313</td><td>11.5</td><td>62</td><td>5</td><td> 4</td></tr>\n",
              "\t<tr><td>23</td><td>299</td><td> 8.6</td><td>65</td><td>5</td><td> 7</td></tr>\n",
              "\t<tr><td>NA</td><td>194</td><td> 8.6</td><td>69</td><td>5</td><td>10</td></tr>\n",
              "\t<tr><td>36</td><td>118</td><td> 8.0</td><td>72</td><td>5</td><td> 2</td></tr>\n",
              "\t<tr><td>41</td><td>190</td><td> 7.4</td><td>67</td><td>5</td><td> 1</td></tr>\n",
              "</tbody>\n",
              "</table>\n"
            ],
            "text/markdown": "\nA data.frame: 10 × 6\n\n| Ozone &lt;int&gt; | Solar.R &lt;int&gt; | Wind &lt;dbl&gt; | Temp &lt;int&gt; | Month &lt;int&gt; | Day &lt;int&gt; |\n|---|---|---|---|---|---|\n|  8 |  19 | 20.1 | 61 | 5 |  9 |\n| 28 |  NA | 14.9 | 66 | 5 |  6 |\n| NA |  NA | 14.3 | 56 | 5 |  5 |\n| 19 |  99 | 13.8 | 59 | 5 |  8 |\n| 12 | 149 | 12.6 | 74 | 5 |  3 |\n| 18 | 313 | 11.5 | 62 | 5 |  4 |\n| 23 | 299 |  8.6 | 65 | 5 |  7 |\n| NA | 194 |  8.6 | 69 | 5 | 10 |\n| 36 | 118 |  8.0 | 72 | 5 |  2 |\n| 41 | 190 |  7.4 | 67 | 5 |  1 |\n\n",
            "text/latex": "A data.frame: 10 × 6\n\\begin{tabular}{llllll}\n Ozone & Solar.R & Wind & Temp & Month & Day\\\\\n <int> & <int> & <dbl> & <int> & <int> & <int>\\\\\n\\hline\n\t  8 &  19 & 20.1 & 61 & 5 &  9\\\\\n\t 28 &  NA & 14.9 & 66 & 5 &  6\\\\\n\t NA &  NA & 14.3 & 56 & 5 &  5\\\\\n\t 19 &  99 & 13.8 & 59 & 5 &  8\\\\\n\t 12 & 149 & 12.6 & 74 & 5 &  3\\\\\n\t 18 & 313 & 11.5 & 62 & 5 &  4\\\\\n\t 23 & 299 &  8.6 & 65 & 5 &  7\\\\\n\t NA & 194 &  8.6 & 69 & 5 & 10\\\\\n\t 36 & 118 &  8.0 & 72 & 5 &  2\\\\\n\t 41 & 190 &  7.4 & 67 & 5 &  1\\\\\n\\end{tabular}\n",
            "text/plain": [
              "   Ozone Solar.R Wind Temp Month Day\n",
              "1   8     19     20.1 61   5      9 \n",
              "2  28     NA     14.9 66   5      6 \n",
              "3  NA     NA     14.3 56   5      5 \n",
              "4  19     99     13.8 59   5      8 \n",
              "5  12    149     12.6 74   5      3 \n",
              "6  18    313     11.5 62   5      4 \n",
              "7  23    299      8.6 65   5      7 \n",
              "8  NA    194      8.6 69   5     10 \n",
              "9  36    118      8.0 72   5      2 \n",
              "10 41    190      7.4 67   5      1 "
            ]
          },
          "metadata": {}
        }
      ]
    },
    {
      "cell_type": "code",
      "source": [
        "airquality %>% slice(1:10) %>% arrange(desc(Wind),desc(Temp))"
      ],
      "metadata": {
        "colab": {
          "base_uri": "https://localhost:8080/",
          "height": 411
        },
        "id": "Vd49cFrlwIlO",
        "outputId": "5a27bd8f-5752-46b9-998b-59844b474076"
      },
      "execution_count": null,
      "outputs": [
        {
          "output_type": "display_data",
          "data": {
            "text/html": [
              "<table class=\"dataframe\">\n",
              "<caption>A data.frame: 10 × 6</caption>\n",
              "<thead>\n",
              "\t<tr><th scope=col>Ozone</th><th scope=col>Solar.R</th><th scope=col>Wind</th><th scope=col>Temp</th><th scope=col>Month</th><th scope=col>Day</th></tr>\n",
              "\t<tr><th scope=col>&lt;int&gt;</th><th scope=col>&lt;int&gt;</th><th scope=col>&lt;dbl&gt;</th><th scope=col>&lt;int&gt;</th><th scope=col>&lt;int&gt;</th><th scope=col>&lt;int&gt;</th></tr>\n",
              "</thead>\n",
              "<tbody>\n",
              "\t<tr><td> 8</td><td> 19</td><td>20.1</td><td>61</td><td>5</td><td> 9</td></tr>\n",
              "\t<tr><td>28</td><td> NA</td><td>14.9</td><td>66</td><td>5</td><td> 6</td></tr>\n",
              "\t<tr><td>NA</td><td> NA</td><td>14.3</td><td>56</td><td>5</td><td> 5</td></tr>\n",
              "\t<tr><td>19</td><td> 99</td><td>13.8</td><td>59</td><td>5</td><td> 8</td></tr>\n",
              "\t<tr><td>12</td><td>149</td><td>12.6</td><td>74</td><td>5</td><td> 3</td></tr>\n",
              "\t<tr><td>18</td><td>313</td><td>11.5</td><td>62</td><td>5</td><td> 4</td></tr>\n",
              "\t<tr><td>NA</td><td>194</td><td> 8.6</td><td>69</td><td>5</td><td>10</td></tr>\n",
              "\t<tr><td>23</td><td>299</td><td> 8.6</td><td>65</td><td>5</td><td> 7</td></tr>\n",
              "\t<tr><td>36</td><td>118</td><td> 8.0</td><td>72</td><td>5</td><td> 2</td></tr>\n",
              "\t<tr><td>41</td><td>190</td><td> 7.4</td><td>67</td><td>5</td><td> 1</td></tr>\n",
              "</tbody>\n",
              "</table>\n"
            ],
            "text/markdown": "\nA data.frame: 10 × 6\n\n| Ozone &lt;int&gt; | Solar.R &lt;int&gt; | Wind &lt;dbl&gt; | Temp &lt;int&gt; | Month &lt;int&gt; | Day &lt;int&gt; |\n|---|---|---|---|---|---|\n|  8 |  19 | 20.1 | 61 | 5 |  9 |\n| 28 |  NA | 14.9 | 66 | 5 |  6 |\n| NA |  NA | 14.3 | 56 | 5 |  5 |\n| 19 |  99 | 13.8 | 59 | 5 |  8 |\n| 12 | 149 | 12.6 | 74 | 5 |  3 |\n| 18 | 313 | 11.5 | 62 | 5 |  4 |\n| NA | 194 |  8.6 | 69 | 5 | 10 |\n| 23 | 299 |  8.6 | 65 | 5 |  7 |\n| 36 | 118 |  8.0 | 72 | 5 |  2 |\n| 41 | 190 |  7.4 | 67 | 5 |  1 |\n\n",
            "text/latex": "A data.frame: 10 × 6\n\\begin{tabular}{llllll}\n Ozone & Solar.R & Wind & Temp & Month & Day\\\\\n <int> & <int> & <dbl> & <int> & <int> & <int>\\\\\n\\hline\n\t  8 &  19 & 20.1 & 61 & 5 &  9\\\\\n\t 28 &  NA & 14.9 & 66 & 5 &  6\\\\\n\t NA &  NA & 14.3 & 56 & 5 &  5\\\\\n\t 19 &  99 & 13.8 & 59 & 5 &  8\\\\\n\t 12 & 149 & 12.6 & 74 & 5 &  3\\\\\n\t 18 & 313 & 11.5 & 62 & 5 &  4\\\\\n\t NA & 194 &  8.6 & 69 & 5 & 10\\\\\n\t 23 & 299 &  8.6 & 65 & 5 &  7\\\\\n\t 36 & 118 &  8.0 & 72 & 5 &  2\\\\\n\t 41 & 190 &  7.4 & 67 & 5 &  1\\\\\n\\end{tabular}\n",
            "text/plain": [
              "   Ozone Solar.R Wind Temp Month Day\n",
              "1   8     19     20.1 61   5      9 \n",
              "2  28     NA     14.9 66   5      6 \n",
              "3  NA     NA     14.3 56   5      5 \n",
              "4  19     99     13.8 59   5      8 \n",
              "5  12    149     12.6 74   5      3 \n",
              "6  18    313     11.5 62   5      4 \n",
              "7  NA    194      8.6 69   5     10 \n",
              "8  23    299      8.6 65   5      7 \n",
              "9  36    118      8.0 72   5      2 \n",
              "10 41    190      7.4 67   5      1 "
            ]
          },
          "metadata": {}
        }
      ]
    },
    {
      "cell_type": "code",
      "source": [
        "airquality %>% slice(1:10) %>% arrange(desc(Day),desc(Ozone),Temp,Month)"
      ],
      "metadata": {
        "colab": {
          "base_uri": "https://localhost:8080/",
          "height": 411
        },
        "id": "7zCfmE-9yP2q",
        "outputId": "6f428e44-ed57-4de8-cfc4-347c1ab8813d"
      },
      "execution_count": null,
      "outputs": [
        {
          "output_type": "display_data",
          "data": {
            "text/html": [
              "<table class=\"dataframe\">\n",
              "<caption>A data.frame: 10 × 6</caption>\n",
              "<thead>\n",
              "\t<tr><th scope=col>Ozone</th><th scope=col>Solar.R</th><th scope=col>Wind</th><th scope=col>Temp</th><th scope=col>Month</th><th scope=col>Day</th></tr>\n",
              "\t<tr><th scope=col>&lt;int&gt;</th><th scope=col>&lt;int&gt;</th><th scope=col>&lt;dbl&gt;</th><th scope=col>&lt;int&gt;</th><th scope=col>&lt;int&gt;</th><th scope=col>&lt;int&gt;</th></tr>\n",
              "</thead>\n",
              "<tbody>\n",
              "\t<tr><td>NA</td><td>194</td><td> 8.6</td><td>69</td><td>5</td><td>10</td></tr>\n",
              "\t<tr><td> 8</td><td> 19</td><td>20.1</td><td>61</td><td>5</td><td> 9</td></tr>\n",
              "\t<tr><td>19</td><td> 99</td><td>13.8</td><td>59</td><td>5</td><td> 8</td></tr>\n",
              "\t<tr><td>23</td><td>299</td><td> 8.6</td><td>65</td><td>5</td><td> 7</td></tr>\n",
              "\t<tr><td>28</td><td> NA</td><td>14.9</td><td>66</td><td>5</td><td> 6</td></tr>\n",
              "\t<tr><td>NA</td><td> NA</td><td>14.3</td><td>56</td><td>5</td><td> 5</td></tr>\n",
              "\t<tr><td>18</td><td>313</td><td>11.5</td><td>62</td><td>5</td><td> 4</td></tr>\n",
              "\t<tr><td>12</td><td>149</td><td>12.6</td><td>74</td><td>5</td><td> 3</td></tr>\n",
              "\t<tr><td>36</td><td>118</td><td> 8.0</td><td>72</td><td>5</td><td> 2</td></tr>\n",
              "\t<tr><td>41</td><td>190</td><td> 7.4</td><td>67</td><td>5</td><td> 1</td></tr>\n",
              "</tbody>\n",
              "</table>\n"
            ],
            "text/markdown": "\nA data.frame: 10 × 6\n\n| Ozone &lt;int&gt; | Solar.R &lt;int&gt; | Wind &lt;dbl&gt; | Temp &lt;int&gt; | Month &lt;int&gt; | Day &lt;int&gt; |\n|---|---|---|---|---|---|\n| NA | 194 |  8.6 | 69 | 5 | 10 |\n|  8 |  19 | 20.1 | 61 | 5 |  9 |\n| 19 |  99 | 13.8 | 59 | 5 |  8 |\n| 23 | 299 |  8.6 | 65 | 5 |  7 |\n| 28 |  NA | 14.9 | 66 | 5 |  6 |\n| NA |  NA | 14.3 | 56 | 5 |  5 |\n| 18 | 313 | 11.5 | 62 | 5 |  4 |\n| 12 | 149 | 12.6 | 74 | 5 |  3 |\n| 36 | 118 |  8.0 | 72 | 5 |  2 |\n| 41 | 190 |  7.4 | 67 | 5 |  1 |\n\n",
            "text/latex": "A data.frame: 10 × 6\n\\begin{tabular}{llllll}\n Ozone & Solar.R & Wind & Temp & Month & Day\\\\\n <int> & <int> & <dbl> & <int> & <int> & <int>\\\\\n\\hline\n\t NA & 194 &  8.6 & 69 & 5 & 10\\\\\n\t  8 &  19 & 20.1 & 61 & 5 &  9\\\\\n\t 19 &  99 & 13.8 & 59 & 5 &  8\\\\\n\t 23 & 299 &  8.6 & 65 & 5 &  7\\\\\n\t 28 &  NA & 14.9 & 66 & 5 &  6\\\\\n\t NA &  NA & 14.3 & 56 & 5 &  5\\\\\n\t 18 & 313 & 11.5 & 62 & 5 &  4\\\\\n\t 12 & 149 & 12.6 & 74 & 5 &  3\\\\\n\t 36 & 118 &  8.0 & 72 & 5 &  2\\\\\n\t 41 & 190 &  7.4 & 67 & 5 &  1\\\\\n\\end{tabular}\n",
            "text/plain": [
              "   Ozone Solar.R Wind Temp Month Day\n",
              "1  NA    194      8.6 69   5     10 \n",
              "2   8     19     20.1 61   5      9 \n",
              "3  19     99     13.8 59   5      8 \n",
              "4  23    299      8.6 65   5      7 \n",
              "5  28     NA     14.9 66   5      6 \n",
              "6  NA     NA     14.3 56   5      5 \n",
              "7  18    313     11.5 62   5      4 \n",
              "8  12    149     12.6 74   5      3 \n",
              "9  36    118      8.0 72   5      2 \n",
              "10 41    190      7.4 67   5      1 "
            ]
          },
          "metadata": {}
        }
      ]
    },
    {
      "cell_type": "code",
      "source": [
        "airquality %>% slice(1:10) %>% arrange(desc(Day))"
      ],
      "metadata": {
        "colab": {
          "base_uri": "https://localhost:8080/",
          "height": 411
        },
        "id": "4wx0yHgyzcE8",
        "outputId": "753b2f2a-2c5b-4576-e4e2-0aed75d9d34a"
      },
      "execution_count": null,
      "outputs": [
        {
          "output_type": "display_data",
          "data": {
            "text/html": [
              "<table class=\"dataframe\">\n",
              "<caption>A data.frame: 10 × 6</caption>\n",
              "<thead>\n",
              "\t<tr><th scope=col>Ozone</th><th scope=col>Solar.R</th><th scope=col>Wind</th><th scope=col>Temp</th><th scope=col>Month</th><th scope=col>Day</th></tr>\n",
              "\t<tr><th scope=col>&lt;int&gt;</th><th scope=col>&lt;int&gt;</th><th scope=col>&lt;dbl&gt;</th><th scope=col>&lt;int&gt;</th><th scope=col>&lt;int&gt;</th><th scope=col>&lt;int&gt;</th></tr>\n",
              "</thead>\n",
              "<tbody>\n",
              "\t<tr><td>NA</td><td>194</td><td> 8.6</td><td>69</td><td>5</td><td>10</td></tr>\n",
              "\t<tr><td> 8</td><td> 19</td><td>20.1</td><td>61</td><td>5</td><td> 9</td></tr>\n",
              "\t<tr><td>19</td><td> 99</td><td>13.8</td><td>59</td><td>5</td><td> 8</td></tr>\n",
              "\t<tr><td>23</td><td>299</td><td> 8.6</td><td>65</td><td>5</td><td> 7</td></tr>\n",
              "\t<tr><td>28</td><td> NA</td><td>14.9</td><td>66</td><td>5</td><td> 6</td></tr>\n",
              "\t<tr><td>NA</td><td> NA</td><td>14.3</td><td>56</td><td>5</td><td> 5</td></tr>\n",
              "\t<tr><td>18</td><td>313</td><td>11.5</td><td>62</td><td>5</td><td> 4</td></tr>\n",
              "\t<tr><td>12</td><td>149</td><td>12.6</td><td>74</td><td>5</td><td> 3</td></tr>\n",
              "\t<tr><td>36</td><td>118</td><td> 8.0</td><td>72</td><td>5</td><td> 2</td></tr>\n",
              "\t<tr><td>41</td><td>190</td><td> 7.4</td><td>67</td><td>5</td><td> 1</td></tr>\n",
              "</tbody>\n",
              "</table>\n"
            ],
            "text/markdown": "\nA data.frame: 10 × 6\n\n| Ozone &lt;int&gt; | Solar.R &lt;int&gt; | Wind &lt;dbl&gt; | Temp &lt;int&gt; | Month &lt;int&gt; | Day &lt;int&gt; |\n|---|---|---|---|---|---|\n| NA | 194 |  8.6 | 69 | 5 | 10 |\n|  8 |  19 | 20.1 | 61 | 5 |  9 |\n| 19 |  99 | 13.8 | 59 | 5 |  8 |\n| 23 | 299 |  8.6 | 65 | 5 |  7 |\n| 28 |  NA | 14.9 | 66 | 5 |  6 |\n| NA |  NA | 14.3 | 56 | 5 |  5 |\n| 18 | 313 | 11.5 | 62 | 5 |  4 |\n| 12 | 149 | 12.6 | 74 | 5 |  3 |\n| 36 | 118 |  8.0 | 72 | 5 |  2 |\n| 41 | 190 |  7.4 | 67 | 5 |  1 |\n\n",
            "text/latex": "A data.frame: 10 × 6\n\\begin{tabular}{llllll}\n Ozone & Solar.R & Wind & Temp & Month & Day\\\\\n <int> & <int> & <dbl> & <int> & <int> & <int>\\\\\n\\hline\n\t NA & 194 &  8.6 & 69 & 5 & 10\\\\\n\t  8 &  19 & 20.1 & 61 & 5 &  9\\\\\n\t 19 &  99 & 13.8 & 59 & 5 &  8\\\\\n\t 23 & 299 &  8.6 & 65 & 5 &  7\\\\\n\t 28 &  NA & 14.9 & 66 & 5 &  6\\\\\n\t NA &  NA & 14.3 & 56 & 5 &  5\\\\\n\t 18 & 313 & 11.5 & 62 & 5 &  4\\\\\n\t 12 & 149 & 12.6 & 74 & 5 &  3\\\\\n\t 36 & 118 &  8.0 & 72 & 5 &  2\\\\\n\t 41 & 190 &  7.4 & 67 & 5 &  1\\\\\n\\end{tabular}\n",
            "text/plain": [
              "   Ozone Solar.R Wind Temp Month Day\n",
              "1  NA    194      8.6 69   5     10 \n",
              "2   8     19     20.1 61   5      9 \n",
              "3  19     99     13.8 59   5      8 \n",
              "4  23    299      8.6 65   5      7 \n",
              "5  28     NA     14.9 66   5      6 \n",
              "6  NA     NA     14.3 56   5      5 \n",
              "7  18    313     11.5 62   5      4 \n",
              "8  12    149     12.6 74   5      3 \n",
              "9  36    118      8.0 72   5      2 \n",
              "10 41    190      7.4 67   5      1 "
            ]
          },
          "metadata": {}
        }
      ]
    },
    {
      "cell_type": "markdown",
      "source": [
        "Quiz: repeat the last result without utilization of desc() function."
      ],
      "metadata": {
        "id": "l0P8Ha7otc2z"
      }
    },
    {
      "cell_type": "code",
      "source": [
        "#your turn"
      ],
      "metadata": {
        "id": "b6vx8SH4tr0S"
      },
      "execution_count": null,
      "outputs": []
    },
    {
      "cell_type": "markdown",
      "source": [
        "## **Group_by**"
      ],
      "metadata": {
        "id": "Hs1hjWcrpxZY"
      }
    },
    {
      "cell_type": "code",
      "source": [
        "airquality"
      ],
      "metadata": {
        "colab": {
          "base_uri": "https://localhost:8080/",
          "height": 1000
        },
        "id": "88bZVdhe0fCj",
        "outputId": "d201f768-8624-4cf2-e8e5-0c48c6789670"
      },
      "execution_count": null,
      "outputs": [
        {
          "output_type": "display_data",
          "data": {
            "text/html": [
              "<table class=\"dataframe\">\n",
              "<caption>A data.frame: 153 × 6</caption>\n",
              "<thead>\n",
              "\t<tr><th scope=col>Ozone</th><th scope=col>Solar.R</th><th scope=col>Wind</th><th scope=col>Temp</th><th scope=col>Month</th><th scope=col>Day</th></tr>\n",
              "\t<tr><th scope=col>&lt;int&gt;</th><th scope=col>&lt;int&gt;</th><th scope=col>&lt;dbl&gt;</th><th scope=col>&lt;int&gt;</th><th scope=col>&lt;int&gt;</th><th scope=col>&lt;int&gt;</th></tr>\n",
              "</thead>\n",
              "<tbody>\n",
              "\t<tr><td> 41</td><td>190</td><td> 7.4</td><td>67</td><td>5</td><td> 1</td></tr>\n",
              "\t<tr><td> 36</td><td>118</td><td> 8.0</td><td>72</td><td>5</td><td> 2</td></tr>\n",
              "\t<tr><td> 12</td><td>149</td><td>12.6</td><td>74</td><td>5</td><td> 3</td></tr>\n",
              "\t<tr><td> 18</td><td>313</td><td>11.5</td><td>62</td><td>5</td><td> 4</td></tr>\n",
              "\t<tr><td> NA</td><td> NA</td><td>14.3</td><td>56</td><td>5</td><td> 5</td></tr>\n",
              "\t<tr><td> 28</td><td> NA</td><td>14.9</td><td>66</td><td>5</td><td> 6</td></tr>\n",
              "\t<tr><td> 23</td><td>299</td><td> 8.6</td><td>65</td><td>5</td><td> 7</td></tr>\n",
              "\t<tr><td> 19</td><td> 99</td><td>13.8</td><td>59</td><td>5</td><td> 8</td></tr>\n",
              "\t<tr><td>  8</td><td> 19</td><td>20.1</td><td>61</td><td>5</td><td> 9</td></tr>\n",
              "\t<tr><td> NA</td><td>194</td><td> 8.6</td><td>69</td><td>5</td><td>10</td></tr>\n",
              "\t<tr><td>  7</td><td> NA</td><td> 6.9</td><td>74</td><td>5</td><td>11</td></tr>\n",
              "\t<tr><td> 16</td><td>256</td><td> 9.7</td><td>69</td><td>5</td><td>12</td></tr>\n",
              "\t<tr><td> 11</td><td>290</td><td> 9.2</td><td>66</td><td>5</td><td>13</td></tr>\n",
              "\t<tr><td> 14</td><td>274</td><td>10.9</td><td>68</td><td>5</td><td>14</td></tr>\n",
              "\t<tr><td> 18</td><td> 65</td><td>13.2</td><td>58</td><td>5</td><td>15</td></tr>\n",
              "\t<tr><td> 14</td><td>334</td><td>11.5</td><td>64</td><td>5</td><td>16</td></tr>\n",
              "\t<tr><td> 34</td><td>307</td><td>12.0</td><td>66</td><td>5</td><td>17</td></tr>\n",
              "\t<tr><td>  6</td><td> 78</td><td>18.4</td><td>57</td><td>5</td><td>18</td></tr>\n",
              "\t<tr><td> 30</td><td>322</td><td>11.5</td><td>68</td><td>5</td><td>19</td></tr>\n",
              "\t<tr><td> 11</td><td> 44</td><td> 9.7</td><td>62</td><td>5</td><td>20</td></tr>\n",
              "\t<tr><td>  1</td><td>  8</td><td> 9.7</td><td>59</td><td>5</td><td>21</td></tr>\n",
              "\t<tr><td> 11</td><td>320</td><td>16.6</td><td>73</td><td>5</td><td>22</td></tr>\n",
              "\t<tr><td>  4</td><td> 25</td><td> 9.7</td><td>61</td><td>5</td><td>23</td></tr>\n",
              "\t<tr><td> 32</td><td> 92</td><td>12.0</td><td>61</td><td>5</td><td>24</td></tr>\n",
              "\t<tr><td> NA</td><td> 66</td><td>16.6</td><td>57</td><td>5</td><td>25</td></tr>\n",
              "\t<tr><td> NA</td><td>266</td><td>14.9</td><td>58</td><td>5</td><td>26</td></tr>\n",
              "\t<tr><td> NA</td><td> NA</td><td> 8.0</td><td>57</td><td>5</td><td>27</td></tr>\n",
              "\t<tr><td> 23</td><td> 13</td><td>12.0</td><td>67</td><td>5</td><td>28</td></tr>\n",
              "\t<tr><td> 45</td><td>252</td><td>14.9</td><td>81</td><td>5</td><td>29</td></tr>\n",
              "\t<tr><td>115</td><td>223</td><td> 5.7</td><td>79</td><td>5</td><td>30</td></tr>\n",
              "\t<tr><td>⋮</td><td>⋮</td><td>⋮</td><td>⋮</td><td>⋮</td><td>⋮</td></tr>\n",
              "\t<tr><td>96</td><td>167</td><td> 6.9</td><td>91</td><td>9</td><td> 1</td></tr>\n",
              "\t<tr><td>78</td><td>197</td><td> 5.1</td><td>92</td><td>9</td><td> 2</td></tr>\n",
              "\t<tr><td>73</td><td>183</td><td> 2.8</td><td>93</td><td>9</td><td> 3</td></tr>\n",
              "\t<tr><td>91</td><td>189</td><td> 4.6</td><td>93</td><td>9</td><td> 4</td></tr>\n",
              "\t<tr><td>47</td><td> 95</td><td> 7.4</td><td>87</td><td>9</td><td> 5</td></tr>\n",
              "\t<tr><td>32</td><td> 92</td><td>15.5</td><td>84</td><td>9</td><td> 6</td></tr>\n",
              "\t<tr><td>20</td><td>252</td><td>10.9</td><td>80</td><td>9</td><td> 7</td></tr>\n",
              "\t<tr><td>23</td><td>220</td><td>10.3</td><td>78</td><td>9</td><td> 8</td></tr>\n",
              "\t<tr><td>21</td><td>230</td><td>10.9</td><td>75</td><td>9</td><td> 9</td></tr>\n",
              "\t<tr><td>24</td><td>259</td><td> 9.7</td><td>73</td><td>9</td><td>10</td></tr>\n",
              "\t<tr><td>44</td><td>236</td><td>14.9</td><td>81</td><td>9</td><td>11</td></tr>\n",
              "\t<tr><td>21</td><td>259</td><td>15.5</td><td>76</td><td>9</td><td>12</td></tr>\n",
              "\t<tr><td>28</td><td>238</td><td> 6.3</td><td>77</td><td>9</td><td>13</td></tr>\n",
              "\t<tr><td> 9</td><td> 24</td><td>10.9</td><td>71</td><td>9</td><td>14</td></tr>\n",
              "\t<tr><td>13</td><td>112</td><td>11.5</td><td>71</td><td>9</td><td>15</td></tr>\n",
              "\t<tr><td>46</td><td>237</td><td> 6.9</td><td>78</td><td>9</td><td>16</td></tr>\n",
              "\t<tr><td>18</td><td>224</td><td>13.8</td><td>67</td><td>9</td><td>17</td></tr>\n",
              "\t<tr><td>13</td><td> 27</td><td>10.3</td><td>76</td><td>9</td><td>18</td></tr>\n",
              "\t<tr><td>24</td><td>238</td><td>10.3</td><td>68</td><td>9</td><td>19</td></tr>\n",
              "\t<tr><td>16</td><td>201</td><td> 8.0</td><td>82</td><td>9</td><td>20</td></tr>\n",
              "\t<tr><td>13</td><td>238</td><td>12.6</td><td>64</td><td>9</td><td>21</td></tr>\n",
              "\t<tr><td>23</td><td> 14</td><td> 9.2</td><td>71</td><td>9</td><td>22</td></tr>\n",
              "\t<tr><td>36</td><td>139</td><td>10.3</td><td>81</td><td>9</td><td>23</td></tr>\n",
              "\t<tr><td> 7</td><td> 49</td><td>10.3</td><td>69</td><td>9</td><td>24</td></tr>\n",
              "\t<tr><td>14</td><td> 20</td><td>16.6</td><td>63</td><td>9</td><td>25</td></tr>\n",
              "\t<tr><td>30</td><td>193</td><td> 6.9</td><td>70</td><td>9</td><td>26</td></tr>\n",
              "\t<tr><td>NA</td><td>145</td><td>13.2</td><td>77</td><td>9</td><td>27</td></tr>\n",
              "\t<tr><td>14</td><td>191</td><td>14.3</td><td>75</td><td>9</td><td>28</td></tr>\n",
              "\t<tr><td>18</td><td>131</td><td> 8.0</td><td>76</td><td>9</td><td>29</td></tr>\n",
              "\t<tr><td>20</td><td>223</td><td>11.5</td><td>68</td><td>9</td><td>30</td></tr>\n",
              "</tbody>\n",
              "</table>\n"
            ],
            "text/markdown": "\nA data.frame: 153 × 6\n\n| Ozone &lt;int&gt; | Solar.R &lt;int&gt; | Wind &lt;dbl&gt; | Temp &lt;int&gt; | Month &lt;int&gt; | Day &lt;int&gt; |\n|---|---|---|---|---|---|\n|  41 | 190 |  7.4 | 67 | 5 |  1 |\n|  36 | 118 |  8.0 | 72 | 5 |  2 |\n|  12 | 149 | 12.6 | 74 | 5 |  3 |\n|  18 | 313 | 11.5 | 62 | 5 |  4 |\n|  NA |  NA | 14.3 | 56 | 5 |  5 |\n|  28 |  NA | 14.9 | 66 | 5 |  6 |\n|  23 | 299 |  8.6 | 65 | 5 |  7 |\n|  19 |  99 | 13.8 | 59 | 5 |  8 |\n|   8 |  19 | 20.1 | 61 | 5 |  9 |\n|  NA | 194 |  8.6 | 69 | 5 | 10 |\n|   7 |  NA |  6.9 | 74 | 5 | 11 |\n|  16 | 256 |  9.7 | 69 | 5 | 12 |\n|  11 | 290 |  9.2 | 66 | 5 | 13 |\n|  14 | 274 | 10.9 | 68 | 5 | 14 |\n|  18 |  65 | 13.2 | 58 | 5 | 15 |\n|  14 | 334 | 11.5 | 64 | 5 | 16 |\n|  34 | 307 | 12.0 | 66 | 5 | 17 |\n|   6 |  78 | 18.4 | 57 | 5 | 18 |\n|  30 | 322 | 11.5 | 68 | 5 | 19 |\n|  11 |  44 |  9.7 | 62 | 5 | 20 |\n|   1 |   8 |  9.7 | 59 | 5 | 21 |\n|  11 | 320 | 16.6 | 73 | 5 | 22 |\n|   4 |  25 |  9.7 | 61 | 5 | 23 |\n|  32 |  92 | 12.0 | 61 | 5 | 24 |\n|  NA |  66 | 16.6 | 57 | 5 | 25 |\n|  NA | 266 | 14.9 | 58 | 5 | 26 |\n|  NA |  NA |  8.0 | 57 | 5 | 27 |\n|  23 |  13 | 12.0 | 67 | 5 | 28 |\n|  45 | 252 | 14.9 | 81 | 5 | 29 |\n| 115 | 223 |  5.7 | 79 | 5 | 30 |\n| ⋮ | ⋮ | ⋮ | ⋮ | ⋮ | ⋮ |\n| 96 | 167 |  6.9 | 91 | 9 |  1 |\n| 78 | 197 |  5.1 | 92 | 9 |  2 |\n| 73 | 183 |  2.8 | 93 | 9 |  3 |\n| 91 | 189 |  4.6 | 93 | 9 |  4 |\n| 47 |  95 |  7.4 | 87 | 9 |  5 |\n| 32 |  92 | 15.5 | 84 | 9 |  6 |\n| 20 | 252 | 10.9 | 80 | 9 |  7 |\n| 23 | 220 | 10.3 | 78 | 9 |  8 |\n| 21 | 230 | 10.9 | 75 | 9 |  9 |\n| 24 | 259 |  9.7 | 73 | 9 | 10 |\n| 44 | 236 | 14.9 | 81 | 9 | 11 |\n| 21 | 259 | 15.5 | 76 | 9 | 12 |\n| 28 | 238 |  6.3 | 77 | 9 | 13 |\n|  9 |  24 | 10.9 | 71 | 9 | 14 |\n| 13 | 112 | 11.5 | 71 | 9 | 15 |\n| 46 | 237 |  6.9 | 78 | 9 | 16 |\n| 18 | 224 | 13.8 | 67 | 9 | 17 |\n| 13 |  27 | 10.3 | 76 | 9 | 18 |\n| 24 | 238 | 10.3 | 68 | 9 | 19 |\n| 16 | 201 |  8.0 | 82 | 9 | 20 |\n| 13 | 238 | 12.6 | 64 | 9 | 21 |\n| 23 |  14 |  9.2 | 71 | 9 | 22 |\n| 36 | 139 | 10.3 | 81 | 9 | 23 |\n|  7 |  49 | 10.3 | 69 | 9 | 24 |\n| 14 |  20 | 16.6 | 63 | 9 | 25 |\n| 30 | 193 |  6.9 | 70 | 9 | 26 |\n| NA | 145 | 13.2 | 77 | 9 | 27 |\n| 14 | 191 | 14.3 | 75 | 9 | 28 |\n| 18 | 131 |  8.0 | 76 | 9 | 29 |\n| 20 | 223 | 11.5 | 68 | 9 | 30 |\n\n",
            "text/latex": "A data.frame: 153 × 6\n\\begin{tabular}{llllll}\n Ozone & Solar.R & Wind & Temp & Month & Day\\\\\n <int> & <int> & <dbl> & <int> & <int> & <int>\\\\\n\\hline\n\t  41 & 190 &  7.4 & 67 & 5 &  1\\\\\n\t  36 & 118 &  8.0 & 72 & 5 &  2\\\\\n\t  12 & 149 & 12.6 & 74 & 5 &  3\\\\\n\t  18 & 313 & 11.5 & 62 & 5 &  4\\\\\n\t  NA &  NA & 14.3 & 56 & 5 &  5\\\\\n\t  28 &  NA & 14.9 & 66 & 5 &  6\\\\\n\t  23 & 299 &  8.6 & 65 & 5 &  7\\\\\n\t  19 &  99 & 13.8 & 59 & 5 &  8\\\\\n\t   8 &  19 & 20.1 & 61 & 5 &  9\\\\\n\t  NA & 194 &  8.6 & 69 & 5 & 10\\\\\n\t   7 &  NA &  6.9 & 74 & 5 & 11\\\\\n\t  16 & 256 &  9.7 & 69 & 5 & 12\\\\\n\t  11 & 290 &  9.2 & 66 & 5 & 13\\\\\n\t  14 & 274 & 10.9 & 68 & 5 & 14\\\\\n\t  18 &  65 & 13.2 & 58 & 5 & 15\\\\\n\t  14 & 334 & 11.5 & 64 & 5 & 16\\\\\n\t  34 & 307 & 12.0 & 66 & 5 & 17\\\\\n\t   6 &  78 & 18.4 & 57 & 5 & 18\\\\\n\t  30 & 322 & 11.5 & 68 & 5 & 19\\\\\n\t  11 &  44 &  9.7 & 62 & 5 & 20\\\\\n\t   1 &   8 &  9.7 & 59 & 5 & 21\\\\\n\t  11 & 320 & 16.6 & 73 & 5 & 22\\\\\n\t   4 &  25 &  9.7 & 61 & 5 & 23\\\\\n\t  32 &  92 & 12.0 & 61 & 5 & 24\\\\\n\t  NA &  66 & 16.6 & 57 & 5 & 25\\\\\n\t  NA & 266 & 14.9 & 58 & 5 & 26\\\\\n\t  NA &  NA &  8.0 & 57 & 5 & 27\\\\\n\t  23 &  13 & 12.0 & 67 & 5 & 28\\\\\n\t  45 & 252 & 14.9 & 81 & 5 & 29\\\\\n\t 115 & 223 &  5.7 & 79 & 5 & 30\\\\\n\t ⋮ & ⋮ & ⋮ & ⋮ & ⋮ & ⋮\\\\\n\t 96 & 167 &  6.9 & 91 & 9 &  1\\\\\n\t 78 & 197 &  5.1 & 92 & 9 &  2\\\\\n\t 73 & 183 &  2.8 & 93 & 9 &  3\\\\\n\t 91 & 189 &  4.6 & 93 & 9 &  4\\\\\n\t 47 &  95 &  7.4 & 87 & 9 &  5\\\\\n\t 32 &  92 & 15.5 & 84 & 9 &  6\\\\\n\t 20 & 252 & 10.9 & 80 & 9 &  7\\\\\n\t 23 & 220 & 10.3 & 78 & 9 &  8\\\\\n\t 21 & 230 & 10.9 & 75 & 9 &  9\\\\\n\t 24 & 259 &  9.7 & 73 & 9 & 10\\\\\n\t 44 & 236 & 14.9 & 81 & 9 & 11\\\\\n\t 21 & 259 & 15.5 & 76 & 9 & 12\\\\\n\t 28 & 238 &  6.3 & 77 & 9 & 13\\\\\n\t  9 &  24 & 10.9 & 71 & 9 & 14\\\\\n\t 13 & 112 & 11.5 & 71 & 9 & 15\\\\\n\t 46 & 237 &  6.9 & 78 & 9 & 16\\\\\n\t 18 & 224 & 13.8 & 67 & 9 & 17\\\\\n\t 13 &  27 & 10.3 & 76 & 9 & 18\\\\\n\t 24 & 238 & 10.3 & 68 & 9 & 19\\\\\n\t 16 & 201 &  8.0 & 82 & 9 & 20\\\\\n\t 13 & 238 & 12.6 & 64 & 9 & 21\\\\\n\t 23 &  14 &  9.2 & 71 & 9 & 22\\\\\n\t 36 & 139 & 10.3 & 81 & 9 & 23\\\\\n\t  7 &  49 & 10.3 & 69 & 9 & 24\\\\\n\t 14 &  20 & 16.6 & 63 & 9 & 25\\\\\n\t 30 & 193 &  6.9 & 70 & 9 & 26\\\\\n\t NA & 145 & 13.2 & 77 & 9 & 27\\\\\n\t 14 & 191 & 14.3 & 75 & 9 & 28\\\\\n\t 18 & 131 &  8.0 & 76 & 9 & 29\\\\\n\t 20 & 223 & 11.5 & 68 & 9 & 30\\\\\n\\end{tabular}\n",
            "text/plain": [
              "    Ozone Solar.R Wind Temp Month Day\n",
              "1    41   190      7.4 67   5      1 \n",
              "2    36   118      8.0 72   5      2 \n",
              "3    12   149     12.6 74   5      3 \n",
              "4    18   313     11.5 62   5      4 \n",
              "5    NA    NA     14.3 56   5      5 \n",
              "6    28    NA     14.9 66   5      6 \n",
              "7    23   299      8.6 65   5      7 \n",
              "8    19    99     13.8 59   5      8 \n",
              "9     8    19     20.1 61   5      9 \n",
              "10   NA   194      8.6 69   5     10 \n",
              "11    7    NA      6.9 74   5     11 \n",
              "12   16   256      9.7 69   5     12 \n",
              "13   11   290      9.2 66   5     13 \n",
              "14   14   274     10.9 68   5     14 \n",
              "15   18    65     13.2 58   5     15 \n",
              "16   14   334     11.5 64   5     16 \n",
              "17   34   307     12.0 66   5     17 \n",
              "18    6    78     18.4 57   5     18 \n",
              "19   30   322     11.5 68   5     19 \n",
              "20   11    44      9.7 62   5     20 \n",
              "21    1     8      9.7 59   5     21 \n",
              "22   11   320     16.6 73   5     22 \n",
              "23    4    25      9.7 61   5     23 \n",
              "24   32    92     12.0 61   5     24 \n",
              "25   NA    66     16.6 57   5     25 \n",
              "26   NA   266     14.9 58   5     26 \n",
              "27   NA    NA      8.0 57   5     27 \n",
              "28   23    13     12.0 67   5     28 \n",
              "29   45   252     14.9 81   5     29 \n",
              "30  115   223      5.7 79   5     30 \n",
              "⋮   ⋮     ⋮       ⋮    ⋮    ⋮     ⋮  \n",
              "124 96    167      6.9 91   9      1 \n",
              "125 78    197      5.1 92   9      2 \n",
              "126 73    183      2.8 93   9      3 \n",
              "127 91    189      4.6 93   9      4 \n",
              "128 47     95      7.4 87   9      5 \n",
              "129 32     92     15.5 84   9      6 \n",
              "130 20    252     10.9 80   9      7 \n",
              "131 23    220     10.3 78   9      8 \n",
              "132 21    230     10.9 75   9      9 \n",
              "133 24    259      9.7 73   9     10 \n",
              "134 44    236     14.9 81   9     11 \n",
              "135 21    259     15.5 76   9     12 \n",
              "136 28    238      6.3 77   9     13 \n",
              "137  9     24     10.9 71   9     14 \n",
              "138 13    112     11.5 71   9     15 \n",
              "139 46    237      6.9 78   9     16 \n",
              "140 18    224     13.8 67   9     17 \n",
              "141 13     27     10.3 76   9     18 \n",
              "142 24    238     10.3 68   9     19 \n",
              "143 16    201      8.0 82   9     20 \n",
              "144 13    238     12.6 64   9     21 \n",
              "145 23     14      9.2 71   9     22 \n",
              "146 36    139     10.3 81   9     23 \n",
              "147  7     49     10.3 69   9     24 \n",
              "148 14     20     16.6 63   9     25 \n",
              "149 30    193      6.9 70   9     26 \n",
              "150 NA    145     13.2 77   9     27 \n",
              "151 14    191     14.3 75   9     28 \n",
              "152 18    131      8.0 76   9     29 \n",
              "153 20    223     11.5 68   9     30 "
            ]
          },
          "metadata": {}
        }
      ]
    },
    {
      "cell_type": "code",
      "source": [
        "airquality %>% group_by(Month) %>% count()"
      ],
      "metadata": {
        "colab": {
          "base_uri": "https://localhost:8080/",
          "height": 272
        },
        "id": "uAOwr7skp0Mi",
        "outputId": "75195a88-dba8-4317-9969-b54888f3497d"
      },
      "execution_count": null,
      "outputs": [
        {
          "output_type": "display_data",
          "data": {
            "text/html": [
              "<table class=\"dataframe\">\n",
              "<caption>A grouped_df: 5 × 2</caption>\n",
              "<thead>\n",
              "\t<tr><th scope=col>Month</th><th scope=col>n</th></tr>\n",
              "\t<tr><th scope=col>&lt;int&gt;</th><th scope=col>&lt;int&gt;</th></tr>\n",
              "</thead>\n",
              "<tbody>\n",
              "\t<tr><td>5</td><td>31</td></tr>\n",
              "\t<tr><td>6</td><td>30</td></tr>\n",
              "\t<tr><td>7</td><td>31</td></tr>\n",
              "\t<tr><td>8</td><td>31</td></tr>\n",
              "\t<tr><td>9</td><td>30</td></tr>\n",
              "</tbody>\n",
              "</table>\n"
            ],
            "text/markdown": "\nA grouped_df: 5 × 2\n\n| Month &lt;int&gt; | n &lt;int&gt; |\n|---|---|\n| 5 | 31 |\n| 6 | 30 |\n| 7 | 31 |\n| 8 | 31 |\n| 9 | 30 |\n\n",
            "text/latex": "A grouped\\_df: 5 × 2\n\\begin{tabular}{ll}\n Month & n\\\\\n <int> & <int>\\\\\n\\hline\n\t 5 & 31\\\\\n\t 6 & 30\\\\\n\t 7 & 31\\\\\n\t 8 & 31\\\\\n\t 9 & 30\\\\\n\\end{tabular}\n",
            "text/plain": [
              "  Month n \n",
              "1 5     31\n",
              "2 6     30\n",
              "3 7     31\n",
              "4 8     31\n",
              "5 9     30"
            ]
          },
          "metadata": {}
        }
      ]
    },
    {
      "cell_type": "code",
      "source": [
        "airquality %>% group_by(Month, Temp>70) %>% count()"
      ],
      "metadata": {
        "colab": {
          "base_uri": "https://localhost:8080/",
          "height": 349
        },
        "id": "Mwohvw2ap_sQ",
        "outputId": "4e77773b-edb8-4263-d34e-02dc3e683feb"
      },
      "execution_count": null,
      "outputs": [
        {
          "output_type": "display_data",
          "data": {
            "text/html": [
              "<table class=\"dataframe\">\n",
              "<caption>A grouped_df: 8 × 3</caption>\n",
              "<thead>\n",
              "\t<tr><th scope=col>Month</th><th scope=col>Temp &gt; 70</th><th scope=col>n</th></tr>\n",
              "\t<tr><th scope=col>&lt;int&gt;</th><th scope=col>&lt;lgl&gt;</th><th scope=col>&lt;int&gt;</th></tr>\n",
              "</thead>\n",
              "<tbody>\n",
              "\t<tr><td>5</td><td>FALSE</td><td>24</td></tr>\n",
              "\t<tr><td>5</td><td> TRUE</td><td> 7</td></tr>\n",
              "\t<tr><td>6</td><td>FALSE</td><td> 2</td></tr>\n",
              "\t<tr><td>6</td><td> TRUE</td><td>28</td></tr>\n",
              "\t<tr><td>7</td><td> TRUE</td><td>31</td></tr>\n",
              "\t<tr><td>8</td><td> TRUE</td><td>31</td></tr>\n",
              "\t<tr><td>9</td><td>FALSE</td><td> 7</td></tr>\n",
              "\t<tr><td>9</td><td> TRUE</td><td>23</td></tr>\n",
              "</tbody>\n",
              "</table>\n"
            ],
            "text/markdown": "\nA grouped_df: 8 × 3\n\n| Month &lt;int&gt; | Temp &gt; 70 &lt;lgl&gt; | n &lt;int&gt; |\n|---|---|---|\n| 5 | FALSE | 24 |\n| 5 |  TRUE |  7 |\n| 6 | FALSE |  2 |\n| 6 |  TRUE | 28 |\n| 7 |  TRUE | 31 |\n| 8 |  TRUE | 31 |\n| 9 | FALSE |  7 |\n| 9 |  TRUE | 23 |\n\n",
            "text/latex": "A grouped\\_df: 8 × 3\n\\begin{tabular}{lll}\n Month & Temp > 70 & n\\\\\n <int> & <lgl> & <int>\\\\\n\\hline\n\t 5 & FALSE & 24\\\\\n\t 5 &  TRUE &  7\\\\\n\t 6 & FALSE &  2\\\\\n\t 6 &  TRUE & 28\\\\\n\t 7 &  TRUE & 31\\\\\n\t 8 &  TRUE & 31\\\\\n\t 9 & FALSE &  7\\\\\n\t 9 &  TRUE & 23\\\\\n\\end{tabular}\n",
            "text/plain": [
              "  Month Temp > 70 n \n",
              "1 5     FALSE     24\n",
              "2 5      TRUE      7\n",
              "3 6     FALSE      2\n",
              "4 6      TRUE     28\n",
              "5 7      TRUE     31\n",
              "6 8      TRUE     31\n",
              "7 9     FALSE      7\n",
              "8 9      TRUE     23"
            ]
          },
          "metadata": {}
        }
      ]
    },
    {
      "cell_type": "code",
      "source": [
        "airquality %>% group_by(Month) %>% summarise(Average_wind=mean(Wind))"
      ],
      "metadata": {
        "colab": {
          "base_uri": "https://localhost:8080/",
          "height": 255
        },
        "id": "H2mbndFXqFUf",
        "outputId": "24a87a75-8a9f-4cf3-dc67-2bb2e4c29cf9"
      },
      "execution_count": null,
      "outputs": [
        {
          "output_type": "display_data",
          "data": {
            "text/html": [
              "<table class=\"dataframe\">\n",
              "<caption>A tibble: 5 × 2</caption>\n",
              "<thead>\n",
              "\t<tr><th scope=col>Month</th><th scope=col>Average_wind</th></tr>\n",
              "\t<tr><th scope=col>&lt;int&gt;</th><th scope=col>&lt;dbl&gt;</th></tr>\n",
              "</thead>\n",
              "<tbody>\n",
              "\t<tr><td>5</td><td>11.622581</td></tr>\n",
              "\t<tr><td>6</td><td>10.266667</td></tr>\n",
              "\t<tr><td>7</td><td> 8.941935</td></tr>\n",
              "\t<tr><td>8</td><td> 8.793548</td></tr>\n",
              "\t<tr><td>9</td><td>10.180000</td></tr>\n",
              "</tbody>\n",
              "</table>\n"
            ],
            "text/markdown": "\nA tibble: 5 × 2\n\n| Month &lt;int&gt; | Average_wind &lt;dbl&gt; |\n|---|---|\n| 5 | 11.622581 |\n| 6 | 10.266667 |\n| 7 |  8.941935 |\n| 8 |  8.793548 |\n| 9 | 10.180000 |\n\n",
            "text/latex": "A tibble: 5 × 2\n\\begin{tabular}{ll}\n Month & Average\\_wind\\\\\n <int> & <dbl>\\\\\n\\hline\n\t 5 & 11.622581\\\\\n\t 6 & 10.266667\\\\\n\t 7 &  8.941935\\\\\n\t 8 &  8.793548\\\\\n\t 9 & 10.180000\\\\\n\\end{tabular}\n",
            "text/plain": [
              "  Month Average_wind\n",
              "1 5     11.622581   \n",
              "2 6     10.266667   \n",
              "3 7      8.941935   \n",
              "4 8      8.793548   \n",
              "5 9     10.180000   "
            ]
          },
          "metadata": {}
        }
      ]
    },
    {
      "cell_type": "code",
      "source": [
        "airquality %>% group_by(Month) %>% summarise(Median_Solar.R = median(Solar.R),Max_wind=max(Wind))"
      ],
      "metadata": {
        "colab": {
          "base_uri": "https://localhost:8080/",
          "height": 255
        },
        "id": "UC5x3PEb87SL",
        "outputId": "e568abf4-f92a-4d92-bb97-570f4d74b551"
      },
      "execution_count": null,
      "outputs": [
        {
          "output_type": "display_data",
          "data": {
            "text/html": [
              "<table class=\"dataframe\">\n",
              "<caption>A tibble: 5 × 3</caption>\n",
              "<thead>\n",
              "\t<tr><th scope=col>Month</th><th scope=col>Median_Solar.R</th><th scope=col>Max_wind</th></tr>\n",
              "\t<tr><th scope=col>&lt;int&gt;</th><th scope=col>&lt;dbl&gt;</th><th scope=col>&lt;dbl&gt;</th></tr>\n",
              "</thead>\n",
              "<tbody>\n",
              "\t<tr><td>5</td><td>   NA</td><td>20.1</td></tr>\n",
              "\t<tr><td>6</td><td>188.5</td><td>20.7</td></tr>\n",
              "\t<tr><td>7</td><td>253.0</td><td>14.9</td></tr>\n",
              "\t<tr><td>8</td><td>   NA</td><td>15.5</td></tr>\n",
              "\t<tr><td>9</td><td>192.0</td><td>16.6</td></tr>\n",
              "</tbody>\n",
              "</table>\n"
            ],
            "text/markdown": "\nA tibble: 5 × 3\n\n| Month &lt;int&gt; | Median_Solar.R &lt;dbl&gt; | Max_wind &lt;dbl&gt; |\n|---|---|---|\n| 5 |    NA | 20.1 |\n| 6 | 188.5 | 20.7 |\n| 7 | 253.0 | 14.9 |\n| 8 |    NA | 15.5 |\n| 9 | 192.0 | 16.6 |\n\n",
            "text/latex": "A tibble: 5 × 3\n\\begin{tabular}{lll}\n Month & Median\\_Solar.R & Max\\_wind\\\\\n <int> & <dbl> & <dbl>\\\\\n\\hline\n\t 5 &    NA & 20.1\\\\\n\t 6 & 188.5 & 20.7\\\\\n\t 7 & 253.0 & 14.9\\\\\n\t 8 &    NA & 15.5\\\\\n\t 9 & 192.0 & 16.6\\\\\n\\end{tabular}\n",
            "text/plain": [
              "  Month Median_Solar.R Max_wind\n",
              "1 5        NA          20.1    \n",
              "2 6     188.5          20.7    \n",
              "3 7     253.0          14.9    \n",
              "4 8        NA          15.5    \n",
              "5 9     192.0          16.6    "
            ]
          },
          "metadata": {}
        }
      ]
    },
    {
      "cell_type": "markdown",
      "source": [
        "Quiz: Calculate standard error of wind speed in each month."
      ],
      "metadata": {
        "id": "TtnYBaAVt4ei"
      }
    },
    {
      "cell_type": "code",
      "source": [
        "#your turn"
      ],
      "metadata": {
        "id": "I9DleXKHucsc"
      },
      "execution_count": null,
      "outputs": []
    },
    {
      "cell_type": "markdown",
      "source": [
        "## **Filter**"
      ],
      "metadata": {
        "id": "DOZI0HkDqprw"
      }
    },
    {
      "cell_type": "code",
      "source": [
        "airquality[1:10,]"
      ],
      "metadata": {
        "colab": {
          "base_uri": "https://localhost:8080/",
          "height": 411
        },
        "id": "D6n2SA7Iqrxm",
        "outputId": "828b1a8f-f622-452d-f7b9-da538f6101cd"
      },
      "execution_count": null,
      "outputs": [
        {
          "output_type": "display_data",
          "data": {
            "text/html": [
              "<table class=\"dataframe\">\n",
              "<caption>A data.frame: 10 × 6</caption>\n",
              "<thead>\n",
              "\t<tr><th></th><th scope=col>Ozone</th><th scope=col>Solar.R</th><th scope=col>Wind</th><th scope=col>Temp</th><th scope=col>Month</th><th scope=col>Day</th></tr>\n",
              "\t<tr><th></th><th scope=col>&lt;int&gt;</th><th scope=col>&lt;int&gt;</th><th scope=col>&lt;dbl&gt;</th><th scope=col>&lt;int&gt;</th><th scope=col>&lt;int&gt;</th><th scope=col>&lt;int&gt;</th></tr>\n",
              "</thead>\n",
              "<tbody>\n",
              "\t<tr><th scope=row>1</th><td>41</td><td>190</td><td> 7.4</td><td>67</td><td>5</td><td> 1</td></tr>\n",
              "\t<tr><th scope=row>2</th><td>36</td><td>118</td><td> 8.0</td><td>72</td><td>5</td><td> 2</td></tr>\n",
              "\t<tr><th scope=row>3</th><td>12</td><td>149</td><td>12.6</td><td>74</td><td>5</td><td> 3</td></tr>\n",
              "\t<tr><th scope=row>4</th><td>18</td><td>313</td><td>11.5</td><td>62</td><td>5</td><td> 4</td></tr>\n",
              "\t<tr><th scope=row>5</th><td>NA</td><td> NA</td><td>14.3</td><td>56</td><td>5</td><td> 5</td></tr>\n",
              "\t<tr><th scope=row>6</th><td>28</td><td> NA</td><td>14.9</td><td>66</td><td>5</td><td> 6</td></tr>\n",
              "\t<tr><th scope=row>7</th><td>23</td><td>299</td><td> 8.6</td><td>65</td><td>5</td><td> 7</td></tr>\n",
              "\t<tr><th scope=row>8</th><td>19</td><td> 99</td><td>13.8</td><td>59</td><td>5</td><td> 8</td></tr>\n",
              "\t<tr><th scope=row>9</th><td> 8</td><td> 19</td><td>20.1</td><td>61</td><td>5</td><td> 9</td></tr>\n",
              "\t<tr><th scope=row>10</th><td>NA</td><td>194</td><td> 8.6</td><td>69</td><td>5</td><td>10</td></tr>\n",
              "</tbody>\n",
              "</table>\n"
            ],
            "text/markdown": "\nA data.frame: 10 × 6\n\n| <!--/--> | Ozone &lt;int&gt; | Solar.R &lt;int&gt; | Wind &lt;dbl&gt; | Temp &lt;int&gt; | Month &lt;int&gt; | Day &lt;int&gt; |\n|---|---|---|---|---|---|---|\n| 1 | 41 | 190 |  7.4 | 67 | 5 |  1 |\n| 2 | 36 | 118 |  8.0 | 72 | 5 |  2 |\n| 3 | 12 | 149 | 12.6 | 74 | 5 |  3 |\n| 4 | 18 | 313 | 11.5 | 62 | 5 |  4 |\n| 5 | NA |  NA | 14.3 | 56 | 5 |  5 |\n| 6 | 28 |  NA | 14.9 | 66 | 5 |  6 |\n| 7 | 23 | 299 |  8.6 | 65 | 5 |  7 |\n| 8 | 19 |  99 | 13.8 | 59 | 5 |  8 |\n| 9 |  8 |  19 | 20.1 | 61 | 5 |  9 |\n| 10 | NA | 194 |  8.6 | 69 | 5 | 10 |\n\n",
            "text/latex": "A data.frame: 10 × 6\n\\begin{tabular}{r|llllll}\n  & Ozone & Solar.R & Wind & Temp & Month & Day\\\\\n  & <int> & <int> & <dbl> & <int> & <int> & <int>\\\\\n\\hline\n\t1 & 41 & 190 &  7.4 & 67 & 5 &  1\\\\\n\t2 & 36 & 118 &  8.0 & 72 & 5 &  2\\\\\n\t3 & 12 & 149 & 12.6 & 74 & 5 &  3\\\\\n\t4 & 18 & 313 & 11.5 & 62 & 5 &  4\\\\\n\t5 & NA &  NA & 14.3 & 56 & 5 &  5\\\\\n\t6 & 28 &  NA & 14.9 & 66 & 5 &  6\\\\\n\t7 & 23 & 299 &  8.6 & 65 & 5 &  7\\\\\n\t8 & 19 &  99 & 13.8 & 59 & 5 &  8\\\\\n\t9 &  8 &  19 & 20.1 & 61 & 5 &  9\\\\\n\t10 & NA & 194 &  8.6 & 69 & 5 & 10\\\\\n\\end{tabular}\n",
            "text/plain": [
              "   Ozone Solar.R Wind Temp Month Day\n",
              "1  41    190      7.4 67   5      1 \n",
              "2  36    118      8.0 72   5      2 \n",
              "3  12    149     12.6 74   5      3 \n",
              "4  18    313     11.5 62   5      4 \n",
              "5  NA     NA     14.3 56   5      5 \n",
              "6  28     NA     14.9 66   5      6 \n",
              "7  23    299      8.6 65   5      7 \n",
              "8  19     99     13.8 59   5      8 \n",
              "9   8     19     20.1 61   5      9 \n",
              "10 NA    194      8.6 69   5     10 "
            ]
          },
          "metadata": {}
        }
      ]
    },
    {
      "cell_type": "code",
      "source": [
        "airquality[1:10,] %>% filter(Temp>70 | Day>5)"
      ],
      "metadata": {
        "colab": {
          "base_uri": "https://localhost:8080/",
          "height": 317
        },
        "id": "z-FGZRGeqvBI",
        "outputId": "36a1c6b9-a08f-4e5f-8f2f-9f9928106899"
      },
      "execution_count": null,
      "outputs": [
        {
          "output_type": "display_data",
          "data": {
            "text/html": [
              "<table class=\"dataframe\">\n",
              "<caption>A data.frame: 7 × 6</caption>\n",
              "<thead>\n",
              "\t<tr><th scope=col>Ozone</th><th scope=col>Solar.R</th><th scope=col>Wind</th><th scope=col>Temp</th><th scope=col>Month</th><th scope=col>Day</th></tr>\n",
              "\t<tr><th scope=col>&lt;int&gt;</th><th scope=col>&lt;int&gt;</th><th scope=col>&lt;dbl&gt;</th><th scope=col>&lt;int&gt;</th><th scope=col>&lt;int&gt;</th><th scope=col>&lt;int&gt;</th></tr>\n",
              "</thead>\n",
              "<tbody>\n",
              "\t<tr><td>36</td><td>118</td><td> 8.0</td><td>72</td><td>5</td><td> 2</td></tr>\n",
              "\t<tr><td>12</td><td>149</td><td>12.6</td><td>74</td><td>5</td><td> 3</td></tr>\n",
              "\t<tr><td>28</td><td> NA</td><td>14.9</td><td>66</td><td>5</td><td> 6</td></tr>\n",
              "\t<tr><td>23</td><td>299</td><td> 8.6</td><td>65</td><td>5</td><td> 7</td></tr>\n",
              "\t<tr><td>19</td><td> 99</td><td>13.8</td><td>59</td><td>5</td><td> 8</td></tr>\n",
              "\t<tr><td> 8</td><td> 19</td><td>20.1</td><td>61</td><td>5</td><td> 9</td></tr>\n",
              "\t<tr><td>NA</td><td>194</td><td> 8.6</td><td>69</td><td>5</td><td>10</td></tr>\n",
              "</tbody>\n",
              "</table>\n"
            ],
            "text/markdown": "\nA data.frame: 7 × 6\n\n| Ozone &lt;int&gt; | Solar.R &lt;int&gt; | Wind &lt;dbl&gt; | Temp &lt;int&gt; | Month &lt;int&gt; | Day &lt;int&gt; |\n|---|---|---|---|---|---|\n| 36 | 118 |  8.0 | 72 | 5 |  2 |\n| 12 | 149 | 12.6 | 74 | 5 |  3 |\n| 28 |  NA | 14.9 | 66 | 5 |  6 |\n| 23 | 299 |  8.6 | 65 | 5 |  7 |\n| 19 |  99 | 13.8 | 59 | 5 |  8 |\n|  8 |  19 | 20.1 | 61 | 5 |  9 |\n| NA | 194 |  8.6 | 69 | 5 | 10 |\n\n",
            "text/latex": "A data.frame: 7 × 6\n\\begin{tabular}{llllll}\n Ozone & Solar.R & Wind & Temp & Month & Day\\\\\n <int> & <int> & <dbl> & <int> & <int> & <int>\\\\\n\\hline\n\t 36 & 118 &  8.0 & 72 & 5 &  2\\\\\n\t 12 & 149 & 12.6 & 74 & 5 &  3\\\\\n\t 28 &  NA & 14.9 & 66 & 5 &  6\\\\\n\t 23 & 299 &  8.6 & 65 & 5 &  7\\\\\n\t 19 &  99 & 13.8 & 59 & 5 &  8\\\\\n\t  8 &  19 & 20.1 & 61 & 5 &  9\\\\\n\t NA & 194 &  8.6 & 69 & 5 & 10\\\\\n\\end{tabular}\n",
            "text/plain": [
              "  Ozone Solar.R Wind Temp Month Day\n",
              "1 36    118      8.0 72   5      2 \n",
              "2 12    149     12.6 74   5      3 \n",
              "3 28     NA     14.9 66   5      6 \n",
              "4 23    299      8.6 65   5      7 \n",
              "5 19     99     13.8 59   5      8 \n",
              "6  8     19     20.1 61   5      9 \n",
              "7 NA    194      8.6 69   5     10 "
            ]
          },
          "metadata": {}
        }
      ]
    },
    {
      "cell_type": "code",
      "source": [
        "airquality %>% filter(Day == 1 | Day == 2| Day == 3| Day == 4|Day == 5)"
      ],
      "metadata": {
        "colab": {
          "base_uri": "https://localhost:8080/",
          "height": 881
        },
        "id": "ehfwnNZi-_Uk",
        "outputId": "ce6501f0-f9d6-421d-a399-06a4307ba24a"
      },
      "execution_count": null,
      "outputs": [
        {
          "output_type": "display_data",
          "data": {
            "text/html": [
              "<table class=\"dataframe\">\n",
              "<caption>A data.frame: 25 × 6</caption>\n",
              "<thead>\n",
              "\t<tr><th scope=col>Ozone</th><th scope=col>Solar.R</th><th scope=col>Wind</th><th scope=col>Temp</th><th scope=col>Month</th><th scope=col>Day</th></tr>\n",
              "\t<tr><th scope=col>&lt;int&gt;</th><th scope=col>&lt;int&gt;</th><th scope=col>&lt;dbl&gt;</th><th scope=col>&lt;int&gt;</th><th scope=col>&lt;int&gt;</th><th scope=col>&lt;int&gt;</th></tr>\n",
              "</thead>\n",
              "<tbody>\n",
              "\t<tr><td> 41</td><td>190</td><td> 7.4</td><td>67</td><td>5</td><td>1</td></tr>\n",
              "\t<tr><td> 36</td><td>118</td><td> 8.0</td><td>72</td><td>5</td><td>2</td></tr>\n",
              "\t<tr><td> 12</td><td>149</td><td>12.6</td><td>74</td><td>5</td><td>3</td></tr>\n",
              "\t<tr><td> 18</td><td>313</td><td>11.5</td><td>62</td><td>5</td><td>4</td></tr>\n",
              "\t<tr><td> NA</td><td> NA</td><td>14.3</td><td>56</td><td>5</td><td>5</td></tr>\n",
              "\t<tr><td> NA</td><td>286</td><td> 8.6</td><td>78</td><td>6</td><td>1</td></tr>\n",
              "\t<tr><td> NA</td><td>287</td><td> 9.7</td><td>74</td><td>6</td><td>2</td></tr>\n",
              "\t<tr><td> NA</td><td>242</td><td>16.1</td><td>67</td><td>6</td><td>3</td></tr>\n",
              "\t<tr><td> NA</td><td>186</td><td> 9.2</td><td>84</td><td>6</td><td>4</td></tr>\n",
              "\t<tr><td> NA</td><td>220</td><td> 8.6</td><td>85</td><td>6</td><td>5</td></tr>\n",
              "\t<tr><td>135</td><td>269</td><td> 4.1</td><td>84</td><td>7</td><td>1</td></tr>\n",
              "\t<tr><td> 49</td><td>248</td><td> 9.2</td><td>85</td><td>7</td><td>2</td></tr>\n",
              "\t<tr><td> 32</td><td>236</td><td> 9.2</td><td>81</td><td>7</td><td>3</td></tr>\n",
              "\t<tr><td> NA</td><td>101</td><td>10.9</td><td>84</td><td>7</td><td>4</td></tr>\n",
              "\t<tr><td> 64</td><td>175</td><td> 4.6</td><td>83</td><td>7</td><td>5</td></tr>\n",
              "\t<tr><td> 39</td><td> 83</td><td> 6.9</td><td>81</td><td>8</td><td>1</td></tr>\n",
              "\t<tr><td>  9</td><td> 24</td><td>13.8</td><td>81</td><td>8</td><td>2</td></tr>\n",
              "\t<tr><td> 16</td><td> 77</td><td> 7.4</td><td>82</td><td>8</td><td>3</td></tr>\n",
              "\t<tr><td> 78</td><td> NA</td><td> 6.9</td><td>86</td><td>8</td><td>4</td></tr>\n",
              "\t<tr><td> 35</td><td> NA</td><td> 7.4</td><td>85</td><td>8</td><td>5</td></tr>\n",
              "\t<tr><td> 96</td><td>167</td><td> 6.9</td><td>91</td><td>9</td><td>1</td></tr>\n",
              "\t<tr><td> 78</td><td>197</td><td> 5.1</td><td>92</td><td>9</td><td>2</td></tr>\n",
              "\t<tr><td> 73</td><td>183</td><td> 2.8</td><td>93</td><td>9</td><td>3</td></tr>\n",
              "\t<tr><td> 91</td><td>189</td><td> 4.6</td><td>93</td><td>9</td><td>4</td></tr>\n",
              "\t<tr><td> 47</td><td> 95</td><td> 7.4</td><td>87</td><td>9</td><td>5</td></tr>\n",
              "</tbody>\n",
              "</table>\n"
            ],
            "text/markdown": "\nA data.frame: 25 × 6\n\n| Ozone &lt;int&gt; | Solar.R &lt;int&gt; | Wind &lt;dbl&gt; | Temp &lt;int&gt; | Month &lt;int&gt; | Day &lt;int&gt; |\n|---|---|---|---|---|---|\n|  41 | 190 |  7.4 | 67 | 5 | 1 |\n|  36 | 118 |  8.0 | 72 | 5 | 2 |\n|  12 | 149 | 12.6 | 74 | 5 | 3 |\n|  18 | 313 | 11.5 | 62 | 5 | 4 |\n|  NA |  NA | 14.3 | 56 | 5 | 5 |\n|  NA | 286 |  8.6 | 78 | 6 | 1 |\n|  NA | 287 |  9.7 | 74 | 6 | 2 |\n|  NA | 242 | 16.1 | 67 | 6 | 3 |\n|  NA | 186 |  9.2 | 84 | 6 | 4 |\n|  NA | 220 |  8.6 | 85 | 6 | 5 |\n| 135 | 269 |  4.1 | 84 | 7 | 1 |\n|  49 | 248 |  9.2 | 85 | 7 | 2 |\n|  32 | 236 |  9.2 | 81 | 7 | 3 |\n|  NA | 101 | 10.9 | 84 | 7 | 4 |\n|  64 | 175 |  4.6 | 83 | 7 | 5 |\n|  39 |  83 |  6.9 | 81 | 8 | 1 |\n|   9 |  24 | 13.8 | 81 | 8 | 2 |\n|  16 |  77 |  7.4 | 82 | 8 | 3 |\n|  78 |  NA |  6.9 | 86 | 8 | 4 |\n|  35 |  NA |  7.4 | 85 | 8 | 5 |\n|  96 | 167 |  6.9 | 91 | 9 | 1 |\n|  78 | 197 |  5.1 | 92 | 9 | 2 |\n|  73 | 183 |  2.8 | 93 | 9 | 3 |\n|  91 | 189 |  4.6 | 93 | 9 | 4 |\n|  47 |  95 |  7.4 | 87 | 9 | 5 |\n\n",
            "text/latex": "A data.frame: 25 × 6\n\\begin{tabular}{llllll}\n Ozone & Solar.R & Wind & Temp & Month & Day\\\\\n <int> & <int> & <dbl> & <int> & <int> & <int>\\\\\n\\hline\n\t  41 & 190 &  7.4 & 67 & 5 & 1\\\\\n\t  36 & 118 &  8.0 & 72 & 5 & 2\\\\\n\t  12 & 149 & 12.6 & 74 & 5 & 3\\\\\n\t  18 & 313 & 11.5 & 62 & 5 & 4\\\\\n\t  NA &  NA & 14.3 & 56 & 5 & 5\\\\\n\t  NA & 286 &  8.6 & 78 & 6 & 1\\\\\n\t  NA & 287 &  9.7 & 74 & 6 & 2\\\\\n\t  NA & 242 & 16.1 & 67 & 6 & 3\\\\\n\t  NA & 186 &  9.2 & 84 & 6 & 4\\\\\n\t  NA & 220 &  8.6 & 85 & 6 & 5\\\\\n\t 135 & 269 &  4.1 & 84 & 7 & 1\\\\\n\t  49 & 248 &  9.2 & 85 & 7 & 2\\\\\n\t  32 & 236 &  9.2 & 81 & 7 & 3\\\\\n\t  NA & 101 & 10.9 & 84 & 7 & 4\\\\\n\t  64 & 175 &  4.6 & 83 & 7 & 5\\\\\n\t  39 &  83 &  6.9 & 81 & 8 & 1\\\\\n\t   9 &  24 & 13.8 & 81 & 8 & 2\\\\\n\t  16 &  77 &  7.4 & 82 & 8 & 3\\\\\n\t  78 &  NA &  6.9 & 86 & 8 & 4\\\\\n\t  35 &  NA &  7.4 & 85 & 8 & 5\\\\\n\t  96 & 167 &  6.9 & 91 & 9 & 1\\\\\n\t  78 & 197 &  5.1 & 92 & 9 & 2\\\\\n\t  73 & 183 &  2.8 & 93 & 9 & 3\\\\\n\t  91 & 189 &  4.6 & 93 & 9 & 4\\\\\n\t  47 &  95 &  7.4 & 87 & 9 & 5\\\\\n\\end{tabular}\n",
            "text/plain": [
              "   Ozone Solar.R Wind Temp Month Day\n",
              "1   41   190      7.4 67   5     1  \n",
              "2   36   118      8.0 72   5     2  \n",
              "3   12   149     12.6 74   5     3  \n",
              "4   18   313     11.5 62   5     4  \n",
              "5   NA    NA     14.3 56   5     5  \n",
              "6   NA   286      8.6 78   6     1  \n",
              "7   NA   287      9.7 74   6     2  \n",
              "8   NA   242     16.1 67   6     3  \n",
              "9   NA   186      9.2 84   6     4  \n",
              "10  NA   220      8.6 85   6     5  \n",
              "11 135   269      4.1 84   7     1  \n",
              "12  49   248      9.2 85   7     2  \n",
              "13  32   236      9.2 81   7     3  \n",
              "14  NA   101     10.9 84   7     4  \n",
              "15  64   175      4.6 83   7     5  \n",
              "16  39    83      6.9 81   8     1  \n",
              "17   9    24     13.8 81   8     2  \n",
              "18  16    77      7.4 82   8     3  \n",
              "19  78    NA      6.9 86   8     4  \n",
              "20  35    NA      7.4 85   8     5  \n",
              "21  96   167      6.9 91   9     1  \n",
              "22  78   197      5.1 92   9     2  \n",
              "23  73   183      2.8 93   9     3  \n",
              "24  91   189      4.6 93   9     4  \n",
              "25  47    95      7.4 87   9     5  "
            ]
          },
          "metadata": {}
        }
      ]
    },
    {
      "cell_type": "code",
      "source": [
        "airquality %>% filter(Day %in% 1:5)"
      ],
      "metadata": {
        "colab": {
          "base_uri": "https://localhost:8080/",
          "height": 881
        },
        "id": "Tl3PtnRzq6Dh",
        "outputId": "0705d962-ce13-4579-de53-af83e4353ab7"
      },
      "execution_count": null,
      "outputs": [
        {
          "output_type": "display_data",
          "data": {
            "text/html": [
              "<table class=\"dataframe\">\n",
              "<caption>A data.frame: 25 × 6</caption>\n",
              "<thead>\n",
              "\t<tr><th scope=col>Ozone</th><th scope=col>Solar.R</th><th scope=col>Wind</th><th scope=col>Temp</th><th scope=col>Month</th><th scope=col>Day</th></tr>\n",
              "\t<tr><th scope=col>&lt;int&gt;</th><th scope=col>&lt;int&gt;</th><th scope=col>&lt;dbl&gt;</th><th scope=col>&lt;int&gt;</th><th scope=col>&lt;int&gt;</th><th scope=col>&lt;int&gt;</th></tr>\n",
              "</thead>\n",
              "<tbody>\n",
              "\t<tr><td> 41</td><td>190</td><td> 7.4</td><td>67</td><td>5</td><td>1</td></tr>\n",
              "\t<tr><td> 36</td><td>118</td><td> 8.0</td><td>72</td><td>5</td><td>2</td></tr>\n",
              "\t<tr><td> 12</td><td>149</td><td>12.6</td><td>74</td><td>5</td><td>3</td></tr>\n",
              "\t<tr><td> 18</td><td>313</td><td>11.5</td><td>62</td><td>5</td><td>4</td></tr>\n",
              "\t<tr><td> NA</td><td> NA</td><td>14.3</td><td>56</td><td>5</td><td>5</td></tr>\n",
              "\t<tr><td> NA</td><td>286</td><td> 8.6</td><td>78</td><td>6</td><td>1</td></tr>\n",
              "\t<tr><td> NA</td><td>287</td><td> 9.7</td><td>74</td><td>6</td><td>2</td></tr>\n",
              "\t<tr><td> NA</td><td>242</td><td>16.1</td><td>67</td><td>6</td><td>3</td></tr>\n",
              "\t<tr><td> NA</td><td>186</td><td> 9.2</td><td>84</td><td>6</td><td>4</td></tr>\n",
              "\t<tr><td> NA</td><td>220</td><td> 8.6</td><td>85</td><td>6</td><td>5</td></tr>\n",
              "\t<tr><td>135</td><td>269</td><td> 4.1</td><td>84</td><td>7</td><td>1</td></tr>\n",
              "\t<tr><td> 49</td><td>248</td><td> 9.2</td><td>85</td><td>7</td><td>2</td></tr>\n",
              "\t<tr><td> 32</td><td>236</td><td> 9.2</td><td>81</td><td>7</td><td>3</td></tr>\n",
              "\t<tr><td> NA</td><td>101</td><td>10.9</td><td>84</td><td>7</td><td>4</td></tr>\n",
              "\t<tr><td> 64</td><td>175</td><td> 4.6</td><td>83</td><td>7</td><td>5</td></tr>\n",
              "\t<tr><td> 39</td><td> 83</td><td> 6.9</td><td>81</td><td>8</td><td>1</td></tr>\n",
              "\t<tr><td>  9</td><td> 24</td><td>13.8</td><td>81</td><td>8</td><td>2</td></tr>\n",
              "\t<tr><td> 16</td><td> 77</td><td> 7.4</td><td>82</td><td>8</td><td>3</td></tr>\n",
              "\t<tr><td> 78</td><td> NA</td><td> 6.9</td><td>86</td><td>8</td><td>4</td></tr>\n",
              "\t<tr><td> 35</td><td> NA</td><td> 7.4</td><td>85</td><td>8</td><td>5</td></tr>\n",
              "\t<tr><td> 96</td><td>167</td><td> 6.9</td><td>91</td><td>9</td><td>1</td></tr>\n",
              "\t<tr><td> 78</td><td>197</td><td> 5.1</td><td>92</td><td>9</td><td>2</td></tr>\n",
              "\t<tr><td> 73</td><td>183</td><td> 2.8</td><td>93</td><td>9</td><td>3</td></tr>\n",
              "\t<tr><td> 91</td><td>189</td><td> 4.6</td><td>93</td><td>9</td><td>4</td></tr>\n",
              "\t<tr><td> 47</td><td> 95</td><td> 7.4</td><td>87</td><td>9</td><td>5</td></tr>\n",
              "</tbody>\n",
              "</table>\n"
            ],
            "text/markdown": "\nA data.frame: 25 × 6\n\n| Ozone &lt;int&gt; | Solar.R &lt;int&gt; | Wind &lt;dbl&gt; | Temp &lt;int&gt; | Month &lt;int&gt; | Day &lt;int&gt; |\n|---|---|---|---|---|---|\n|  41 | 190 |  7.4 | 67 | 5 | 1 |\n|  36 | 118 |  8.0 | 72 | 5 | 2 |\n|  12 | 149 | 12.6 | 74 | 5 | 3 |\n|  18 | 313 | 11.5 | 62 | 5 | 4 |\n|  NA |  NA | 14.3 | 56 | 5 | 5 |\n|  NA | 286 |  8.6 | 78 | 6 | 1 |\n|  NA | 287 |  9.7 | 74 | 6 | 2 |\n|  NA | 242 | 16.1 | 67 | 6 | 3 |\n|  NA | 186 |  9.2 | 84 | 6 | 4 |\n|  NA | 220 |  8.6 | 85 | 6 | 5 |\n| 135 | 269 |  4.1 | 84 | 7 | 1 |\n|  49 | 248 |  9.2 | 85 | 7 | 2 |\n|  32 | 236 |  9.2 | 81 | 7 | 3 |\n|  NA | 101 | 10.9 | 84 | 7 | 4 |\n|  64 | 175 |  4.6 | 83 | 7 | 5 |\n|  39 |  83 |  6.9 | 81 | 8 | 1 |\n|   9 |  24 | 13.8 | 81 | 8 | 2 |\n|  16 |  77 |  7.4 | 82 | 8 | 3 |\n|  78 |  NA |  6.9 | 86 | 8 | 4 |\n|  35 |  NA |  7.4 | 85 | 8 | 5 |\n|  96 | 167 |  6.9 | 91 | 9 | 1 |\n|  78 | 197 |  5.1 | 92 | 9 | 2 |\n|  73 | 183 |  2.8 | 93 | 9 | 3 |\n|  91 | 189 |  4.6 | 93 | 9 | 4 |\n|  47 |  95 |  7.4 | 87 | 9 | 5 |\n\n",
            "text/latex": "A data.frame: 25 × 6\n\\begin{tabular}{llllll}\n Ozone & Solar.R & Wind & Temp & Month & Day\\\\\n <int> & <int> & <dbl> & <int> & <int> & <int>\\\\\n\\hline\n\t  41 & 190 &  7.4 & 67 & 5 & 1\\\\\n\t  36 & 118 &  8.0 & 72 & 5 & 2\\\\\n\t  12 & 149 & 12.6 & 74 & 5 & 3\\\\\n\t  18 & 313 & 11.5 & 62 & 5 & 4\\\\\n\t  NA &  NA & 14.3 & 56 & 5 & 5\\\\\n\t  NA & 286 &  8.6 & 78 & 6 & 1\\\\\n\t  NA & 287 &  9.7 & 74 & 6 & 2\\\\\n\t  NA & 242 & 16.1 & 67 & 6 & 3\\\\\n\t  NA & 186 &  9.2 & 84 & 6 & 4\\\\\n\t  NA & 220 &  8.6 & 85 & 6 & 5\\\\\n\t 135 & 269 &  4.1 & 84 & 7 & 1\\\\\n\t  49 & 248 &  9.2 & 85 & 7 & 2\\\\\n\t  32 & 236 &  9.2 & 81 & 7 & 3\\\\\n\t  NA & 101 & 10.9 & 84 & 7 & 4\\\\\n\t  64 & 175 &  4.6 & 83 & 7 & 5\\\\\n\t  39 &  83 &  6.9 & 81 & 8 & 1\\\\\n\t   9 &  24 & 13.8 & 81 & 8 & 2\\\\\n\t  16 &  77 &  7.4 & 82 & 8 & 3\\\\\n\t  78 &  NA &  6.9 & 86 & 8 & 4\\\\\n\t  35 &  NA &  7.4 & 85 & 8 & 5\\\\\n\t  96 & 167 &  6.9 & 91 & 9 & 1\\\\\n\t  78 & 197 &  5.1 & 92 & 9 & 2\\\\\n\t  73 & 183 &  2.8 & 93 & 9 & 3\\\\\n\t  91 & 189 &  4.6 & 93 & 9 & 4\\\\\n\t  47 &  95 &  7.4 & 87 & 9 & 5\\\\\n\\end{tabular}\n",
            "text/plain": [
              "   Ozone Solar.R Wind Temp Month Day\n",
              "1   41   190      7.4 67   5     1  \n",
              "2   36   118      8.0 72   5     2  \n",
              "3   12   149     12.6 74   5     3  \n",
              "4   18   313     11.5 62   5     4  \n",
              "5   NA    NA     14.3 56   5     5  \n",
              "6   NA   286      8.6 78   6     1  \n",
              "7   NA   287      9.7 74   6     2  \n",
              "8   NA   242     16.1 67   6     3  \n",
              "9   NA   186      9.2 84   6     4  \n",
              "10  NA   220      8.6 85   6     5  \n",
              "11 135   269      4.1 84   7     1  \n",
              "12  49   248      9.2 85   7     2  \n",
              "13  32   236      9.2 81   7     3  \n",
              "14  NA   101     10.9 84   7     4  \n",
              "15  64   175      4.6 83   7     5  \n",
              "16  39    83      6.9 81   8     1  \n",
              "17   9    24     13.8 81   8     2  \n",
              "18  16    77      7.4 82   8     3  \n",
              "19  78    NA      6.9 86   8     4  \n",
              "20  35    NA      7.4 85   8     5  \n",
              "21  96   167      6.9 91   9     1  \n",
              "22  78   197      5.1 92   9     2  \n",
              "23  73   183      2.8 93   9     3  \n",
              "24  91   189      4.6 93   9     4  \n",
              "25  47    95      7.4 87   9     5  "
            ]
          },
          "metadata": {}
        }
      ]
    },
    {
      "cell_type": "code",
      "source": [
        "airquality %>% filter(Temp %in% c(69,81,91))"
      ],
      "metadata": {
        "colab": {
          "base_uri": "https://localhost:8080/",
          "height": 599
        },
        "id": "oWnqLY-qA1qP",
        "outputId": "1698130b-0d8d-4da8-d151-be6586f8dd71"
      },
      "execution_count": null,
      "outputs": [
        {
          "output_type": "display_data",
          "data": {
            "text/html": [
              "<table class=\"dataframe\">\n",
              "<caption>A data.frame: 16 × 6</caption>\n",
              "<thead>\n",
              "\t<tr><th scope=col>Ozone</th><th scope=col>Solar.R</th><th scope=col>Wind</th><th scope=col>Temp</th><th scope=col>Month</th><th scope=col>Day</th></tr>\n",
              "\t<tr><th scope=col>&lt;int&gt;</th><th scope=col>&lt;int&gt;</th><th scope=col>&lt;dbl&gt;</th><th scope=col>&lt;int&gt;</th><th scope=col>&lt;int&gt;</th><th scope=col>&lt;int&gt;</th></tr>\n",
              "</thead>\n",
              "<tbody>\n",
              "\t<tr><td> NA</td><td>194</td><td> 8.6</td><td>69</td><td>5</td><td>10</td></tr>\n",
              "\t<tr><td> 16</td><td>256</td><td> 9.7</td><td>69</td><td>5</td><td>12</td></tr>\n",
              "\t<tr><td> 45</td><td>252</td><td>14.9</td><td>81</td><td>5</td><td>29</td></tr>\n",
              "\t<tr><td> 32</td><td>236</td><td> 9.2</td><td>81</td><td>7</td><td> 3</td></tr>\n",
              "\t<tr><td> 27</td><td>175</td><td>14.9</td><td>81</td><td>7</td><td>13</td></tr>\n",
              "\t<tr><td> NA</td><td>291</td><td>14.9</td><td>91</td><td>7</td><td>14</td></tr>\n",
              "\t<tr><td> 48</td><td>260</td><td> 6.9</td><td>81</td><td>7</td><td>16</td></tr>\n",
              "\t<tr><td> NA</td><td>258</td><td> 9.7</td><td>81</td><td>7</td><td>22</td></tr>\n",
              "\t<tr><td> 59</td><td>254</td><td> 9.2</td><td>81</td><td>7</td><td>31</td></tr>\n",
              "\t<tr><td> 39</td><td> 83</td><td> 6.9</td><td>81</td><td>8</td><td> 1</td></tr>\n",
              "\t<tr><td>  9</td><td> 24</td><td>13.8</td><td>81</td><td>8</td><td> 2</td></tr>\n",
              "\t<tr><td>168</td><td>238</td><td> 3.4</td><td>81</td><td>8</td><td>25</td></tr>\n",
              "\t<tr><td> 96</td><td>167</td><td> 6.9</td><td>91</td><td>9</td><td> 1</td></tr>\n",
              "\t<tr><td> 44</td><td>236</td><td>14.9</td><td>81</td><td>9</td><td>11</td></tr>\n",
              "\t<tr><td> 36</td><td>139</td><td>10.3</td><td>81</td><td>9</td><td>23</td></tr>\n",
              "\t<tr><td>  7</td><td> 49</td><td>10.3</td><td>69</td><td>9</td><td>24</td></tr>\n",
              "</tbody>\n",
              "</table>\n"
            ],
            "text/markdown": "\nA data.frame: 16 × 6\n\n| Ozone &lt;int&gt; | Solar.R &lt;int&gt; | Wind &lt;dbl&gt; | Temp &lt;int&gt; | Month &lt;int&gt; | Day &lt;int&gt; |\n|---|---|---|---|---|---|\n|  NA | 194 |  8.6 | 69 | 5 | 10 |\n|  16 | 256 |  9.7 | 69 | 5 | 12 |\n|  45 | 252 | 14.9 | 81 | 5 | 29 |\n|  32 | 236 |  9.2 | 81 | 7 |  3 |\n|  27 | 175 | 14.9 | 81 | 7 | 13 |\n|  NA | 291 | 14.9 | 91 | 7 | 14 |\n|  48 | 260 |  6.9 | 81 | 7 | 16 |\n|  NA | 258 |  9.7 | 81 | 7 | 22 |\n|  59 | 254 |  9.2 | 81 | 7 | 31 |\n|  39 |  83 |  6.9 | 81 | 8 |  1 |\n|   9 |  24 | 13.8 | 81 | 8 |  2 |\n| 168 | 238 |  3.4 | 81 | 8 | 25 |\n|  96 | 167 |  6.9 | 91 | 9 |  1 |\n|  44 | 236 | 14.9 | 81 | 9 | 11 |\n|  36 | 139 | 10.3 | 81 | 9 | 23 |\n|   7 |  49 | 10.3 | 69 | 9 | 24 |\n\n",
            "text/latex": "A data.frame: 16 × 6\n\\begin{tabular}{llllll}\n Ozone & Solar.R & Wind & Temp & Month & Day\\\\\n <int> & <int> & <dbl> & <int> & <int> & <int>\\\\\n\\hline\n\t  NA & 194 &  8.6 & 69 & 5 & 10\\\\\n\t  16 & 256 &  9.7 & 69 & 5 & 12\\\\\n\t  45 & 252 & 14.9 & 81 & 5 & 29\\\\\n\t  32 & 236 &  9.2 & 81 & 7 &  3\\\\\n\t  27 & 175 & 14.9 & 81 & 7 & 13\\\\\n\t  NA & 291 & 14.9 & 91 & 7 & 14\\\\\n\t  48 & 260 &  6.9 & 81 & 7 & 16\\\\\n\t  NA & 258 &  9.7 & 81 & 7 & 22\\\\\n\t  59 & 254 &  9.2 & 81 & 7 & 31\\\\\n\t  39 &  83 &  6.9 & 81 & 8 &  1\\\\\n\t   9 &  24 & 13.8 & 81 & 8 &  2\\\\\n\t 168 & 238 &  3.4 & 81 & 8 & 25\\\\\n\t  96 & 167 &  6.9 & 91 & 9 &  1\\\\\n\t  44 & 236 & 14.9 & 81 & 9 & 11\\\\\n\t  36 & 139 & 10.3 & 81 & 9 & 23\\\\\n\t   7 &  49 & 10.3 & 69 & 9 & 24\\\\\n\\end{tabular}\n",
            "text/plain": [
              "   Ozone Solar.R Wind Temp Month Day\n",
              "1   NA   194      8.6 69   5     10 \n",
              "2   16   256      9.7 69   5     12 \n",
              "3   45   252     14.9 81   5     29 \n",
              "4   32   236      9.2 81   7      3 \n",
              "5   27   175     14.9 81   7     13 \n",
              "6   NA   291     14.9 91   7     14 \n",
              "7   48   260      6.9 81   7     16 \n",
              "8   NA   258      9.7 81   7     22 \n",
              "9   59   254      9.2 81   7     31 \n",
              "10  39    83      6.9 81   8      1 \n",
              "11   9    24     13.8 81   8      2 \n",
              "12 168   238      3.4 81   8     25 \n",
              "13  96   167      6.9 91   9      1 \n",
              "14  44   236     14.9 81   9     11 \n",
              "15  36   139     10.3 81   9     23 \n",
              "16   7    49     10.3 69   9     24 "
            ]
          },
          "metadata": {}
        }
      ]
    },
    {
      "cell_type": "markdown",
      "source": [
        "Quiz: filter only the records that temperature is higher than 5-time of wind speed."
      ],
      "metadata": {
        "id": "tGebYjtQDueT"
      }
    },
    {
      "cell_type": "code",
      "source": [
        "#your turn"
      ],
      "metadata": {
        "id": "Qleke7deELWq"
      },
      "execution_count": null,
      "outputs": []
    },
    {
      "cell_type": "markdown",
      "source": [
        "## **Mutate**"
      ],
      "metadata": {
        "id": "f8eRFTVXrS-Y"
      }
    },
    {
      "cell_type": "code",
      "source": [
        "airquality[1:10,]"
      ],
      "metadata": {
        "colab": {
          "base_uri": "https://localhost:8080/",
          "height": 411
        },
        "id": "_yDsY6dUrUwa",
        "outputId": "ab2a933a-4471-4e86-8b0a-c53a38347f04"
      },
      "execution_count": null,
      "outputs": [
        {
          "output_type": "display_data",
          "data": {
            "text/html": [
              "<table class=\"dataframe\">\n",
              "<caption>A data.frame: 10 × 6</caption>\n",
              "<thead>\n",
              "\t<tr><th></th><th scope=col>Ozone</th><th scope=col>Solar.R</th><th scope=col>Wind</th><th scope=col>Temp</th><th scope=col>Month</th><th scope=col>Day</th></tr>\n",
              "\t<tr><th></th><th scope=col>&lt;int&gt;</th><th scope=col>&lt;int&gt;</th><th scope=col>&lt;dbl&gt;</th><th scope=col>&lt;int&gt;</th><th scope=col>&lt;int&gt;</th><th scope=col>&lt;int&gt;</th></tr>\n",
              "</thead>\n",
              "<tbody>\n",
              "\t<tr><th scope=row>1</th><td>41</td><td>190</td><td> 7.4</td><td>67</td><td>5</td><td> 1</td></tr>\n",
              "\t<tr><th scope=row>2</th><td>36</td><td>118</td><td> 8.0</td><td>72</td><td>5</td><td> 2</td></tr>\n",
              "\t<tr><th scope=row>3</th><td>12</td><td>149</td><td>12.6</td><td>74</td><td>5</td><td> 3</td></tr>\n",
              "\t<tr><th scope=row>4</th><td>18</td><td>313</td><td>11.5</td><td>62</td><td>5</td><td> 4</td></tr>\n",
              "\t<tr><th scope=row>5</th><td>NA</td><td> NA</td><td>14.3</td><td>56</td><td>5</td><td> 5</td></tr>\n",
              "\t<tr><th scope=row>6</th><td>28</td><td> NA</td><td>14.9</td><td>66</td><td>5</td><td> 6</td></tr>\n",
              "\t<tr><th scope=row>7</th><td>23</td><td>299</td><td> 8.6</td><td>65</td><td>5</td><td> 7</td></tr>\n",
              "\t<tr><th scope=row>8</th><td>19</td><td> 99</td><td>13.8</td><td>59</td><td>5</td><td> 8</td></tr>\n",
              "\t<tr><th scope=row>9</th><td> 8</td><td> 19</td><td>20.1</td><td>61</td><td>5</td><td> 9</td></tr>\n",
              "\t<tr><th scope=row>10</th><td>NA</td><td>194</td><td> 8.6</td><td>69</td><td>5</td><td>10</td></tr>\n",
              "</tbody>\n",
              "</table>\n"
            ],
            "text/markdown": "\nA data.frame: 10 × 6\n\n| <!--/--> | Ozone &lt;int&gt; | Solar.R &lt;int&gt; | Wind &lt;dbl&gt; | Temp &lt;int&gt; | Month &lt;int&gt; | Day &lt;int&gt; |\n|---|---|---|---|---|---|---|\n| 1 | 41 | 190 |  7.4 | 67 | 5 |  1 |\n| 2 | 36 | 118 |  8.0 | 72 | 5 |  2 |\n| 3 | 12 | 149 | 12.6 | 74 | 5 |  3 |\n| 4 | 18 | 313 | 11.5 | 62 | 5 |  4 |\n| 5 | NA |  NA | 14.3 | 56 | 5 |  5 |\n| 6 | 28 |  NA | 14.9 | 66 | 5 |  6 |\n| 7 | 23 | 299 |  8.6 | 65 | 5 |  7 |\n| 8 | 19 |  99 | 13.8 | 59 | 5 |  8 |\n| 9 |  8 |  19 | 20.1 | 61 | 5 |  9 |\n| 10 | NA | 194 |  8.6 | 69 | 5 | 10 |\n\n",
            "text/latex": "A data.frame: 10 × 6\n\\begin{tabular}{r|llllll}\n  & Ozone & Solar.R & Wind & Temp & Month & Day\\\\\n  & <int> & <int> & <dbl> & <int> & <int> & <int>\\\\\n\\hline\n\t1 & 41 & 190 &  7.4 & 67 & 5 &  1\\\\\n\t2 & 36 & 118 &  8.0 & 72 & 5 &  2\\\\\n\t3 & 12 & 149 & 12.6 & 74 & 5 &  3\\\\\n\t4 & 18 & 313 & 11.5 & 62 & 5 &  4\\\\\n\t5 & NA &  NA & 14.3 & 56 & 5 &  5\\\\\n\t6 & 28 &  NA & 14.9 & 66 & 5 &  6\\\\\n\t7 & 23 & 299 &  8.6 & 65 & 5 &  7\\\\\n\t8 & 19 &  99 & 13.8 & 59 & 5 &  8\\\\\n\t9 &  8 &  19 & 20.1 & 61 & 5 &  9\\\\\n\t10 & NA & 194 &  8.6 & 69 & 5 & 10\\\\\n\\end{tabular}\n",
            "text/plain": [
              "   Ozone Solar.R Wind Temp Month Day\n",
              "1  41    190      7.4 67   5      1 \n",
              "2  36    118      8.0 72   5      2 \n",
              "3  12    149     12.6 74   5      3 \n",
              "4  18    313     11.5 62   5      4 \n",
              "5  NA     NA     14.3 56   5      5 \n",
              "6  28     NA     14.9 66   5      6 \n",
              "7  23    299      8.6 65   5      7 \n",
              "8  19     99     13.8 59   5      8 \n",
              "9   8     19     20.1 61   5      9 \n",
              "10 NA    194      8.6 69   5     10 "
            ]
          },
          "metadata": {}
        }
      ]
    },
    {
      "cell_type": "code",
      "source": [
        "airquality[1:10,] %>% mutate(Wind = sqrt(Wind))"
      ],
      "metadata": {
        "colab": {
          "base_uri": "https://localhost:8080/",
          "height": 411
        },
        "id": "nHd7wfSTrXzw",
        "outputId": "072a409a-9249-4746-e4aa-d67ca7cafebf"
      },
      "execution_count": null,
      "outputs": [
        {
          "output_type": "display_data",
          "data": {
            "text/html": [
              "<table class=\"dataframe\">\n",
              "<caption>A data.frame: 10 × 6</caption>\n",
              "<thead>\n",
              "\t<tr><th></th><th scope=col>Ozone</th><th scope=col>Solar.R</th><th scope=col>Wind</th><th scope=col>Temp</th><th scope=col>Month</th><th scope=col>Day</th></tr>\n",
              "\t<tr><th></th><th scope=col>&lt;int&gt;</th><th scope=col>&lt;int&gt;</th><th scope=col>&lt;dbl&gt;</th><th scope=col>&lt;int&gt;</th><th scope=col>&lt;int&gt;</th><th scope=col>&lt;int&gt;</th></tr>\n",
              "</thead>\n",
              "<tbody>\n",
              "\t<tr><th scope=row>1</th><td>41</td><td>190</td><td>2.720294</td><td>67</td><td>5</td><td> 1</td></tr>\n",
              "\t<tr><th scope=row>2</th><td>36</td><td>118</td><td>2.828427</td><td>72</td><td>5</td><td> 2</td></tr>\n",
              "\t<tr><th scope=row>3</th><td>12</td><td>149</td><td>3.549648</td><td>74</td><td>5</td><td> 3</td></tr>\n",
              "\t<tr><th scope=row>4</th><td>18</td><td>313</td><td>3.391165</td><td>62</td><td>5</td><td> 4</td></tr>\n",
              "\t<tr><th scope=row>5</th><td>NA</td><td> NA</td><td>3.781534</td><td>56</td><td>5</td><td> 5</td></tr>\n",
              "\t<tr><th scope=row>6</th><td>28</td><td> NA</td><td>3.860052</td><td>66</td><td>5</td><td> 6</td></tr>\n",
              "\t<tr><th scope=row>7</th><td>23</td><td>299</td><td>2.932576</td><td>65</td><td>5</td><td> 7</td></tr>\n",
              "\t<tr><th scope=row>8</th><td>19</td><td> 99</td><td>3.714835</td><td>59</td><td>5</td><td> 8</td></tr>\n",
              "\t<tr><th scope=row>9</th><td> 8</td><td> 19</td><td>4.483302</td><td>61</td><td>5</td><td> 9</td></tr>\n",
              "\t<tr><th scope=row>10</th><td>NA</td><td>194</td><td>2.932576</td><td>69</td><td>5</td><td>10</td></tr>\n",
              "</tbody>\n",
              "</table>\n"
            ],
            "text/markdown": "\nA data.frame: 10 × 6\n\n| <!--/--> | Ozone &lt;int&gt; | Solar.R &lt;int&gt; | Wind &lt;dbl&gt; | Temp &lt;int&gt; | Month &lt;int&gt; | Day &lt;int&gt; |\n|---|---|---|---|---|---|---|\n| 1 | 41 | 190 | 2.720294 | 67 | 5 |  1 |\n| 2 | 36 | 118 | 2.828427 | 72 | 5 |  2 |\n| 3 | 12 | 149 | 3.549648 | 74 | 5 |  3 |\n| 4 | 18 | 313 | 3.391165 | 62 | 5 |  4 |\n| 5 | NA |  NA | 3.781534 | 56 | 5 |  5 |\n| 6 | 28 |  NA | 3.860052 | 66 | 5 |  6 |\n| 7 | 23 | 299 | 2.932576 | 65 | 5 |  7 |\n| 8 | 19 |  99 | 3.714835 | 59 | 5 |  8 |\n| 9 |  8 |  19 | 4.483302 | 61 | 5 |  9 |\n| 10 | NA | 194 | 2.932576 | 69 | 5 | 10 |\n\n",
            "text/latex": "A data.frame: 10 × 6\n\\begin{tabular}{r|llllll}\n  & Ozone & Solar.R & Wind & Temp & Month & Day\\\\\n  & <int> & <int> & <dbl> & <int> & <int> & <int>\\\\\n\\hline\n\t1 & 41 & 190 & 2.720294 & 67 & 5 &  1\\\\\n\t2 & 36 & 118 & 2.828427 & 72 & 5 &  2\\\\\n\t3 & 12 & 149 & 3.549648 & 74 & 5 &  3\\\\\n\t4 & 18 & 313 & 3.391165 & 62 & 5 &  4\\\\\n\t5 & NA &  NA & 3.781534 & 56 & 5 &  5\\\\\n\t6 & 28 &  NA & 3.860052 & 66 & 5 &  6\\\\\n\t7 & 23 & 299 & 2.932576 & 65 & 5 &  7\\\\\n\t8 & 19 &  99 & 3.714835 & 59 & 5 &  8\\\\\n\t9 &  8 &  19 & 4.483302 & 61 & 5 &  9\\\\\n\t10 & NA & 194 & 2.932576 & 69 & 5 & 10\\\\\n\\end{tabular}\n",
            "text/plain": [
              "   Ozone Solar.R Wind     Temp Month Day\n",
              "1  41    190     2.720294 67   5      1 \n",
              "2  36    118     2.828427 72   5      2 \n",
              "3  12    149     3.549648 74   5      3 \n",
              "4  18    313     3.391165 62   5      4 \n",
              "5  NA     NA     3.781534 56   5      5 \n",
              "6  28     NA     3.860052 66   5      6 \n",
              "7  23    299     2.932576 65   5      7 \n",
              "8  19     99     3.714835 59   5      8 \n",
              "9   8     19     4.483302 61   5      9 \n",
              "10 NA    194     2.932576 69   5     10 "
            ]
          },
          "metadata": {}
        }
      ]
    },
    {
      "cell_type": "code",
      "source": [
        "airquality[1:10,] %>% mutate(wind2 = Wind^2)"
      ],
      "metadata": {
        "colab": {
          "base_uri": "https://localhost:8080/",
          "height": 411
        },
        "id": "Wi0TNiUHrhjI",
        "outputId": "60c80e2e-a48e-43ce-c50b-5cd8daab8051"
      },
      "execution_count": null,
      "outputs": [
        {
          "output_type": "display_data",
          "data": {
            "text/html": [
              "<table class=\"dataframe\">\n",
              "<caption>A data.frame: 10 × 7</caption>\n",
              "<thead>\n",
              "\t<tr><th></th><th scope=col>Ozone</th><th scope=col>Solar.R</th><th scope=col>Wind</th><th scope=col>Temp</th><th scope=col>Month</th><th scope=col>Day</th><th scope=col>wind2</th></tr>\n",
              "\t<tr><th></th><th scope=col>&lt;int&gt;</th><th scope=col>&lt;int&gt;</th><th scope=col>&lt;dbl&gt;</th><th scope=col>&lt;int&gt;</th><th scope=col>&lt;int&gt;</th><th scope=col>&lt;int&gt;</th><th scope=col>&lt;dbl&gt;</th></tr>\n",
              "</thead>\n",
              "<tbody>\n",
              "\t<tr><th scope=row>1</th><td>41</td><td>190</td><td> 7.4</td><td>67</td><td>5</td><td> 1</td><td> 54.76</td></tr>\n",
              "\t<tr><th scope=row>2</th><td>36</td><td>118</td><td> 8.0</td><td>72</td><td>5</td><td> 2</td><td> 64.00</td></tr>\n",
              "\t<tr><th scope=row>3</th><td>12</td><td>149</td><td>12.6</td><td>74</td><td>5</td><td> 3</td><td>158.76</td></tr>\n",
              "\t<tr><th scope=row>4</th><td>18</td><td>313</td><td>11.5</td><td>62</td><td>5</td><td> 4</td><td>132.25</td></tr>\n",
              "\t<tr><th scope=row>5</th><td>NA</td><td> NA</td><td>14.3</td><td>56</td><td>5</td><td> 5</td><td>204.49</td></tr>\n",
              "\t<tr><th scope=row>6</th><td>28</td><td> NA</td><td>14.9</td><td>66</td><td>5</td><td> 6</td><td>222.01</td></tr>\n",
              "\t<tr><th scope=row>7</th><td>23</td><td>299</td><td> 8.6</td><td>65</td><td>5</td><td> 7</td><td> 73.96</td></tr>\n",
              "\t<tr><th scope=row>8</th><td>19</td><td> 99</td><td>13.8</td><td>59</td><td>5</td><td> 8</td><td>190.44</td></tr>\n",
              "\t<tr><th scope=row>9</th><td> 8</td><td> 19</td><td>20.1</td><td>61</td><td>5</td><td> 9</td><td>404.01</td></tr>\n",
              "\t<tr><th scope=row>10</th><td>NA</td><td>194</td><td> 8.6</td><td>69</td><td>5</td><td>10</td><td> 73.96</td></tr>\n",
              "</tbody>\n",
              "</table>\n"
            ],
            "text/markdown": "\nA data.frame: 10 × 7\n\n| <!--/--> | Ozone &lt;int&gt; | Solar.R &lt;int&gt; | Wind &lt;dbl&gt; | Temp &lt;int&gt; | Month &lt;int&gt; | Day &lt;int&gt; | wind2 &lt;dbl&gt; |\n|---|---|---|---|---|---|---|---|\n| 1 | 41 | 190 |  7.4 | 67 | 5 |  1 |  54.76 |\n| 2 | 36 | 118 |  8.0 | 72 | 5 |  2 |  64.00 |\n| 3 | 12 | 149 | 12.6 | 74 | 5 |  3 | 158.76 |\n| 4 | 18 | 313 | 11.5 | 62 | 5 |  4 | 132.25 |\n| 5 | NA |  NA | 14.3 | 56 | 5 |  5 | 204.49 |\n| 6 | 28 |  NA | 14.9 | 66 | 5 |  6 | 222.01 |\n| 7 | 23 | 299 |  8.6 | 65 | 5 |  7 |  73.96 |\n| 8 | 19 |  99 | 13.8 | 59 | 5 |  8 | 190.44 |\n| 9 |  8 |  19 | 20.1 | 61 | 5 |  9 | 404.01 |\n| 10 | NA | 194 |  8.6 | 69 | 5 | 10 |  73.96 |\n\n",
            "text/latex": "A data.frame: 10 × 7\n\\begin{tabular}{r|lllllll}\n  & Ozone & Solar.R & Wind & Temp & Month & Day & wind2\\\\\n  & <int> & <int> & <dbl> & <int> & <int> & <int> & <dbl>\\\\\n\\hline\n\t1 & 41 & 190 &  7.4 & 67 & 5 &  1 &  54.76\\\\\n\t2 & 36 & 118 &  8.0 & 72 & 5 &  2 &  64.00\\\\\n\t3 & 12 & 149 & 12.6 & 74 & 5 &  3 & 158.76\\\\\n\t4 & 18 & 313 & 11.5 & 62 & 5 &  4 & 132.25\\\\\n\t5 & NA &  NA & 14.3 & 56 & 5 &  5 & 204.49\\\\\n\t6 & 28 &  NA & 14.9 & 66 & 5 &  6 & 222.01\\\\\n\t7 & 23 & 299 &  8.6 & 65 & 5 &  7 &  73.96\\\\\n\t8 & 19 &  99 & 13.8 & 59 & 5 &  8 & 190.44\\\\\n\t9 &  8 &  19 & 20.1 & 61 & 5 &  9 & 404.01\\\\\n\t10 & NA & 194 &  8.6 & 69 & 5 & 10 &  73.96\\\\\n\\end{tabular}\n",
            "text/plain": [
              "   Ozone Solar.R Wind Temp Month Day wind2 \n",
              "1  41    190      7.4 67   5      1   54.76\n",
              "2  36    118      8.0 72   5      2   64.00\n",
              "3  12    149     12.6 74   5      3  158.76\n",
              "4  18    313     11.5 62   5      4  132.25\n",
              "5  NA     NA     14.3 56   5      5  204.49\n",
              "6  28     NA     14.9 66   5      6  222.01\n",
              "7  23    299      8.6 65   5      7   73.96\n",
              "8  19     99     13.8 59   5      8  190.44\n",
              "9   8     19     20.1 61   5      9  404.01\n",
              "10 NA    194      8.6 69   5     10   73.96"
            ]
          },
          "metadata": {}
        }
      ]
    },
    {
      "cell_type": "markdown",
      "source": [
        "Quiz: Create new variable indicating wind speed per temperature unit for the full dataset"
      ],
      "metadata": {
        "id": "-vww2DEyES-C"
      }
    },
    {
      "cell_type": "code",
      "source": [
        "#your turn"
      ],
      "metadata": {
        "id": "dGBUki9ZEzrR"
      },
      "execution_count": null,
      "outputs": []
    },
    {
      "cell_type": "markdown",
      "source": [
        "## **Using tidyverse with epiDisplay**"
      ],
      "metadata": {
        "id": "4meKxfsLrqzr"
      }
    },
    {
      "cell_type": "markdown",
      "source": [
        "**tab1**"
      ],
      "metadata": {
        "id": "DpXYt3iKrwwr"
      }
    },
    {
      "cell_type": "code",
      "source": [
        "airquality %>% dplyr::select(Wind) %>% tab1()"
      ],
      "metadata": {
        "colab": {
          "base_uri": "https://localhost:8080/",
          "height": 1000
        },
        "id": "T7p5Sz1gr02Z",
        "outputId": "eea36135-ca68-43d4-e036-1c09339aa617"
      },
      "execution_count": null,
      "outputs": [
        {
          "output_type": "display_data",
          "data": {
            "text/html": [
              "<dl>\n",
              "\t<dt>$first.line</dt>\n",
              "\t\t<dd>'. : \\n'</dd>\n",
              "\t<dt>$output.table</dt>\n",
              "\t\t<dd><table class=\"dataframe\">\n",
              "<caption>A matrix: 32 × 3 of type dbl</caption>\n",
              "<thead>\n",
              "\t<tr><th></th><th scope=col>Frequency</th><th scope=col>Percent</th><th scope=col>Cum. percent</th></tr>\n",
              "</thead>\n",
              "<tbody>\n",
              "\t<tr><th scope=row>1.7</th><td>  1</td><td>  0.7</td><td>  0.7</td></tr>\n",
              "\t<tr><th scope=row>2.3</th><td>  1</td><td>  0.7</td><td>  1.3</td></tr>\n",
              "\t<tr><th scope=row>2.8</th><td>  1</td><td>  0.7</td><td>  2.0</td></tr>\n",
              "\t<tr><th scope=row>3.4</th><td>  1</td><td>  0.7</td><td>  2.6</td></tr>\n",
              "\t<tr><th scope=row>4</th><td>  1</td><td>  0.7</td><td>  3.3</td></tr>\n",
              "\t<tr><th scope=row>4.1</th><td>  1</td><td>  0.7</td><td>  3.9</td></tr>\n",
              "\t<tr><th scope=row>4.6</th><td>  4</td><td>  2.6</td><td>  6.5</td></tr>\n",
              "\t<tr><th scope=row>5.1</th><td>  3</td><td>  2.0</td><td>  8.5</td></tr>\n",
              "\t<tr><th scope=row>5.7</th><td>  3</td><td>  2.0</td><td> 10.5</td></tr>\n",
              "\t<tr><th scope=row>6.3</th><td>  8</td><td>  5.2</td><td> 15.7</td></tr>\n",
              "\t<tr><th scope=row>6.9</th><td>  9</td><td>  5.9</td><td> 21.6</td></tr>\n",
              "\t<tr><th scope=row>7.4</th><td> 10</td><td>  6.5</td><td> 28.1</td></tr>\n",
              "\t<tr><th scope=row>8</th><td> 11</td><td>  7.2</td><td> 35.3</td></tr>\n",
              "\t<tr><th scope=row>8.6</th><td>  8</td><td>  5.2</td><td> 40.5</td></tr>\n",
              "\t<tr><th scope=row>9.2</th><td>  8</td><td>  5.2</td><td> 45.8</td></tr>\n",
              "\t<tr><th scope=row>9.7</th><td> 11</td><td>  7.2</td><td> 52.9</td></tr>\n",
              "\t<tr><th scope=row>10.3</th><td> 11</td><td>  7.2</td><td> 60.1</td></tr>\n",
              "\t<tr><th scope=row>10.9</th><td>  8</td><td>  5.2</td><td> 65.4</td></tr>\n",
              "\t<tr><th scope=row>11.5</th><td> 15</td><td>  9.8</td><td> 75.2</td></tr>\n",
              "\t<tr><th scope=row>12</th><td>  4</td><td>  2.6</td><td> 77.8</td></tr>\n",
              "\t<tr><th scope=row>12.6</th><td>  3</td><td>  2.0</td><td> 79.7</td></tr>\n",
              "\t<tr><th scope=row>13.2</th><td>  2</td><td>  1.3</td><td> 81.0</td></tr>\n",
              "\t<tr><th scope=row>13.8</th><td>  5</td><td>  3.3</td><td> 84.3</td></tr>\n",
              "\t<tr><th scope=row>14.3</th><td>  6</td><td>  3.9</td><td> 88.2</td></tr>\n",
              "\t<tr><th scope=row>14.9</th><td>  8</td><td>  5.2</td><td> 93.5</td></tr>\n",
              "\t<tr><th scope=row>15.5</th><td>  3</td><td>  2.0</td><td> 95.4</td></tr>\n",
              "\t<tr><th scope=row>16.1</th><td>  1</td><td>  0.7</td><td> 96.1</td></tr>\n",
              "\t<tr><th scope=row>16.6</th><td>  3</td><td>  2.0</td><td> 98.0</td></tr>\n",
              "\t<tr><th scope=row>18.4</th><td>  1</td><td>  0.7</td><td> 98.7</td></tr>\n",
              "\t<tr><th scope=row>20.1</th><td>  1</td><td>  0.7</td><td> 99.3</td></tr>\n",
              "\t<tr><th scope=row>20.7</th><td>  1</td><td>  0.7</td><td>100.0</td></tr>\n",
              "\t<tr><th scope=row>  Total</th><td>153</td><td>100.0</td><td>100.0</td></tr>\n",
              "</tbody>\n",
              "</table>\n",
              "</dd>\n",
              "</dl>\n"
            ],
            "text/markdown": "$first.line\n:   '. : \\n'\n$output.table\n:   \nA matrix: 32 × 3 of type dbl\n\n| <!--/--> | Frequency | Percent | Cum. percent |\n|---|---|---|---|\n| 1.7 |   1 |   0.7 |   0.7 |\n| 2.3 |   1 |   0.7 |   1.3 |\n| 2.8 |   1 |   0.7 |   2.0 |\n| 3.4 |   1 |   0.7 |   2.6 |\n| 4 |   1 |   0.7 |   3.3 |\n| 4.1 |   1 |   0.7 |   3.9 |\n| 4.6 |   4 |   2.6 |   6.5 |\n| 5.1 |   3 |   2.0 |   8.5 |\n| 5.7 |   3 |   2.0 |  10.5 |\n| 6.3 |   8 |   5.2 |  15.7 |\n| 6.9 |   9 |   5.9 |  21.6 |\n| 7.4 |  10 |   6.5 |  28.1 |\n| 8 |  11 |   7.2 |  35.3 |\n| 8.6 |   8 |   5.2 |  40.5 |\n| 9.2 |   8 |   5.2 |  45.8 |\n| 9.7 |  11 |   7.2 |  52.9 |\n| 10.3 |  11 |   7.2 |  60.1 |\n| 10.9 |   8 |   5.2 |  65.4 |\n| 11.5 |  15 |   9.8 |  75.2 |\n| 12 |   4 |   2.6 |  77.8 |\n| 12.6 |   3 |   2.0 |  79.7 |\n| 13.2 |   2 |   1.3 |  81.0 |\n| 13.8 |   5 |   3.3 |  84.3 |\n| 14.3 |   6 |   3.9 |  88.2 |\n| 14.9 |   8 |   5.2 |  93.5 |\n| 15.5 |   3 |   2.0 |  95.4 |\n| 16.1 |   1 |   0.7 |  96.1 |\n| 16.6 |   3 |   2.0 |  98.0 |\n| 18.4 |   1 |   0.7 |  98.7 |\n| 20.1 |   1 |   0.7 |  99.3 |\n| 20.7 |   1 |   0.7 | 100.0 |\n|   Total | 153 | 100.0 | 100.0 |\n\n\n\n\n",
            "text/latex": "\\begin{description}\n\\item[\\$first.line] '. : \\textbackslash{}n'\n\\item[\\$output.table] A matrix: 32 × 3 of type dbl\n\\begin{tabular}{r|lll}\n  & Frequency & Percent & Cum. percent\\\\\n\\hline\n\t1.7 &   1 &   0.7 &   0.7\\\\\n\t2.3 &   1 &   0.7 &   1.3\\\\\n\t2.8 &   1 &   0.7 &   2.0\\\\\n\t3.4 &   1 &   0.7 &   2.6\\\\\n\t4 &   1 &   0.7 &   3.3\\\\\n\t4.1 &   1 &   0.7 &   3.9\\\\\n\t4.6 &   4 &   2.6 &   6.5\\\\\n\t5.1 &   3 &   2.0 &   8.5\\\\\n\t5.7 &   3 &   2.0 &  10.5\\\\\n\t6.3 &   8 &   5.2 &  15.7\\\\\n\t6.9 &   9 &   5.9 &  21.6\\\\\n\t7.4 &  10 &   6.5 &  28.1\\\\\n\t8 &  11 &   7.2 &  35.3\\\\\n\t8.6 &   8 &   5.2 &  40.5\\\\\n\t9.2 &   8 &   5.2 &  45.8\\\\\n\t9.7 &  11 &   7.2 &  52.9\\\\\n\t10.3 &  11 &   7.2 &  60.1\\\\\n\t10.9 &   8 &   5.2 &  65.4\\\\\n\t11.5 &  15 &   9.8 &  75.2\\\\\n\t12 &   4 &   2.6 &  77.8\\\\\n\t12.6 &   3 &   2.0 &  79.7\\\\\n\t13.2 &   2 &   1.3 &  81.0\\\\\n\t13.8 &   5 &   3.3 &  84.3\\\\\n\t14.3 &   6 &   3.9 &  88.2\\\\\n\t14.9 &   8 &   5.2 &  93.5\\\\\n\t15.5 &   3 &   2.0 &  95.4\\\\\n\t16.1 &   1 &   0.7 &  96.1\\\\\n\t16.6 &   3 &   2.0 &  98.0\\\\\n\t18.4 &   1 &   0.7 &  98.7\\\\\n\t20.1 &   1 &   0.7 &  99.3\\\\\n\t20.7 &   1 &   0.7 & 100.0\\\\\n\t  Total & 153 & 100.0 & 100.0\\\\\n\\end{tabular}\n\n\\end{description}\n",
            "text/plain": [
              ". : \n",
              "        Frequency Percent Cum. percent\n",
              "1.7             1     0.7          0.7\n",
              "2.3             1     0.7          1.3\n",
              "2.8             1     0.7          2.0\n",
              "3.4             1     0.7          2.6\n",
              "4               1     0.7          3.3\n",
              "4.1             1     0.7          3.9\n",
              "4.6             4     2.6          6.5\n",
              "5.1             3     2.0          8.5\n",
              "5.7             3     2.0         10.5\n",
              "6.3             8     5.2         15.7\n",
              "6.9             9     5.9         21.6\n",
              "7.4            10     6.5         28.1\n",
              "8              11     7.2         35.3\n",
              "8.6             8     5.2         40.5\n",
              "9.2             8     5.2         45.8\n",
              "9.7            11     7.2         52.9\n",
              "10.3           11     7.2         60.1\n",
              "10.9            8     5.2         65.4\n",
              "11.5           15     9.8         75.2\n",
              "12              4     2.6         77.8\n",
              "12.6            3     2.0         79.7\n",
              "13.2            2     1.3         81.0\n",
              "13.8            5     3.3         84.3\n",
              "14.3            6     3.9         88.2\n",
              "14.9            8     5.2         93.5\n",
              "15.5            3     2.0         95.4\n",
              "16.1            1     0.7         96.1\n",
              "16.6            3     2.0         98.0\n",
              "18.4            1     0.7         98.7\n",
              "20.1            1     0.7         99.3\n",
              "20.7            1     0.7        100.0\n",
              "  Total       153   100.0        100.0"
            ]
          },
          "metadata": {}
        },
        {
          "output_type": "display_data",
          "data": {
            "text/plain": [
              "Plot with title “Distribution of .”"
            ],
            "image/png": "[encoded data removed]"
          },
          "metadata": {
            "image/png": {
              "width": 420,
              "height": 420
            }
          }
        }
      ]
    },
    {
      "cell_type": "markdown",
      "source": [
        "**summ**"
      ],
      "metadata": {
        "id": "YbdEMwDysLHN"
      }
    },
    {
      "cell_type": "code",
      "source": [
        "airquality %>% dplyr::select(Ozone) %>% summ()"
      ],
      "metadata": {
        "colab": {
          "base_uri": "https://localhost:8080/",
          "height": 178
        },
        "id": "-38tT-34sOSE",
        "outputId": "bef8906f-3c08-42a8-cc59-dd2509a60451"
      },
      "execution_count": null,
      "outputs": [
        {
          "output_type": "display_data",
          "data": {
            "text/html": [
              "<dl>\n",
              "\t<dt>$heading</dt>\n",
              "\t\t<dd>'\\nNo. of observations = 153\\n\\n'</dd>\n",
              "\t<dt>$table</dt>\n",
              "\t\t<dd><table class=\"dataframe\">\n",
              "<caption>A matrix: 1 × 7 of type chr</caption>\n",
              "<thead>\n",
              "\t<tr><th></th><th scope=col>Var. name</th><th scope=col>obs.</th><th scope=col>mean  </th><th scope=col>median </th><th scope=col>s.d.  </th><th scope=col>min.  </th><th scope=col>max.  </th></tr>\n",
              "</thead>\n",
              "<tbody>\n",
              "\t<tr><th scope=row>1</th><td>Ozone</td><td>116</td><td>42.13</td><td>31.5</td><td>32.99</td><td>1</td><td>168</td></tr>\n",
              "</tbody>\n",
              "</table>\n",
              "</dd>\n",
              "</dl>\n"
            ],
            "text/markdown": "$heading\n:   '\\nNo. of observations = 153\\n\\n'\n$table\n:   \nA matrix: 1 × 7 of type chr\n\n| <!--/--> | Var. name | obs. | mean   | median  | s.d.   | min.   | max.   |\n|---|---|---|---|---|---|---|---|\n| 1 | Ozone | 116 | 42.13 | 31.5 | 32.99 | 1 | 168 |\n\n\n\n\n",
            "text/latex": "\\begin{description}\n\\item[\\$heading] '\\textbackslash{}nNo. of observations = 153\\textbackslash{}n\\textbackslash{}n'\n\\item[\\$table] A matrix: 1 × 7 of type chr\n\\begin{tabular}{r|lllllll}\n  & Var. name & obs. & mean   & median  & s.d.   & min.   & max.  \\\\\n\\hline\n\t1 & Ozone & 116 & 42.13 & 31.5 & 32.99 & 1 & 168\\\\\n\\end{tabular}\n\n\\end{description}\n",
            "text/plain": [
              "\n",
              "No. of observations = 153\n",
              "\n",
              "  Var. name obs. mean   median  s.d.   min.   max.  \n",
              "1 Ozone     116  42.13  31.5    32.99  1      168   "
            ]
          },
          "metadata": {}
        }
      ]
    },
    {
      "cell_type": "markdown",
      "source": [
        "**tableStack**"
      ],
      "metadata": {
        "id": "5vX_XEVCr-oJ"
      }
    },
    {
      "cell_type": "code",
      "source": [
        "tableStack(Wind,by=Month,dat=airquality)"
      ],
      "metadata": {
        "colab": {
          "base_uri": "https://localhost:8080/",
          "height": 236
        },
        "id": "mS9d-QPBr9_y",
        "outputId": "11bae8fd-a50a-4ff1-d3cb-e360b25c012f"
      },
      "execution_count": null,
      "outputs": [
        {
          "output_type": "display_data",
          "data": {
            "text/plain": [
              "           5          6          7       8         9         \n",
              "Total      31         30         31      31        30        \n",
              "                                                             \n",
              "Wind                                                         \n",
              "  mean(SD) 11.6 (3.5) 10.3 (3.8) 8.9 (3) 8.8 (3.2) 10.2 (3.5)\n",
              "                                                             \n",
              "           Test stat.                      P value\n",
              "Total                                             \n",
              "                                                  \n",
              "Wind       ANOVA F-test (4, 148 df) = 3.53 0.009  \n",
              "  mean(SD)                                        \n",
              "                                                  "
            ]
          },
          "metadata": {}
        }
      ]
    },
    {
      "cell_type": "markdown",
      "source": [
        "## **Reshape**"
      ],
      "metadata": {
        "id": "59drVk5_sev7"
      }
    },
    {
      "cell_type": "markdown",
      "source": [
        "Prepare data"
      ],
      "metadata": {
        "id": "Ow5LshvEsi_I"
      }
    },
    {
      "cell_type": "code",
      "source": [
        "rates <- data.frame(country=c(\"TH\",\"CH\",\"US\"),\n",
        "y2020 = c(3000,5500,5000),\n",
        "y2021 = c(4000,6500,4000),\n",
        "y2022 = c(5000,7500,8000))"
      ],
      "metadata": {
        "id": "qyrh6yFGsiZ4"
      },
      "execution_count": null,
      "outputs": []
    },
    {
      "cell_type": "markdown",
      "source": [
        "Use gather() to reshape 'rates'"
      ],
      "metadata": {
        "id": "ZVbsdyITt56q"
      }
    },
    {
      "cell_type": "code",
      "source": [
        "gather(rates, \"year\", \"n\", c(2,3))"
      ],
      "metadata": {
        "id": "4misb9PRvQtw",
        "colab": {
          "base_uri": "https://localhost:8080/",
          "height": 286
        },
        "outputId": "a94f45ec-59c2-4ca1-a5be-11a2121e3109"
      },
      "execution_count": null,
      "outputs": [
        {
          "output_type": "display_data",
          "data": {
            "text/html": [
              "<table class=\"dataframe\">\n",
              "<caption>A data.frame: 6 × 4</caption>\n",
              "<thead>\n",
              "\t<tr><th scope=col>country</th><th scope=col>y2022</th><th scope=col>year</th><th scope=col>n</th></tr>\n",
              "\t<tr><th scope=col>&lt;chr&gt;</th><th scope=col>&lt;dbl&gt;</th><th scope=col>&lt;chr&gt;</th><th scope=col>&lt;dbl&gt;</th></tr>\n",
              "</thead>\n",
              "<tbody>\n",
              "\t<tr><td>TH</td><td>5000</td><td>y2020</td><td>3000</td></tr>\n",
              "\t<tr><td>CH</td><td>7500</td><td>y2020</td><td>5500</td></tr>\n",
              "\t<tr><td>US</td><td>8000</td><td>y2020</td><td>5000</td></tr>\n",
              "\t<tr><td>TH</td><td>5000</td><td>y2021</td><td>4000</td></tr>\n",
              "\t<tr><td>CH</td><td>7500</td><td>y2021</td><td>6500</td></tr>\n",
              "\t<tr><td>US</td><td>8000</td><td>y2021</td><td>4000</td></tr>\n",
              "</tbody>\n",
              "</table>\n"
            ],
            "text/markdown": "\nA data.frame: 6 × 4\n\n| country &lt;chr&gt; | y2022 &lt;dbl&gt; | year &lt;chr&gt; | n &lt;dbl&gt; |\n|---|---|---|---|\n| TH | 5000 | y2020 | 3000 |\n| CH | 7500 | y2020 | 5500 |\n| US | 8000 | y2020 | 5000 |\n| TH | 5000 | y2021 | 4000 |\n| CH | 7500 | y2021 | 6500 |\n| US | 8000 | y2021 | 4000 |\n\n",
            "text/latex": "A data.frame: 6 × 4\n\\begin{tabular}{llll}\n country & y2022 & year & n\\\\\n <chr> & <dbl> & <chr> & <dbl>\\\\\n\\hline\n\t TH & 5000 & y2020 & 3000\\\\\n\t CH & 7500 & y2020 & 5500\\\\\n\t US & 8000 & y2020 & 5000\\\\\n\t TH & 5000 & y2021 & 4000\\\\\n\t CH & 7500 & y2021 & 6500\\\\\n\t US & 8000 & y2021 & 4000\\\\\n\\end{tabular}\n",
            "text/plain": [
              "  country y2022 year  n   \n",
              "1 TH      5000  y2020 3000\n",
              "2 CH      7500  y2020 5500\n",
              "3 US      8000  y2020 5000\n",
              "4 TH      5000  y2021 4000\n",
              "5 CH      7500  y2021 6500\n",
              "6 US      8000  y2021 4000"
            ]
          },
          "metadata": {}
        }
      ]
    },
    {
      "cell_type": "code",
      "source": [
        "rates"
      ],
      "metadata": {
        "colab": {
          "base_uri": "https://localhost:8080/",
          "height": 192
        },
        "id": "lOWvrP4xHG8A",
        "outputId": "82887ac6-d051-4d89-cfaf-b991fabd046e"
      },
      "execution_count": null,
      "outputs": [
        {
          "output_type": "display_data",
          "data": {
            "text/html": [
              "<table class=\"dataframe\">\n",
              "<caption>A data.frame: 3 × 4</caption>\n",
              "<thead>\n",
              "\t<tr><th scope=col>country</th><th scope=col>y2020</th><th scope=col>y2021</th><th scope=col>y2022</th></tr>\n",
              "\t<tr><th scope=col>&lt;chr&gt;</th><th scope=col>&lt;dbl&gt;</th><th scope=col>&lt;dbl&gt;</th><th scope=col>&lt;dbl&gt;</th></tr>\n",
              "</thead>\n",
              "<tbody>\n",
              "\t<tr><td>TH</td><td>3000</td><td>4000</td><td>5000</td></tr>\n",
              "\t<tr><td>CH</td><td>5500</td><td>6500</td><td>7500</td></tr>\n",
              "\t<tr><td>US</td><td>5000</td><td>4000</td><td>8000</td></tr>\n",
              "</tbody>\n",
              "</table>\n"
            ],
            "text/markdown": "\nA data.frame: 3 × 4\n\n| country &lt;chr&gt; | y2020 &lt;dbl&gt; | y2021 &lt;dbl&gt; | y2022 &lt;dbl&gt; |\n|---|---|---|---|\n| TH | 3000 | 4000 | 5000 |\n| CH | 5500 | 6500 | 7500 |\n| US | 5000 | 4000 | 8000 |\n\n",
            "text/latex": "A data.frame: 3 × 4\n\\begin{tabular}{llll}\n country & y2020 & y2021 & y2022\\\\\n <chr> & <dbl> & <dbl> & <dbl>\\\\\n\\hline\n\t TH & 3000 & 4000 & 5000\\\\\n\t CH & 5500 & 6500 & 7500\\\\\n\t US & 5000 & 4000 & 8000\\\\\n\\end{tabular}\n",
            "text/plain": [
              "  country y2020 y2021 y2022\n",
              "1 TH      3000  4000  5000 \n",
              "2 CH      5500  6500  7500 \n",
              "3 US      5000  4000  8000 "
            ]
          },
          "metadata": {}
        }
      ]
    },
    {
      "cell_type": "code",
      "source": [
        "pollution <- data.frame(city=c(\"New York\",\"New York\",\"London\",\"London\",\"Beijing\",\"Beijing\"),\n",
        "size=c(\"large\",\"small\",\"large\",\"small\",\"large\",\"small\"),\n",
        "amount=c(23,14,22,16,121,56))"
      ],
      "metadata": {
        "id": "GpkZrHlptI0A"
      },
      "execution_count": null,
      "outputs": []
    },
    {
      "cell_type": "markdown",
      "source": [
        "Use spread() to reshape 'pollution'"
      ],
      "metadata": {
        "id": "ACsZyJKpt_lS"
      }
    },
    {
      "cell_type": "code",
      "source": [
        "pollution %>% spread(size,amount) %>% arrange(desc(city))"
      ],
      "metadata": {
        "id": "hUQK_pg-vQCJ",
        "colab": {
          "base_uri": "https://localhost:8080/",
          "height": 192
        },
        "outputId": "b11495c2-e62e-4450-a49b-766a2a7ee6b9"
      },
      "execution_count": null,
      "outputs": [
        {
          "output_type": "display_data",
          "data": {
            "text/html": [
              "<table class=\"dataframe\">\n",
              "<caption>A data.frame: 3 × 3</caption>\n",
              "<thead>\n",
              "\t<tr><th scope=col>city</th><th scope=col>large</th><th scope=col>small</th></tr>\n",
              "\t<tr><th scope=col>&lt;chr&gt;</th><th scope=col>&lt;dbl&gt;</th><th scope=col>&lt;dbl&gt;</th></tr>\n",
              "</thead>\n",
              "<tbody>\n",
              "\t<tr><td>New York</td><td> 23</td><td>14</td></tr>\n",
              "\t<tr><td>London  </td><td> 22</td><td>16</td></tr>\n",
              "\t<tr><td>Beijing </td><td>121</td><td>56</td></tr>\n",
              "</tbody>\n",
              "</table>\n"
            ],
            "text/markdown": "\nA data.frame: 3 × 3\n\n| city &lt;chr&gt; | large &lt;dbl&gt; | small &lt;dbl&gt; |\n|---|---|---|\n| New York |  23 | 14 |\n| London   |  22 | 16 |\n| Beijing  | 121 | 56 |\n\n",
            "text/latex": "A data.frame: 3 × 3\n\\begin{tabular}{lll}\n city & large & small\\\\\n <chr> & <dbl> & <dbl>\\\\\n\\hline\n\t New York &  23 & 14\\\\\n\t London   &  22 & 16\\\\\n\t Beijing  & 121 & 56\\\\\n\\end{tabular}\n",
            "text/plain": [
              "  city     large small\n",
              "1 New York  23   14   \n",
              "2 London    22   16   \n",
              "3 Beijing  121   56   "
            ]
          },
          "metadata": {}
        }
      ]
    },
    {
      "cell_type": "markdown",
      "source": [
        "## **Joining data**"
      ],
      "metadata": {
        "id": "zTl20jy8vwWK"
      }
    },
    {
      "cell_type": "markdown",
      "source": [
        "prepare data"
      ],
      "metadata": {
        "id": "wM_O-vAUv92v"
      }
    },
    {
      "cell_type": "code",
      "source": [
        "y<-data.frame(x1=c(\"A\",\"B\",\"C\"),x2=1:3)\n",
        "z<-data.frame(x1=c(\"B\",\"C\",\"D\"),x2=c(2,3,4))"
      ],
      "metadata": {
        "id": "s-A6Fyjuv9J4"
      },
      "execution_count": null,
      "outputs": []
    },
    {
      "cell_type": "code",
      "source": [
        "songs<-data.frame(song=c(\"Across the Universe\",\"Come Together\",\"Hello, Goodbye\",\"Peggy Sue\"),\n",
        "name=c(\"John\",\"John\",\"Paul\",\"Buddy\"))\n",
        "artists<-data.frame(name=c(\"George\",\"John\",\"Paul\",\"Ringo\"),\n",
        "plays=c(\"sitar\",\"guitar\",\"bass\",\"drums\"))\n",
        "songs2<-data.frame(song=c(\"Across the Universe\",\"Come Together\",\"Hello, Goodbye\",\"Peggy Sue\"),\n",
        "first=c(\"John\",\"John\",\"Paul\",\"Buddy\"),\n",
        "last=c(\"Lennon\",\"Lennon\",\"McCartney\",\"Holly\"))\n",
        "artists2<-data.frame(first=c(\"George\",\"John\",\"Paul\",\"Ringo\",\"Paul\",\"John\"),\n",
        "last=c(\"Harrison\",\"Lennon\",\"McCartney\",\"Starr\",\"Simon\",\"Coltrane\"),\n",
        "plays=c(\"sitar\",\"guitar\",\"bass\",\"drums\",\"guitar\",\"sax\"))"
      ],
      "metadata": {
        "id": "Rx3ShWJYxqzh"
      },
      "execution_count": null,
      "outputs": []
    },
    {
      "cell_type": "markdown",
      "source": [
        "**Column binding**"
      ],
      "metadata": {
        "id": "vJlF6zPxws0I"
      }
    },
    {
      "cell_type": "code",
      "source": [
        "bind_cols(y, z)"
      ],
      "metadata": {
        "colab": {
          "base_uri": "https://localhost:8080/",
          "height": 283
        },
        "id": "9hOlu-wTw80C",
        "outputId": "0278fcbd-e597-4699-8e88-3c1e2b8e4d22"
      },
      "execution_count": null,
      "outputs": [
        {
          "output_type": "stream",
          "name": "stderr",
          "text": [
            "\u001b[1m\u001b[22mNew names:\n",
            "\u001b[36m•\u001b[39m `x1` -> `x1...1`\n",
            "\u001b[36m•\u001b[39m `x2` -> `x2...2`\n",
            "\u001b[36m•\u001b[39m `x1` -> `x1...3`\n",
            "\u001b[36m•\u001b[39m `x2` -> `x2...4`\n"
          ]
        },
        {
          "output_type": "display_data",
          "data": {
            "text/html": [
              "<table class=\"dataframe\">\n",
              "<caption>A data.frame: 3 × 4</caption>\n",
              "<thead>\n",
              "\t<tr><th scope=col>x1...1</th><th scope=col>x2...2</th><th scope=col>x1...3</th><th scope=col>x2...4</th></tr>\n",
              "\t<tr><th scope=col>&lt;chr&gt;</th><th scope=col>&lt;int&gt;</th><th scope=col>&lt;chr&gt;</th><th scope=col>&lt;dbl&gt;</th></tr>\n",
              "</thead>\n",
              "<tbody>\n",
              "\t<tr><td>A</td><td>1</td><td>B</td><td>2</td></tr>\n",
              "\t<tr><td>B</td><td>2</td><td>C</td><td>3</td></tr>\n",
              "\t<tr><td>C</td><td>3</td><td>D</td><td>4</td></tr>\n",
              "</tbody>\n",
              "</table>\n"
            ],
            "text/markdown": "\nA data.frame: 3 × 4\n\n| x1...1 &lt;chr&gt; | x2...2 &lt;int&gt; | x1...3 &lt;chr&gt; | x2...4 &lt;dbl&gt; |\n|---|---|---|---|\n| A | 1 | B | 2 |\n| B | 2 | C | 3 |\n| C | 3 | D | 4 |\n\n",
            "text/latex": "A data.frame: 3 × 4\n\\begin{tabular}{llll}\n x1...1 & x2...2 & x1...3 & x2...4\\\\\n <chr> & <int> & <chr> & <dbl>\\\\\n\\hline\n\t A & 1 & B & 2\\\\\n\t B & 2 & C & 3\\\\\n\t C & 3 & D & 4\\\\\n\\end{tabular}\n",
            "text/plain": [
              "  x1...1 x2...2 x1...3 x2...4\n",
              "1 A      1      B      2     \n",
              "2 B      2      C      3     \n",
              "3 C      3      D      4     "
            ]
          },
          "metadata": {}
        }
      ]
    },
    {
      "cell_type": "markdown",
      "source": [
        "**Row binding**"
      ],
      "metadata": {
        "id": "RfHXjNTww_Ng"
      }
    },
    {
      "cell_type": "code",
      "source": [
        "bind_rows(y, z)"
      ],
      "metadata": {
        "colab": {
          "base_uri": "https://localhost:8080/",
          "height": 303
        },
        "id": "0KirEfM1xCVJ",
        "outputId": "de93dc4e-bf7a-4ac6-db55-934d9738838d"
      },
      "execution_count": null,
      "outputs": [
        {
          "output_type": "display_data",
          "data": {
            "text/html": [
              "<table class=\"dataframe\">\n",
              "<caption>A data.frame: 6 × 2</caption>\n",
              "<thead>\n",
              "\t<tr><th scope=col>x1</th><th scope=col>x2</th></tr>\n",
              "\t<tr><th scope=col>&lt;chr&gt;</th><th scope=col>&lt;dbl&gt;</th></tr>\n",
              "</thead>\n",
              "<tbody>\n",
              "\t<tr><td>A</td><td>1</td></tr>\n",
              "\t<tr><td>B</td><td>2</td></tr>\n",
              "\t<tr><td>C</td><td>3</td></tr>\n",
              "\t<tr><td>B</td><td>2</td></tr>\n",
              "\t<tr><td>C</td><td>3</td></tr>\n",
              "\t<tr><td>D</td><td>4</td></tr>\n",
              "</tbody>\n",
              "</table>\n"
            ],
            "text/markdown": "\nA data.frame: 6 × 2\n\n| x1 &lt;chr&gt; | x2 &lt;dbl&gt; |\n|---|---|\n| A | 1 |\n| B | 2 |\n| C | 3 |\n| B | 2 |\n| C | 3 |\n| D | 4 |\n\n",
            "text/latex": "A data.frame: 6 × 2\n\\begin{tabular}{ll}\n x1 & x2\\\\\n <chr> & <dbl>\\\\\n\\hline\n\t A & 1\\\\\n\t B & 2\\\\\n\t C & 3\\\\\n\t B & 2\\\\\n\t C & 3\\\\\n\t D & 4\\\\\n\\end{tabular}\n",
            "text/plain": [
              "  x1 x2\n",
              "1 A  1 \n",
              "2 B  2 \n",
              "3 C  3 \n",
              "4 B  2 \n",
              "5 C  3 \n",
              "6 D  4 "
            ]
          },
          "metadata": {}
        }
      ]
    },
    {
      "cell_type": "markdown",
      "source": [
        "**Union**"
      ],
      "metadata": {
        "id": "OG0TCPQ7xI2G"
      }
    },
    {
      "cell_type": "code",
      "source": [
        "union(y, z)"
      ],
      "metadata": {
        "colab": {
          "base_uri": "https://localhost:8080/",
          "height": 241
        },
        "id": "2psGzgrCxP8C",
        "outputId": "9245bb14-20bc-485c-8e24-ca679d63c0f0"
      },
      "execution_count": null,
      "outputs": [
        {
          "output_type": "display_data",
          "data": {
            "text/html": [
              "<table class=\"dataframe\">\n",
              "<caption>A data.frame: 4 × 2</caption>\n",
              "<thead>\n",
              "\t<tr><th scope=col>x1</th><th scope=col>x2</th></tr>\n",
              "\t<tr><th scope=col>&lt;chr&gt;</th><th scope=col>&lt;dbl&gt;</th></tr>\n",
              "</thead>\n",
              "<tbody>\n",
              "\t<tr><td>A</td><td>1</td></tr>\n",
              "\t<tr><td>B</td><td>2</td></tr>\n",
              "\t<tr><td>C</td><td>3</td></tr>\n",
              "\t<tr><td>D</td><td>4</td></tr>\n",
              "</tbody>\n",
              "</table>\n"
            ],
            "text/markdown": "\nA data.frame: 4 × 2\n\n| x1 &lt;chr&gt; | x2 &lt;dbl&gt; |\n|---|---|\n| A | 1 |\n| B | 2 |\n| C | 3 |\n| D | 4 |\n\n",
            "text/latex": "A data.frame: 4 × 2\n\\begin{tabular}{ll}\n x1 & x2\\\\\n <chr> & <dbl>\\\\\n\\hline\n\t A & 1\\\\\n\t B & 2\\\\\n\t C & 3\\\\\n\t D & 4\\\\\n\\end{tabular}\n",
            "text/plain": [
              "  x1 x2\n",
              "1 A  1 \n",
              "2 B  2 \n",
              "3 C  3 \n",
              "4 D  4 "
            ]
          },
          "metadata": {}
        }
      ]
    },
    {
      "cell_type": "markdown",
      "source": [
        "**Intersect**"
      ],
      "metadata": {
        "id": "GcHGVm-VxZTp"
      }
    },
    {
      "cell_type": "code",
      "source": [
        "intersect(y, z)"
      ],
      "metadata": {
        "colab": {
          "base_uri": "https://localhost:8080/",
          "height": 178
        },
        "id": "rQNGY6kaxd0R",
        "outputId": "0e20ff23-02d9-41e5-8964-94a060d1d0b5"
      },
      "execution_count": null,
      "outputs": [
        {
          "output_type": "display_data",
          "data": {
            "text/html": [
              "<table class=\"dataframe\">\n",
              "<caption>A data.frame: 2 × 2</caption>\n",
              "<thead>\n",
              "\t<tr><th scope=col>x1</th><th scope=col>x2</th></tr>\n",
              "\t<tr><th scope=col>&lt;chr&gt;</th><th scope=col>&lt;dbl&gt;</th></tr>\n",
              "</thead>\n",
              "<tbody>\n",
              "\t<tr><td>B</td><td>2</td></tr>\n",
              "\t<tr><td>C</td><td>3</td></tr>\n",
              "</tbody>\n",
              "</table>\n"
            ],
            "text/markdown": "\nA data.frame: 2 × 2\n\n| x1 &lt;chr&gt; | x2 &lt;dbl&gt; |\n|---|---|\n| B | 2 |\n| C | 3 |\n\n",
            "text/latex": "A data.frame: 2 × 2\n\\begin{tabular}{ll}\n x1 & x2\\\\\n <chr> & <dbl>\\\\\n\\hline\n\t B & 2\\\\\n\t C & 3\\\\\n\\end{tabular}\n",
            "text/plain": [
              "  x1 x2\n",
              "1 B  2 \n",
              "2 C  3 "
            ]
          },
          "metadata": {}
        }
      ]
    },
    {
      "cell_type": "markdown",
      "source": [
        "**Setdiff**"
      ],
      "metadata": {
        "id": "p6rRS4SixhvA"
      }
    },
    {
      "cell_type": "code",
      "source": [
        "setdiff(y, z)"
      ],
      "metadata": {
        "colab": {
          "base_uri": "https://localhost:8080/",
          "height": 147
        },
        "id": "S-pQe1m_xlzj",
        "outputId": "a4b2b8a9-e179-4a15-f84c-9d71ee4ce518"
      },
      "execution_count": null,
      "outputs": [
        {
          "output_type": "display_data",
          "data": {
            "text/html": [
              "<table class=\"dataframe\">\n",
              "<caption>A data.frame: 1 × 2</caption>\n",
              "<thead>\n",
              "\t<tr><th scope=col>x1</th><th scope=col>x2</th></tr>\n",
              "\t<tr><th scope=col>&lt;chr&gt;</th><th scope=col>&lt;dbl&gt;</th></tr>\n",
              "</thead>\n",
              "<tbody>\n",
              "\t<tr><td>A</td><td>1</td></tr>\n",
              "</tbody>\n",
              "</table>\n"
            ],
            "text/markdown": "\nA data.frame: 1 × 2\n\n| x1 &lt;chr&gt; | x2 &lt;dbl&gt; |\n|---|---|\n| A | 1 |\n\n",
            "text/latex": "A data.frame: 1 × 2\n\\begin{tabular}{ll}\n x1 & x2\\\\\n <chr> & <dbl>\\\\\n\\hline\n\t A & 1\\\\\n\\end{tabular}\n",
            "text/plain": [
              "  x1 x2\n",
              "1 A  1 "
            ]
          },
          "metadata": {}
        }
      ]
    },
    {
      "cell_type": "markdown",
      "source": [
        "**Left join**"
      ],
      "metadata": {
        "id": "oWEn-UVnzwqp"
      }
    },
    {
      "cell_type": "code",
      "source": [
        "songs"
      ],
      "metadata": {
        "colab": {
          "base_uri": "https://localhost:8080/",
          "height": 223
        },
        "id": "dPGltoIPLnAP",
        "outputId": "ac5c3634-5f5a-43e4-abf3-1ad587297156"
      },
      "execution_count": null,
      "outputs": [
        {
          "output_type": "display_data",
          "data": {
            "text/html": [
              "<table class=\"dataframe\">\n",
              "<caption>A data.frame: 4 × 2</caption>\n",
              "<thead>\n",
              "\t<tr><th scope=col>song</th><th scope=col>name</th></tr>\n",
              "\t<tr><th scope=col>&lt;chr&gt;</th><th scope=col>&lt;chr&gt;</th></tr>\n",
              "</thead>\n",
              "<tbody>\n",
              "\t<tr><td>Across the Universe</td><td>John </td></tr>\n",
              "\t<tr><td>Come Together      </td><td>John </td></tr>\n",
              "\t<tr><td>Hello, Goodbye     </td><td>Paul </td></tr>\n",
              "\t<tr><td>Peggy Sue          </td><td>Buddy</td></tr>\n",
              "</tbody>\n",
              "</table>\n"
            ],
            "text/markdown": "\nA data.frame: 4 × 2\n\n| song &lt;chr&gt; | name &lt;chr&gt; |\n|---|---|\n| Across the Universe | John  |\n| Come Together       | John  |\n| Hello, Goodbye      | Paul  |\n| Peggy Sue           | Buddy |\n\n",
            "text/latex": "A data.frame: 4 × 2\n\\begin{tabular}{ll}\n song & name\\\\\n <chr> & <chr>\\\\\n\\hline\n\t Across the Universe & John \\\\\n\t Come Together       & John \\\\\n\t Hello, Goodbye      & Paul \\\\\n\t Peggy Sue           & Buddy\\\\\n\\end{tabular}\n",
            "text/plain": [
              "  song                name \n",
              "1 Across the Universe John \n",
              "2 Come Together       John \n",
              "3 Hello, Goodbye      Paul \n",
              "4 Peggy Sue           Buddy"
            ]
          },
          "metadata": {}
        }
      ]
    },
    {
      "cell_type": "code",
      "source": [
        "left_join(songs, artists, by = \"name\")"
      ],
      "metadata": {
        "colab": {
          "base_uri": "https://localhost:8080/",
          "height": 223
        },
        "id": "518-b60jz-Lh",
        "outputId": "b7d80573-4543-40d9-b9a5-d1a89041fe86"
      },
      "execution_count": null,
      "outputs": [
        {
          "output_type": "display_data",
          "data": {
            "text/html": [
              "<table class=\"dataframe\">\n",
              "<caption>A data.frame: 4 × 3</caption>\n",
              "<thead>\n",
              "\t<tr><th scope=col>song</th><th scope=col>name</th><th scope=col>plays</th></tr>\n",
              "\t<tr><th scope=col>&lt;chr&gt;</th><th scope=col>&lt;chr&gt;</th><th scope=col>&lt;chr&gt;</th></tr>\n",
              "</thead>\n",
              "<tbody>\n",
              "\t<tr><td>Across the Universe</td><td>John </td><td>guitar</td></tr>\n",
              "\t<tr><td>Come Together      </td><td>John </td><td>guitar</td></tr>\n",
              "\t<tr><td>Hello, Goodbye     </td><td>Paul </td><td>bass  </td></tr>\n",
              "\t<tr><td>Peggy Sue          </td><td>Buddy</td><td>NA    </td></tr>\n",
              "</tbody>\n",
              "</table>\n"
            ],
            "text/markdown": "\nA data.frame: 4 × 3\n\n| song &lt;chr&gt; | name &lt;chr&gt; | plays &lt;chr&gt; |\n|---|---|---|\n| Across the Universe | John  | guitar |\n| Come Together       | John  | guitar |\n| Hello, Goodbye      | Paul  | bass   |\n| Peggy Sue           | Buddy | NA     |\n\n",
            "text/latex": "A data.frame: 4 × 3\n\\begin{tabular}{lll}\n song & name & plays\\\\\n <chr> & <chr> & <chr>\\\\\n\\hline\n\t Across the Universe & John  & guitar\\\\\n\t Come Together       & John  & guitar\\\\\n\t Hello, Goodbye      & Paul  & bass  \\\\\n\t Peggy Sue           & Buddy & NA    \\\\\n\\end{tabular}\n",
            "text/plain": [
              "  song                name  plays \n",
              "1 Across the Universe John  guitar\n",
              "2 Come Together       John  guitar\n",
              "3 Hello, Goodbye      Paul  bass  \n",
              "4 Peggy Sue           Buddy NA    "
            ]
          },
          "metadata": {}
        }
      ]
    },
    {
      "cell_type": "code",
      "source": [
        "songs2"
      ],
      "metadata": {
        "colab": {
          "base_uri": "https://localhost:8080/",
          "height": 223
        },
        "id": "eR_25Mw9LrV8",
        "outputId": "39e7bb85-91c1-44a1-9ee9-74de47d5239b"
      },
      "execution_count": null,
      "outputs": [
        {
          "output_type": "display_data",
          "data": {
            "text/html": [
              "<table class=\"dataframe\">\n",
              "<caption>A data.frame: 4 × 3</caption>\n",
              "<thead>\n",
              "\t<tr><th scope=col>song</th><th scope=col>first</th><th scope=col>last</th></tr>\n",
              "\t<tr><th scope=col>&lt;chr&gt;</th><th scope=col>&lt;chr&gt;</th><th scope=col>&lt;chr&gt;</th></tr>\n",
              "</thead>\n",
              "<tbody>\n",
              "\t<tr><td>Across the Universe</td><td>John </td><td>Lennon   </td></tr>\n",
              "\t<tr><td>Come Together      </td><td>John </td><td>Lennon   </td></tr>\n",
              "\t<tr><td>Hello, Goodbye     </td><td>Paul </td><td>McCartney</td></tr>\n",
              "\t<tr><td>Peggy Sue          </td><td>Buddy</td><td>Holly    </td></tr>\n",
              "</tbody>\n",
              "</table>\n"
            ],
            "text/markdown": "\nA data.frame: 4 × 3\n\n| song &lt;chr&gt; | first &lt;chr&gt; | last &lt;chr&gt; |\n|---|---|---|\n| Across the Universe | John  | Lennon    |\n| Come Together       | John  | Lennon    |\n| Hello, Goodbye      | Paul  | McCartney |\n| Peggy Sue           | Buddy | Holly     |\n\n",
            "text/latex": "A data.frame: 4 × 3\n\\begin{tabular}{lll}\n song & first & last\\\\\n <chr> & <chr> & <chr>\\\\\n\\hline\n\t Across the Universe & John  & Lennon   \\\\\n\t Come Together       & John  & Lennon   \\\\\n\t Hello, Goodbye      & Paul  & McCartney\\\\\n\t Peggy Sue           & Buddy & Holly    \\\\\n\\end{tabular}\n",
            "text/plain": [
              "  song                first last     \n",
              "1 Across the Universe John  Lennon   \n",
              "2 Come Together       John  Lennon   \n",
              "3 Hello, Goodbye      Paul  McCartney\n",
              "4 Peggy Sue           Buddy Holly    "
            ]
          },
          "metadata": {}
        }
      ]
    },
    {
      "cell_type": "code",
      "source": [
        "left_join(songs2, artists2, by = c(\"first\", \"last\"))"
      ],
      "metadata": {
        "colab": {
          "base_uri": "https://localhost:8080/",
          "height": 223
        },
        "id": "x622mbSa0EjJ",
        "outputId": "cbe65497-a64e-48dc-ef10-7f0c70a46076"
      },
      "execution_count": null,
      "outputs": [
        {
          "output_type": "display_data",
          "data": {
            "text/html": [
              "<table class=\"dataframe\">\n",
              "<caption>A data.frame: 4 × 4</caption>\n",
              "<thead>\n",
              "\t<tr><th scope=col>song</th><th scope=col>first</th><th scope=col>last</th><th scope=col>plays</th></tr>\n",
              "\t<tr><th scope=col>&lt;chr&gt;</th><th scope=col>&lt;chr&gt;</th><th scope=col>&lt;chr&gt;</th><th scope=col>&lt;chr&gt;</th></tr>\n",
              "</thead>\n",
              "<tbody>\n",
              "\t<tr><td>Across the Universe</td><td>John </td><td>Lennon   </td><td>guitar</td></tr>\n",
              "\t<tr><td>Come Together      </td><td>John </td><td>Lennon   </td><td>guitar</td></tr>\n",
              "\t<tr><td>Hello, Goodbye     </td><td>Paul </td><td>McCartney</td><td>bass  </td></tr>\n",
              "\t<tr><td>Peggy Sue          </td><td>Buddy</td><td>Holly    </td><td>NA    </td></tr>\n",
              "</tbody>\n",
              "</table>\n"
            ],
            "text/markdown": "\nA data.frame: 4 × 4\n\n| song &lt;chr&gt; | first &lt;chr&gt; | last &lt;chr&gt; | plays &lt;chr&gt; |\n|---|---|---|---|\n| Across the Universe | John  | Lennon    | guitar |\n| Come Together       | John  | Lennon    | guitar |\n| Hello, Goodbye      | Paul  | McCartney | bass   |\n| Peggy Sue           | Buddy | Holly     | NA     |\n\n",
            "text/latex": "A data.frame: 4 × 4\n\\begin{tabular}{llll}\n song & first & last & plays\\\\\n <chr> & <chr> & <chr> & <chr>\\\\\n\\hline\n\t Across the Universe & John  & Lennon    & guitar\\\\\n\t Come Together       & John  & Lennon    & guitar\\\\\n\t Hello, Goodbye      & Paul  & McCartney & bass  \\\\\n\t Peggy Sue           & Buddy & Holly     & NA    \\\\\n\\end{tabular}\n",
            "text/plain": [
              "  song                first last      plays \n",
              "1 Across the Universe John  Lennon    guitar\n",
              "2 Come Together       John  Lennon    guitar\n",
              "3 Hello, Goodbye      Paul  McCartney bass  \n",
              "4 Peggy Sue           Buddy Holly     NA    "
            ]
          },
          "metadata": {}
        }
      ]
    },
    {
      "cell_type": "code",
      "source": [
        "left_join(artists2, songs2, by = c(\"first\", \"last\"))"
      ],
      "metadata": {
        "colab": {
          "base_uri": "https://localhost:8080/",
          "height": 317
        },
        "id": "dM5eOXVRL-iM",
        "outputId": "f9491341-e911-49ad-e14f-c3eec8d6031f"
      },
      "execution_count": null,
      "outputs": [
        {
          "output_type": "display_data",
          "data": {
            "text/html": [
              "<table class=\"dataframe\">\n",
              "<caption>A data.frame: 7 × 4</caption>\n",
              "<thead>\n",
              "\t<tr><th scope=col>first</th><th scope=col>last</th><th scope=col>plays</th><th scope=col>song</th></tr>\n",
              "\t<tr><th scope=col>&lt;chr&gt;</th><th scope=col>&lt;chr&gt;</th><th scope=col>&lt;chr&gt;</th><th scope=col>&lt;chr&gt;</th></tr>\n",
              "</thead>\n",
              "<tbody>\n",
              "\t<tr><td>George</td><td>Harrison </td><td>sitar </td><td>NA                 </td></tr>\n",
              "\t<tr><td>John  </td><td>Lennon   </td><td>guitar</td><td>Across the Universe</td></tr>\n",
              "\t<tr><td>John  </td><td>Lennon   </td><td>guitar</td><td>Come Together      </td></tr>\n",
              "\t<tr><td>Paul  </td><td>McCartney</td><td>bass  </td><td>Hello, Goodbye     </td></tr>\n",
              "\t<tr><td>Ringo </td><td>Starr    </td><td>drums </td><td>NA                 </td></tr>\n",
              "\t<tr><td>Paul  </td><td>Simon    </td><td>guitar</td><td>NA                 </td></tr>\n",
              "\t<tr><td>John  </td><td>Coltrane </td><td>sax   </td><td>NA                 </td></tr>\n",
              "</tbody>\n",
              "</table>\n"
            ],
            "text/markdown": "\nA data.frame: 7 × 4\n\n| first &lt;chr&gt; | last &lt;chr&gt; | plays &lt;chr&gt; | song &lt;chr&gt; |\n|---|---|---|---|\n| George | Harrison  | sitar  | NA                  |\n| John   | Lennon    | guitar | Across the Universe |\n| John   | Lennon    | guitar | Come Together       |\n| Paul   | McCartney | bass   | Hello, Goodbye      |\n| Ringo  | Starr     | drums  | NA                  |\n| Paul   | Simon     | guitar | NA                  |\n| John   | Coltrane  | sax    | NA                  |\n\n",
            "text/latex": "A data.frame: 7 × 4\n\\begin{tabular}{llll}\n first & last & plays & song\\\\\n <chr> & <chr> & <chr> & <chr>\\\\\n\\hline\n\t George & Harrison  & sitar  & NA                 \\\\\n\t John   & Lennon    & guitar & Across the Universe\\\\\n\t John   & Lennon    & guitar & Come Together      \\\\\n\t Paul   & McCartney & bass   & Hello, Goodbye     \\\\\n\t Ringo  & Starr     & drums  & NA                 \\\\\n\t Paul   & Simon     & guitar & NA                 \\\\\n\t John   & Coltrane  & sax    & NA                 \\\\\n\\end{tabular}\n",
            "text/plain": [
              "  first  last      plays  song               \n",
              "1 George Harrison  sitar  NA                 \n",
              "2 John   Lennon    guitar Across the Universe\n",
              "3 John   Lennon    guitar Come Together      \n",
              "4 Paul   McCartney bass   Hello, Goodbye     \n",
              "5 Ringo  Starr     drums  NA                 \n",
              "6 Paul   Simon     guitar NA                 \n",
              "7 John   Coltrane  sax    NA                 "
            ]
          },
          "metadata": {}
        }
      ]
    },
    {
      "cell_type": "code",
      "source": [
        "artists2"
      ],
      "metadata": {
        "colab": {
          "base_uri": "https://localhost:8080/",
          "height": 286
        },
        "id": "OT4llRHNMIgE",
        "outputId": "ef422295-0a22-4900-aad0-edf2d7d6b59c"
      },
      "execution_count": null,
      "outputs": [
        {
          "output_type": "display_data",
          "data": {
            "text/html": [
              "<table class=\"dataframe\">\n",
              "<caption>A data.frame: 6 × 3</caption>\n",
              "<thead>\n",
              "\t<tr><th scope=col>first</th><th scope=col>last</th><th scope=col>plays</th></tr>\n",
              "\t<tr><th scope=col>&lt;chr&gt;</th><th scope=col>&lt;chr&gt;</th><th scope=col>&lt;chr&gt;</th></tr>\n",
              "</thead>\n",
              "<tbody>\n",
              "\t<tr><td>George</td><td>Harrison </td><td>sitar </td></tr>\n",
              "\t<tr><td>John  </td><td>Lennon   </td><td>guitar</td></tr>\n",
              "\t<tr><td>Paul  </td><td>McCartney</td><td>bass  </td></tr>\n",
              "\t<tr><td>Ringo </td><td>Starr    </td><td>drums </td></tr>\n",
              "\t<tr><td>Paul  </td><td>Simon    </td><td>guitar</td></tr>\n",
              "\t<tr><td>John  </td><td>Coltrane </td><td>sax   </td></tr>\n",
              "</tbody>\n",
              "</table>\n"
            ],
            "text/markdown": "\nA data.frame: 6 × 3\n\n| first &lt;chr&gt; | last &lt;chr&gt; | plays &lt;chr&gt; |\n|---|---|---|\n| George | Harrison  | sitar  |\n| John   | Lennon    | guitar |\n| Paul   | McCartney | bass   |\n| Ringo  | Starr     | drums  |\n| Paul   | Simon     | guitar |\n| John   | Coltrane  | sax    |\n\n",
            "text/latex": "A data.frame: 6 × 3\n\\begin{tabular}{lll}\n first & last & plays\\\\\n <chr> & <chr> & <chr>\\\\\n\\hline\n\t George & Harrison  & sitar \\\\\n\t John   & Lennon    & guitar\\\\\n\t Paul   & McCartney & bass  \\\\\n\t Ringo  & Starr     & drums \\\\\n\t Paul   & Simon     & guitar\\\\\n\t John   & Coltrane  & sax   \\\\\n\\end{tabular}\n",
            "text/plain": [
              "  first  last      plays \n",
              "1 George Harrison  sitar \n",
              "2 John   Lennon    guitar\n",
              "3 Paul   McCartney bass  \n",
              "4 Ringo  Starr     drums \n",
              "5 Paul   Simon     guitar\n",
              "6 John   Coltrane  sax   "
            ]
          },
          "metadata": {}
        }
      ]
    },
    {
      "cell_type": "markdown",
      "source": [
        "## **Cross-tabulation**"
      ],
      "metadata": {
        "id": "0FTCCT960W2Z"
      }
    },
    {
      "cell_type": "code",
      "source": [
        "dm <- array(c( 2, 90, 2, 660,\n",
        "               16,360,13,1250,\n",
        "               41,557, 7, 774,\n",
        "               35,449, 5, 173),\n",
        "             dim = c(2,2,4),\n",
        "             list(dm = c(\"Diabetic\", \"Not diabetic\"),\n",
        "                  death = c(TRUE, FALSE),\n",
        "                  agegroup = c(\"51-60\",\"61-70\",\"71-80\",\">80\")))\n",
        "print(dm)"
      ],
      "metadata": {
        "colab": {
          "base_uri": "https://localhost:8080/"
        },
        "id": "8La5L2k20b5y",
        "outputId": "4d0a5ed2-8b40-490b-a97e-fd93e26d7a02"
      },
      "execution_count": null,
      "outputs": [
        {
          "output_type": "stream",
          "name": "stdout",
          "text": [
            ", , agegroup = 51-60\n",
            "\n",
            "              death\n",
            "dm             TRUE FALSE\n",
            "  Diabetic        2     2\n",
            "  Not diabetic   90   660\n",
            "\n",
            ", , agegroup = 61-70\n",
            "\n",
            "              death\n",
            "dm             TRUE FALSE\n",
            "  Diabetic       16    13\n",
            "  Not diabetic  360  1250\n",
            "\n",
            ", , agegroup = 71-80\n",
            "\n",
            "              death\n",
            "dm             TRUE FALSE\n",
            "  Diabetic       41     7\n",
            "  Not diabetic  557   774\n",
            "\n",
            ", , agegroup = >80\n",
            "\n",
            "              death\n",
            "dm             TRUE FALSE\n",
            "  Diabetic       35     5\n",
            "  Not diabetic  449   173\n",
            "\n"
          ]
        }
      ]
    },
    {
      "cell_type": "code",
      "source": [
        "ai <- dm[1,1,]\n",
        "bi <- dm[1,2,]\n",
        "ci <- dm[2,1,]\n",
        "di <- dm[2,2,]\n",
        "\n",
        "data.frame(ai, bi, ci, di)"
      ],
      "metadata": {
        "colab": {
          "base_uri": "https://localhost:8080/",
          "height": 223
        },
        "id": "vuZCE9Lx1Zmq",
        "outputId": "cb543c2c-f485-487b-e37c-3e86280feb9e"
      },
      "execution_count": null,
      "outputs": [
        {
          "output_type": "display_data",
          "data": {
            "text/html": [
              "<table class=\"dataframe\">\n",
              "<caption>A data.frame: 4 × 4</caption>\n",
              "<thead>\n",
              "\t<tr><th></th><th scope=col>ai</th><th scope=col>bi</th><th scope=col>ci</th><th scope=col>di</th></tr>\n",
              "\t<tr><th></th><th scope=col>&lt;dbl&gt;</th><th scope=col>&lt;dbl&gt;</th><th scope=col>&lt;dbl&gt;</th><th scope=col>&lt;dbl&gt;</th></tr>\n",
              "</thead>\n",
              "<tbody>\n",
              "\t<tr><th scope=row>51-60</th><td> 2</td><td> 2</td><td> 90</td><td> 660</td></tr>\n",
              "\t<tr><th scope=row>61-70</th><td>16</td><td>13</td><td>360</td><td>1250</td></tr>\n",
              "\t<tr><th scope=row>71-80</th><td>41</td><td> 7</td><td>557</td><td> 774</td></tr>\n",
              "\t<tr><th scope=row>&gt;80</th><td>35</td><td> 5</td><td>449</td><td> 173</td></tr>\n",
              "</tbody>\n",
              "</table>\n"
            ],
            "text/markdown": "\nA data.frame: 4 × 4\n\n| <!--/--> | ai &lt;dbl&gt; | bi &lt;dbl&gt; | ci &lt;dbl&gt; | di &lt;dbl&gt; |\n|---|---|---|---|---|\n| 51-60 |  2 |  2 |  90 |  660 |\n| 61-70 | 16 | 13 | 360 | 1250 |\n| 71-80 | 41 |  7 | 557 |  774 |\n| &gt;80 | 35 |  5 | 449 |  173 |\n\n",
            "text/latex": "A data.frame: 4 × 4\n\\begin{tabular}{r|llll}\n  & ai & bi & ci & di\\\\\n  & <dbl> & <dbl> & <dbl> & <dbl>\\\\\n\\hline\n\t51-60 &  2 &  2 &  90 &  660\\\\\n\t61-70 & 16 & 13 & 360 & 1250\\\\\n\t71-80 & 41 &  7 & 557 &  774\\\\\n\t>80 & 35 &  5 & 449 &  173\\\\\n\\end{tabular}\n",
            "text/plain": [
              "      ai bi ci  di  \n",
              "51-60  2  2  90  660\n",
              "61-70 16 13 360 1250\n",
              "71-80 41  7 557  774\n",
              ">80   35  5 449  173"
            ]
          },
          "metadata": {}
        }
      ]
    },
    {
      "cell_type": "markdown",
      "source": [
        "Overall crude OR"
      ],
      "metadata": {
        "id": "CTxQXlk32cjj"
      }
    },
    {
      "cell_type": "code",
      "source": [
        "(sum(ai) * sum(di)) / (sum(bi) * sum(ci))"
      ],
      "metadata": {
        "colab": {
          "base_uri": "https://localhost:8080/",
          "height": 34
        },
        "id": "ZBSLBSB62T-x",
        "outputId": "90ce29dd-6e13-45f6-bb62-1c5e83e62a18"
      },
      "execution_count": null,
      "outputs": [
        {
          "output_type": "display_data",
          "data": {
            "text/html": [
              "6.83145095645096"
            ],
            "text/markdown": "6.83145095645096",
            "text/latex": "6.83145095645096",
            "text/plain": [
              "[1] 6.831451"
            ]
          },
          "metadata": {}
        }
      ]
    },
    {
      "cell_type": "markdown",
      "source": [
        "OR for each age stratum"
      ],
      "metadata": {
        "id": "fESjUpm62jq3"
      }
    },
    {
      "cell_type": "code",
      "source": [
        "as.data.frame((ai * di) / (bi * ci))"
      ],
      "metadata": {
        "colab": {
          "base_uri": "https://localhost:8080/",
          "height": 223
        },
        "id": "024JFt6x2oA6",
        "outputId": "cfe44487-f62f-4b29-903c-2d4821bbfe58"
      },
      "execution_count": null,
      "outputs": [
        {
          "output_type": "display_data",
          "data": {
            "text/html": [
              "<table class=\"dataframe\">\n",
              "<caption>A data.frame: 4 × 1</caption>\n",
              "<thead>\n",
              "\t<tr><th></th><th scope=col>(ai * di)/(bi * ci)</th></tr>\n",
              "\t<tr><th></th><th scope=col>&lt;dbl&gt;</th></tr>\n",
              "</thead>\n",
              "<tbody>\n",
              "\t<tr><th scope=row>51-60</th><td>7.333333</td></tr>\n",
              "\t<tr><th scope=row>61-70</th><td>4.273504</td></tr>\n",
              "\t<tr><th scope=row>71-80</th><td>8.139010</td></tr>\n",
              "\t<tr><th scope=row>&gt;80</th><td>2.697105</td></tr>\n",
              "</tbody>\n",
              "</table>\n"
            ],
            "text/markdown": "\nA data.frame: 4 × 1\n\n| <!--/--> | (ai * di)/(bi * ci) &lt;dbl&gt; |\n|---|---|\n| 51-60 | 7.333333 |\n| 61-70 | 4.273504 |\n| 71-80 | 8.139010 |\n| &gt;80 | 2.697105 |\n\n",
            "text/latex": "A data.frame: 4 × 1\n\\begin{tabular}{r|l}\n  & (ai * di)/(bi * ci)\\\\\n  & <dbl>\\\\\n\\hline\n\t51-60 & 7.333333\\\\\n\t61-70 & 4.273504\\\\\n\t71-80 & 8.139010\\\\\n\t>80 & 2.697105\\\\\n\\end{tabular}\n",
            "text/plain": [
              "      (ai * di)/(bi * ci)\n",
              "51-60 7.333333           \n",
              "61-70 4.273504           \n",
              "71-80 8.139010           \n",
              ">80   2.697105           "
            ]
          },
          "metadata": {}
        }
      ]
    },
    {
      "cell_type": "markdown",
      "source": [
        "**Mantel-Haenszel method:**"
      ],
      "metadata": {
        "id": "7Ow8NfAi3TEB"
      }
    },
    {
      "cell_type": "code",
      "source": [
        "Ti <- (ai + bi + ci + di)               # 1. Total for each level separately\n",
        "numerator   <- sum((ai * di) / Ti)      # 2. (ai * di) / Ti for each level, then sum\n",
        "denominator <- sum((bi * ci) / Ti)      # 3. (bi * ci) / Ti for each level, then sum\n",
        "OR.mh <- numerator / denominator        # 4. Divide 2 by 3\n",
        "print(OR.mh)"
      ],
      "metadata": {
        "colab": {
          "base_uri": "https://localhost:8080/"
        },
        "id": "vcJXavk53KXR",
        "outputId": "e8f5e807-0b29-4ab3-c320-f641cd7986b2"
      },
      "execution_count": null,
      "outputs": [
        {
          "output_type": "stream",
          "name": "stdout",
          "text": [
            "[1] 4.951486\n"
          ]
        }
      ]
    },
    {
      "cell_type": "markdown",
      "source": [
        "**Compare with logistic regression**"
      ],
      "metadata": {
        "id": "JhmeUwdA5NcL"
      }
    },
    {
      "cell_type": "code",
      "source": [
        "dmt<-as.data.frame.table(dm) \n",
        "print(dmt)"
      ],
      "metadata": {
        "colab": {
          "base_uri": "https://localhost:8080/"
        },
        "id": "f83hIVkX4RCT",
        "outputId": "90be761e-4b14-404e-f5ba-f4f359f4965b"
      },
      "execution_count": null,
      "outputs": [
        {
          "output_type": "stream",
          "name": "stdout",
          "text": [
            "             dm death agegroup Freq\n",
            "1      Diabetic  TRUE    51-60    2\n",
            "2  Not diabetic  TRUE    51-60   90\n",
            "3      Diabetic FALSE    51-60    2\n",
            "4  Not diabetic FALSE    51-60  660\n",
            "5      Diabetic  TRUE    61-70   16\n",
            "6  Not diabetic  TRUE    61-70  360\n",
            "7      Diabetic FALSE    61-70   13\n",
            "8  Not diabetic FALSE    61-70 1250\n",
            "9      Diabetic  TRUE    71-80   41\n",
            "10 Not diabetic  TRUE    71-80  557\n",
            "11     Diabetic FALSE    71-80    7\n",
            "12 Not diabetic FALSE    71-80  774\n",
            "13     Diabetic  TRUE      >80   35\n",
            "14 Not diabetic  TRUE      >80  449\n",
            "15     Diabetic FALSE      >80    5\n",
            "16 Not diabetic FALSE      >80  173\n"
          ]
        }
      ]
    },
    {
      "cell_type": "code",
      "source": [
        "logitdm<-glm(death~dm+agegroup,weights = Freq,family=\"binomial\",data=dmt)\n",
        "logistic.display(logitdm)"
      ],
      "metadata": {
        "colab": {
          "base_uri": "https://localhost:8080/",
          "height": 366
        },
        "id": "S__s2gW34b4j",
        "outputId": "71e493ee-0e71-49c9-f23b-116f9d8e5592"
      },
      "execution_count": null,
      "outputs": [
        {
          "output_type": "display_data",
          "data": {
            "text/html": [
              "<dl>\n",
              "\t<dt>$first.line</dt>\n",
              "\t\t<dd>'\\nLogistic regression predicting death : FALSE vs TRUE \\n'</dd>\n",
              "\t<dt>$table</dt>\n",
              "\t\t<dd><table class=\"dataframe\">\n",
              "<caption>A matrix: 7 × 4 of type chr</caption>\n",
              "<thead>\n",
              "\t<tr><th></th><th scope=col>crude OR(95%CI)</th><th scope=col>adj. OR(95%CI)</th><th scope=col>P(Wald's test)</th><th scope=col>P(LR-test)</th></tr>\n",
              "</thead>\n",
              "<tbody>\n",
              "\t<tr><th scope=row>dm: Not diabetic vs Diabetic</th><td>6.83 (4.43,10.53) </td><td>5.15 (3.25,8.16) </td><td>&lt; 0.001</td><td>&lt; 0.001</td></tr>\n",
              "\t<tr><th scope=row></th><td>                  </td><td>                 </td><td>       </td><td>       </td></tr>\n",
              "\t<tr><th scope=row>agegroup: ref.=51-60</th><td><span style=white-space:pre-wrap>                  </span></td><td><span style=white-space:pre-wrap>                 </span></td><td><span style=white-space:pre-wrap>       </span></td><td>&lt; 0.001</td></tr>\n",
              "\t<tr><th scope=row>   61-70</th><td><span style=white-space:pre-wrap>0.47 (0.36,0.6)   </span></td><td>0.48 (0.37,0.61) </td><td>&lt; 0.001</td><td><span style=white-space:pre-wrap>       </span></td></tr>\n",
              "\t<tr><th scope=row>   71-80</th><td><span style=white-space:pre-wrap>0.18 (0.14,0.23)  </span></td><td>0.19 (0.15,0.24) </td><td>&lt; 0.001</td><td><span style=white-space:pre-wrap>       </span></td></tr>\n",
              "\t<tr><th scope=row><span style=white-space:pre-wrap>   &gt;80</span></th><td><span style=white-space:pre-wrap>0.05 (0.04,0.07)  </span></td><td>0.05 (0.04,0.07) </td><td>&lt; 0.001</td><td><span style=white-space:pre-wrap>       </span></td></tr>\n",
              "\t<tr><th scope=row></th><td>                  </td><td>                 </td><td>       </td><td>       </td></tr>\n",
              "</tbody>\n",
              "</table>\n",
              "</dd>\n",
              "\t<dt>$last.lines</dt>\n",
              "\t\t<dd>'Log-likelihood = -2462.6738\\nNo. of observations = 16\\nAIC value = 4935.3475\\n\\n'</dd>\n",
              "</dl>\n"
            ],
            "text/markdown": "$first.line\n:   '\\nLogistic regression predicting death : FALSE vs TRUE \\n'\n$table\n:   \nA matrix: 7 × 4 of type chr\n\n| <!--/--> | crude OR(95%CI) | adj. OR(95%CI) | P(Wald's test) | P(LR-test) |\n|---|---|---|---|---|\n| dm: Not diabetic vs Diabetic | 6.83 (4.43,10.53)  | 5.15 (3.25,8.16)  | &lt; 0.001 | &lt; 0.001 |\n| <!----> | <!----> | <!----> | <!----> | <!----> |\n| agegroup: ref.=51-60 | <!----> | <!----> | <!----> | &lt; 0.001 |\n|    61-70 | 0.47 (0.36,0.6)    | 0.48 (0.37,0.61)  | &lt; 0.001 | <!----> |\n|    71-80 | 0.18 (0.14,0.23)   | 0.19 (0.15,0.24)  | &lt; 0.001 | <!----> |\n|    &gt;80 | 0.05 (0.04,0.07)   | 0.05 (0.04,0.07)  | &lt; 0.001 | <!----> |\n| <!----> | <!----> | <!----> | <!----> | <!----> |\n\n\n$last.lines\n:   'Log-likelihood = -2462.6738\\nNo. of observations = 16\\nAIC value = 4935.3475\\n\\n'\n\n\n",
            "text/latex": "\\begin{description}\n\\item[\\$first.line] '\\textbackslash{}nLogistic regression predicting death : FALSE vs TRUE \\textbackslash{}n'\n\\item[\\$table] A matrix: 7 × 4 of type chr\n\\begin{tabular}{r|llll}\n  & crude OR(95\\%CI) & adj. OR(95\\%CI) & P(Wald's test) & P(LR-test)\\\\\n\\hline\n\tdm: Not diabetic vs Diabetic & 6.83 (4.43,10.53)  & 5.15 (3.25,8.16)  & < 0.001 & < 0.001\\\\\n\t &                    &                   &         &        \\\\\n\tagegroup: ref.=51-60 &                    &                   &         & < 0.001\\\\\n\t   61-70 & 0.47 (0.36,0.6)    & 0.48 (0.37,0.61)  & < 0.001 &        \\\\\n\t   71-80 & 0.18 (0.14,0.23)   & 0.19 (0.15,0.24)  & < 0.001 &        \\\\\n\t   >80 & 0.05 (0.04,0.07)   & 0.05 (0.04,0.07)  & < 0.001 &        \\\\\n\t &                    &                   &         &        \\\\\n\\end{tabular}\n\n\\item[\\$last.lines] 'Log-likelihood = -2462.6738\\textbackslash{}nNo. of observations = 16\\textbackslash{}nAIC value = 4935.3475\\textbackslash{}n\\textbackslash{}n'\n\\end{description}\n",
            "text/plain": [
              "\n",
              "Logistic regression predicting death : FALSE vs TRUE \n",
              " \n",
              "                             crude OR(95%CI)    adj. OR(95%CI)   \n",
              "dm: Not diabetic vs Diabetic 6.83 (4.43,10.53)  5.15 (3.25,8.16) \n",
              "                                                                 \n",
              "agegroup: ref.=51-60                                             \n",
              "   61-70                     0.47 (0.36,0.6)    0.48 (0.37,0.61) \n",
              "   71-80                     0.18 (0.14,0.23)   0.19 (0.15,0.24) \n",
              "   >80                       0.05 (0.04,0.07)   0.05 (0.04,0.07) \n",
              "                                                                 \n",
              "                             P(Wald's test) P(LR-test)\n",
              "dm: Not diabetic vs Diabetic < 0.001        < 0.001   \n",
              "                                                      \n",
              "agegroup: ref.=51-60                        < 0.001   \n",
              "   61-70                     < 0.001                  \n",
              "   71-80                     < 0.001                  \n",
              "   >80                       < 0.001                  \n",
              "                                                      \n",
              "Log-likelihood = -2462.6738\n",
              "No. of observations = 16\n",
              "AIC value = 4935.3475\n"
            ]
          },
          "metadata": {}
        }
      ]
    },
    {
      "cell_type": "markdown",
      "source": [
        "# **#Final Assignment**"
      ],
      "metadata": {
        "id": "sqid6Gw_mPXH"
      }
    },
    {
      "cell_type": "markdown",
      "source": [
        "Import COVID-19 data (aggregated data) using the codes below:"
      ],
      "metadata": {
        "id": "djHcLC3hm-zB"
      }
    },
    {
      "cell_type": "code",
      "source": [
        "options(warn=-1)\n",
        "temp <- tempfile()\n",
        "download.file(\"https://drive.google.com/uc?id=1h4YnufppyllFMUbQnN3fuxk4ywyz2_Y7&authuser=0&export=download\", temp)\n",
        "svaz<-read.csv(temp)\n",
        "names(svaz)<-tolower(names(svaz))\n",
        "options(warn=0)"
      ],
      "metadata": {
        "id": "F5W7HxTmmS_P"
      },
      "execution_count": null,
      "outputs": []
    },
    {
      "cell_type": "code",
      "source": [
        "svaz"
      ],
      "metadata": {
        "colab": {
          "base_uri": "https://localhost:8080/",
          "height": 1000
        },
        "id": "zi49EG2Dm58B",
        "outputId": "e8e47db1-9ad5-4873-8929-eaa084779e57"
      },
      "execution_count": null,
      "outputs": [
        {
          "output_type": "display_data",
          "data": {
            "text/html": [
              "<table class=\"dataframe\">\n",
              "<caption>A data.frame: 2389 × 7</caption>\n",
              "<thead>\n",
              "\t<tr><th scope=col>vac_type</th><th scope=col>sex</th><th scope=col>agegroup</th><th scope=col>vac_date</th><th scope=col>inf_date</th><th scope=col>severe</th><th scope=col>freq</th></tr>\n",
              "\t<tr><th scope=col>&lt;chr&gt;</th><th scope=col>&lt;chr&gt;</th><th scope=col>&lt;chr&gt;</th><th scope=col>&lt;chr&gt;</th><th scope=col>&lt;chr&gt;</th><th scope=col>&lt;lgl&gt;</th><th scope=col>&lt;int&gt;</th></tr>\n",
              "</thead>\n",
              "<tbody>\n",
              "\t<tr><td>SV-AZ</td><td>Male  </td><td>21-40</td><td>2021-11</td><td>2022-05</td><td>TRUE</td><td>1</td></tr>\n",
              "\t<tr><td>SV-AZ</td><td>Male  </td><td>21-40</td><td>2021-12</td><td>2022-05</td><td>TRUE</td><td>1</td></tr>\n",
              "\t<tr><td>SV-AZ</td><td>Male  </td><td>21-40</td><td>2022-01</td><td>2022-05</td><td>TRUE</td><td>1</td></tr>\n",
              "\t<tr><td>SV-AZ</td><td>Female</td><td>21-40</td><td>2021-08</td><td>2021-10</td><td>TRUE</td><td>1</td></tr>\n",
              "\t<tr><td>SV-AZ</td><td>Female</td><td>21-40</td><td>2021-08</td><td>2021-12</td><td>TRUE</td><td>1</td></tr>\n",
              "\t<tr><td>SV-AZ</td><td>Female</td><td>21-40</td><td>2021-09</td><td>2021-12</td><td>TRUE</td><td>1</td></tr>\n",
              "\t<tr><td>SV-AZ</td><td>Female</td><td>21-40</td><td>2021-09</td><td>2022-01</td><td>TRUE</td><td>1</td></tr>\n",
              "\t<tr><td>SV-AZ</td><td>Female</td><td>21-40</td><td>2021-09</td><td>2022-03</td><td>TRUE</td><td>1</td></tr>\n",
              "\t<tr><td>SV-AZ</td><td>Female</td><td>21-40</td><td>2021-10</td><td>2021-12</td><td>TRUE</td><td>1</td></tr>\n",
              "\t<tr><td>SV-AZ</td><td>Female</td><td>21-40</td><td>2021-10</td><td>2022-01</td><td>TRUE</td><td>1</td></tr>\n",
              "\t<tr><td>SV-AZ</td><td>Female</td><td>21-40</td><td>2021-10</td><td>2022-03</td><td>TRUE</td><td>1</td></tr>\n",
              "\t<tr><td>SV-AZ</td><td>Female</td><td>21-40</td><td>2021-10</td><td>2022-04</td><td>TRUE</td><td>1</td></tr>\n",
              "\t<tr><td>SV-AZ</td><td>Female</td><td>21-40</td><td>2021-11</td><td>2022-01</td><td>TRUE</td><td>1</td></tr>\n",
              "\t<tr><td>SV-AZ</td><td>Female</td><td>21-40</td><td>2021-11</td><td>2022-03</td><td>TRUE</td><td>1</td></tr>\n",
              "\t<tr><td>SV-AZ</td><td>Female</td><td>21-40</td><td>2021-11</td><td>2022-04</td><td>TRUE</td><td>1</td></tr>\n",
              "\t<tr><td>SV-AZ</td><td>Female</td><td>21-40</td><td>2021-12</td><td>2022-03</td><td>TRUE</td><td>1</td></tr>\n",
              "\t<tr><td>SV-AZ</td><td>Female</td><td>21-40</td><td>2021-12</td><td>2022-04</td><td>TRUE</td><td>1</td></tr>\n",
              "\t<tr><td>SV-AZ</td><td>Female</td><td>21-40</td><td>2022-01</td><td>2022-03</td><td>TRUE</td><td>1</td></tr>\n",
              "\t<tr><td>SV-AZ</td><td>Female</td><td>21-40</td><td>2022-01</td><td>2022-04</td><td>TRUE</td><td>1</td></tr>\n",
              "\t<tr><td>SV-AZ</td><td>Female</td><td>21-40</td><td>2022-02</td><td>2022-04</td><td>TRUE</td><td>1</td></tr>\n",
              "\t<tr><td>SV-AZ</td><td>Male  </td><td>41-60</td><td>2021-08</td><td>2022-07</td><td>TRUE</td><td>1</td></tr>\n",
              "\t<tr><td>SV-AZ</td><td>Male  </td><td>41-60</td><td>2021-09</td><td>2022-03</td><td>TRUE</td><td>3</td></tr>\n",
              "\t<tr><td>SV-AZ</td><td>Male  </td><td>41-60</td><td>2021-09</td><td>2022-04</td><td>TRUE</td><td>4</td></tr>\n",
              "\t<tr><td>SV-AZ</td><td>Male  </td><td>41-60</td><td>2021-09</td><td>2022-05</td><td>TRUE</td><td>1</td></tr>\n",
              "\t<tr><td>SV-AZ</td><td>Male  </td><td>41-60</td><td>2021-09</td><td>2022-06</td><td>TRUE</td><td>1</td></tr>\n",
              "\t<tr><td>SV-AZ</td><td>Male  </td><td>41-60</td><td>2021-09</td><td>2022-07</td><td>TRUE</td><td>1</td></tr>\n",
              "\t<tr><td>SV-AZ</td><td>Male  </td><td>41-60</td><td>2021-10</td><td>2022-03</td><td>TRUE</td><td>4</td></tr>\n",
              "\t<tr><td>SV-AZ</td><td>Male  </td><td>41-60</td><td>2021-10</td><td>2022-04</td><td>TRUE</td><td>4</td></tr>\n",
              "\t<tr><td>SV-AZ</td><td>Male  </td><td>41-60</td><td>2021-10</td><td>2022-05</td><td>TRUE</td><td>1</td></tr>\n",
              "\t<tr><td>SV-AZ</td><td>Male  </td><td>41-60</td><td>2021-10</td><td>2022-06</td><td>TRUE</td><td>1</td></tr>\n",
              "\t<tr><td>⋮</td><td>⋮</td><td>⋮</td><td>⋮</td><td>⋮</td><td>⋮</td><td>⋮</td></tr>\n",
              "\t<tr><td>None</td><td>Female</td><td>Over 80</td><td>2021-10</td><td>2022-06</td><td>FALSE</td><td>2176</td></tr>\n",
              "\t<tr><td>None</td><td>Female</td><td>Over 80</td><td>2021-10</td><td>2022-07</td><td>FALSE</td><td>2118</td></tr>\n",
              "\t<tr><td>None</td><td>Female</td><td>Over 80</td><td>2021-11</td><td>2022-01</td><td>FALSE</td><td>1871</td></tr>\n",
              "\t<tr><td>None</td><td>Female</td><td>Over 80</td><td>2021-11</td><td>2022-02</td><td>FALSE</td><td>1829</td></tr>\n",
              "\t<tr><td>None</td><td>Female</td><td>Over 80</td><td>2021-11</td><td>2022-03</td><td>FALSE</td><td>1764</td></tr>\n",
              "\t<tr><td>None</td><td>Female</td><td>Over 80</td><td>2021-11</td><td>2022-04</td><td>FALSE</td><td>1694</td></tr>\n",
              "\t<tr><td>None</td><td>Female</td><td>Over 80</td><td>2021-11</td><td>2022-05</td><td>FALSE</td><td>1651</td></tr>\n",
              "\t<tr><td>None</td><td>Female</td><td>Over 80</td><td>2021-11</td><td>2022-06</td><td>FALSE</td><td>1613</td></tr>\n",
              "\t<tr><td>None</td><td>Female</td><td>Over 80</td><td>2021-11</td><td>2022-07</td><td>FALSE</td><td>1573</td></tr>\n",
              "\t<tr><td>None</td><td>Female</td><td>Over 80</td><td>2021-12</td><td>2022-02</td><td>FALSE</td><td>1357</td></tr>\n",
              "\t<tr><td>None</td><td>Female</td><td>Over 80</td><td>2021-12</td><td>2022-03</td><td>FALSE</td><td>1298</td></tr>\n",
              "\t<tr><td>None</td><td>Female</td><td>Over 80</td><td>2021-12</td><td>2022-04</td><td>FALSE</td><td>1243</td></tr>\n",
              "\t<tr><td>None</td><td>Female</td><td>Over 80</td><td>2021-12</td><td>2022-05</td><td>FALSE</td><td>1211</td></tr>\n",
              "\t<tr><td>None</td><td>Female</td><td>Over 80</td><td>2021-12</td><td>2022-06</td><td>FALSE</td><td>1183</td></tr>\n",
              "\t<tr><td>None</td><td>Female</td><td>Over 80</td><td>2021-12</td><td>2022-07</td><td>FALSE</td><td>1151</td></tr>\n",
              "\t<tr><td>None</td><td>Female</td><td>Over 80</td><td>2022-01</td><td>2022-03</td><td>FALSE</td><td> 896</td></tr>\n",
              "\t<tr><td>None</td><td>Female</td><td>Over 80</td><td>2022-01</td><td>2022-04</td><td>FALSE</td><td> 855</td></tr>\n",
              "\t<tr><td>None</td><td>Female</td><td>Over 80</td><td>2022-01</td><td>2022-05</td><td>FALSE</td><td> 832</td></tr>\n",
              "\t<tr><td>None</td><td>Female</td><td>Over 80</td><td>2022-01</td><td>2022-06</td><td>FALSE</td><td> 814</td></tr>\n",
              "\t<tr><td>None</td><td>Female</td><td>Over 80</td><td>2022-01</td><td>2022-07</td><td>FALSE</td><td> 792</td></tr>\n",
              "\t<tr><td>None</td><td>Female</td><td>Over 80</td><td>2022-02</td><td>2022-04</td><td>FALSE</td><td> 630</td></tr>\n",
              "\t<tr><td>None</td><td>Female</td><td>Over 80</td><td>2022-02</td><td>2022-05</td><td>FALSE</td><td> 616</td></tr>\n",
              "\t<tr><td>None</td><td>Female</td><td>Over 80</td><td>2022-02</td><td>2022-06</td><td>FALSE</td><td> 604</td></tr>\n",
              "\t<tr><td>None</td><td>Female</td><td>Over 80</td><td>2022-02</td><td>2022-07</td><td>FALSE</td><td> 589</td></tr>\n",
              "\t<tr><td>None</td><td>Female</td><td>Over 80</td><td>2022-03</td><td>2022-05</td><td>FALSE</td><td> 373</td></tr>\n",
              "\t<tr><td>None</td><td>Female</td><td>Over 80</td><td>2022-03</td><td>2022-06</td><td>FALSE</td><td> 366</td></tr>\n",
              "\t<tr><td>None</td><td>Female</td><td>Over 80</td><td>2022-03</td><td>2022-07</td><td>FALSE</td><td> 360</td></tr>\n",
              "\t<tr><td>None</td><td>Female</td><td>Over 80</td><td>2022-04</td><td>2022-06</td><td>FALSE</td><td> 171</td></tr>\n",
              "\t<tr><td>None</td><td>Female</td><td>Over 80</td><td>2022-04</td><td>2022-07</td><td>FALSE</td><td> 170</td></tr>\n",
              "\t<tr><td>None</td><td>Female</td><td>Over 80</td><td>2022-05</td><td>2022-07</td><td>FALSE</td><td> 107</td></tr>\n",
              "</tbody>\n",
              "</table>\n"
            ],
            "text/markdown": "\nA data.frame: 2389 × 7\n\n| vac_type &lt;chr&gt; | sex &lt;chr&gt; | agegroup &lt;chr&gt; | vac_date &lt;chr&gt; | inf_date &lt;chr&gt; | severe &lt;lgl&gt; | freq &lt;int&gt; |\n|---|---|---|---|---|---|---|\n| SV-AZ | Male   | 21-40 | 2021-11 | 2022-05 | TRUE | 1 |\n| SV-AZ | Male   | 21-40 | 2021-12 | 2022-05 | TRUE | 1 |\n| SV-AZ | Male   | 21-40 | 2022-01 | 2022-05 | TRUE | 1 |\n| SV-AZ | Female | 21-40 | 2021-08 | 2021-10 | TRUE | 1 |\n| SV-AZ | Female | 21-40 | 2021-08 | 2021-12 | TRUE | 1 |\n| SV-AZ | Female | 21-40 | 2021-09 | 2021-12 | TRUE | 1 |\n| SV-AZ | Female | 21-40 | 2021-09 | 2022-01 | TRUE | 1 |\n| SV-AZ | Female | 21-40 | 2021-09 | 2022-03 | TRUE | 1 |\n| SV-AZ | Female | 21-40 | 2021-10 | 2021-12 | TRUE | 1 |\n| SV-AZ | Female | 21-40 | 2021-10 | 2022-01 | TRUE | 1 |\n| SV-AZ | Female | 21-40 | 2021-10 | 2022-03 | TRUE | 1 |\n| SV-AZ | Female | 21-40 | 2021-10 | 2022-04 | TRUE | 1 |\n| SV-AZ | Female | 21-40 | 2021-11 | 2022-01 | TRUE | 1 |\n| SV-AZ | Female | 21-40 | 2021-11 | 2022-03 | TRUE | 1 |\n| SV-AZ | Female | 21-40 | 2021-11 | 2022-04 | TRUE | 1 |\n| SV-AZ | Female | 21-40 | 2021-12 | 2022-03 | TRUE | 1 |\n| SV-AZ | Female | 21-40 | 2021-12 | 2022-04 | TRUE | 1 |\n| SV-AZ | Female | 21-40 | 2022-01 | 2022-03 | TRUE | 1 |\n| SV-AZ | Female | 21-40 | 2022-01 | 2022-04 | TRUE | 1 |\n| SV-AZ | Female | 21-40 | 2022-02 | 2022-04 | TRUE | 1 |\n| SV-AZ | Male   | 41-60 | 2021-08 | 2022-07 | TRUE | 1 |\n| SV-AZ | Male   | 41-60 | 2021-09 | 2022-03 | TRUE | 3 |\n| SV-AZ | Male   | 41-60 | 2021-09 | 2022-04 | TRUE | 4 |\n| SV-AZ | Male   | 41-60 | 2021-09 | 2022-05 | TRUE | 1 |\n| SV-AZ | Male   | 41-60 | 2021-09 | 2022-06 | TRUE | 1 |\n| SV-AZ | Male   | 41-60 | 2021-09 | 2022-07 | TRUE | 1 |\n| SV-AZ | Male   | 41-60 | 2021-10 | 2022-03 | TRUE | 4 |\n| SV-AZ | Male   | 41-60 | 2021-10 | 2022-04 | TRUE | 4 |\n| SV-AZ | Male   | 41-60 | 2021-10 | 2022-05 | TRUE | 1 |\n| SV-AZ | Male   | 41-60 | 2021-10 | 2022-06 | TRUE | 1 |\n| ⋮ | ⋮ | ⋮ | ⋮ | ⋮ | ⋮ | ⋮ |\n| None | Female | Over 80 | 2021-10 | 2022-06 | FALSE | 2176 |\n| None | Female | Over 80 | 2021-10 | 2022-07 | FALSE | 2118 |\n| None | Female | Over 80 | 2021-11 | 2022-01 | FALSE | 1871 |\n| None | Female | Over 80 | 2021-11 | 2022-02 | FALSE | 1829 |\n| None | Female | Over 80 | 2021-11 | 2022-03 | FALSE | 1764 |\n| None | Female | Over 80 | 2021-11 | 2022-04 | FALSE | 1694 |\n| None | Female | Over 80 | 2021-11 | 2022-05 | FALSE | 1651 |\n| None | Female | Over 80 | 2021-11 | 2022-06 | FALSE | 1613 |\n| None | Female | Over 80 | 2021-11 | 2022-07 | FALSE | 1573 |\n| None | Female | Over 80 | 2021-12 | 2022-02 | FALSE | 1357 |\n| None | Female | Over 80 | 2021-12 | 2022-03 | FALSE | 1298 |\n| None | Female | Over 80 | 2021-12 | 2022-04 | FALSE | 1243 |\n| None | Female | Over 80 | 2021-12 | 2022-05 | FALSE | 1211 |\n| None | Female | Over 80 | 2021-12 | 2022-06 | FALSE | 1183 |\n| None | Female | Over 80 | 2021-12 | 2022-07 | FALSE | 1151 |\n| None | Female | Over 80 | 2022-01 | 2022-03 | FALSE |  896 |\n| None | Female | Over 80 | 2022-01 | 2022-04 | FALSE |  855 |\n| None | Female | Over 80 | 2022-01 | 2022-05 | FALSE |  832 |\n| None | Female | Over 80 | 2022-01 | 2022-06 | FALSE |  814 |\n| None | Female | Over 80 | 2022-01 | 2022-07 | FALSE |  792 |\n| None | Female | Over 80 | 2022-02 | 2022-04 | FALSE |  630 |\n| None | Female | Over 80 | 2022-02 | 2022-05 | FALSE |  616 |\n| None | Female | Over 80 | 2022-02 | 2022-06 | FALSE |  604 |\n| None | Female | Over 80 | 2022-02 | 2022-07 | FALSE |  589 |\n| None | Female | Over 80 | 2022-03 | 2022-05 | FALSE |  373 |\n| None | Female | Over 80 | 2022-03 | 2022-06 | FALSE |  366 |\n| None | Female | Over 80 | 2022-03 | 2022-07 | FALSE |  360 |\n| None | Female | Over 80 | 2022-04 | 2022-06 | FALSE |  171 |\n| None | Female | Over 80 | 2022-04 | 2022-07 | FALSE |  170 |\n| None | Female | Over 80 | 2022-05 | 2022-07 | FALSE |  107 |\n\n",
            "text/latex": "A data.frame: 2389 × 7\n\\begin{tabular}{lllllll}\n vac\\_type & sex & agegroup & vac\\_date & inf\\_date & severe & freq\\\\\n <chr> & <chr> & <chr> & <chr> & <chr> & <lgl> & <int>\\\\\n\\hline\n\t SV-AZ & Male   & 21-40 & 2021-11 & 2022-05 & TRUE & 1\\\\\n\t SV-AZ & Male   & 21-40 & 2021-12 & 2022-05 & TRUE & 1\\\\\n\t SV-AZ & Male   & 21-40 & 2022-01 & 2022-05 & TRUE & 1\\\\\n\t SV-AZ & Female & 21-40 & 2021-08 & 2021-10 & TRUE & 1\\\\\n\t SV-AZ & Female & 21-40 & 2021-08 & 2021-12 & TRUE & 1\\\\\n\t SV-AZ & Female & 21-40 & 2021-09 & 2021-12 & TRUE & 1\\\\\n\t SV-AZ & Female & 21-40 & 2021-09 & 2022-01 & TRUE & 1\\\\\n\t SV-AZ & Female & 21-40 & 2021-09 & 2022-03 & TRUE & 1\\\\\n\t SV-AZ & Female & 21-40 & 2021-10 & 2021-12 & TRUE & 1\\\\\n\t SV-AZ & Female & 21-40 & 2021-10 & 2022-01 & TRUE & 1\\\\\n\t SV-AZ & Female & 21-40 & 2021-10 & 2022-03 & TRUE & 1\\\\\n\t SV-AZ & Female & 21-40 & 2021-10 & 2022-04 & TRUE & 1\\\\\n\t SV-AZ & Female & 21-40 & 2021-11 & 2022-01 & TRUE & 1\\\\\n\t SV-AZ & Female & 21-40 & 2021-11 & 2022-03 & TRUE & 1\\\\\n\t SV-AZ & Female & 21-40 & 2021-11 & 2022-04 & TRUE & 1\\\\\n\t SV-AZ & Female & 21-40 & 2021-12 & 2022-03 & TRUE & 1\\\\\n\t SV-AZ & Female & 21-40 & 2021-12 & 2022-04 & TRUE & 1\\\\\n\t SV-AZ & Female & 21-40 & 2022-01 & 2022-03 & TRUE & 1\\\\\n\t SV-AZ & Female & 21-40 & 2022-01 & 2022-04 & TRUE & 1\\\\\n\t SV-AZ & Female & 21-40 & 2022-02 & 2022-04 & TRUE & 1\\\\\n\t SV-AZ & Male   & 41-60 & 2021-08 & 2022-07 & TRUE & 1\\\\\n\t SV-AZ & Male   & 41-60 & 2021-09 & 2022-03 & TRUE & 3\\\\\n\t SV-AZ & Male   & 41-60 & 2021-09 & 2022-04 & TRUE & 4\\\\\n\t SV-AZ & Male   & 41-60 & 2021-09 & 2022-05 & TRUE & 1\\\\\n\t SV-AZ & Male   & 41-60 & 2021-09 & 2022-06 & TRUE & 1\\\\\n\t SV-AZ & Male   & 41-60 & 2021-09 & 2022-07 & TRUE & 1\\\\\n\t SV-AZ & Male   & 41-60 & 2021-10 & 2022-03 & TRUE & 4\\\\\n\t SV-AZ & Male   & 41-60 & 2021-10 & 2022-04 & TRUE & 4\\\\\n\t SV-AZ & Male   & 41-60 & 2021-10 & 2022-05 & TRUE & 1\\\\\n\t SV-AZ & Male   & 41-60 & 2021-10 & 2022-06 & TRUE & 1\\\\\n\t ⋮ & ⋮ & ⋮ & ⋮ & ⋮ & ⋮ & ⋮\\\\\n\t None & Female & Over 80 & 2021-10 & 2022-06 & FALSE & 2176\\\\\n\t None & Female & Over 80 & 2021-10 & 2022-07 & FALSE & 2118\\\\\n\t None & Female & Over 80 & 2021-11 & 2022-01 & FALSE & 1871\\\\\n\t None & Female & Over 80 & 2021-11 & 2022-02 & FALSE & 1829\\\\\n\t None & Female & Over 80 & 2021-11 & 2022-03 & FALSE & 1764\\\\\n\t None & Female & Over 80 & 2021-11 & 2022-04 & FALSE & 1694\\\\\n\t None & Female & Over 80 & 2021-11 & 2022-05 & FALSE & 1651\\\\\n\t None & Female & Over 80 & 2021-11 & 2022-06 & FALSE & 1613\\\\\n\t None & Female & Over 80 & 2021-11 & 2022-07 & FALSE & 1573\\\\\n\t None & Female & Over 80 & 2021-12 & 2022-02 & FALSE & 1357\\\\\n\t None & Female & Over 80 & 2021-12 & 2022-03 & FALSE & 1298\\\\\n\t None & Female & Over 80 & 2021-12 & 2022-04 & FALSE & 1243\\\\\n\t None & Female & Over 80 & 2021-12 & 2022-05 & FALSE & 1211\\\\\n\t None & Female & Over 80 & 2021-12 & 2022-06 & FALSE & 1183\\\\\n\t None & Female & Over 80 & 2021-12 & 2022-07 & FALSE & 1151\\\\\n\t None & Female & Over 80 & 2022-01 & 2022-03 & FALSE &  896\\\\\n\t None & Female & Over 80 & 2022-01 & 2022-04 & FALSE &  855\\\\\n\t None & Female & Over 80 & 2022-01 & 2022-05 & FALSE &  832\\\\\n\t None & Female & Over 80 & 2022-01 & 2022-06 & FALSE &  814\\\\\n\t None & Female & Over 80 & 2022-01 & 2022-07 & FALSE &  792\\\\\n\t None & Female & Over 80 & 2022-02 & 2022-04 & FALSE &  630\\\\\n\t None & Female & Over 80 & 2022-02 & 2022-05 & FALSE &  616\\\\\n\t None & Female & Over 80 & 2022-02 & 2022-06 & FALSE &  604\\\\\n\t None & Female & Over 80 & 2022-02 & 2022-07 & FALSE &  589\\\\\n\t None & Female & Over 80 & 2022-03 & 2022-05 & FALSE &  373\\\\\n\t None & Female & Over 80 & 2022-03 & 2022-06 & FALSE &  366\\\\\n\t None & Female & Over 80 & 2022-03 & 2022-07 & FALSE &  360\\\\\n\t None & Female & Over 80 & 2022-04 & 2022-06 & FALSE &  171\\\\\n\t None & Female & Over 80 & 2022-04 & 2022-07 & FALSE &  170\\\\\n\t None & Female & Over 80 & 2022-05 & 2022-07 & FALSE &  107\\\\\n\\end{tabular}\n",
            "text/plain": [
              "     vac_type sex    agegroup vac_date inf_date severe freq\n",
              "1    SV-AZ    Male   21-40    2021-11  2022-05  TRUE   1   \n",
              "2    SV-AZ    Male   21-40    2021-12  2022-05  TRUE   1   \n",
              "3    SV-AZ    Male   21-40    2022-01  2022-05  TRUE   1   \n",
              "4    SV-AZ    Female 21-40    2021-08  2021-10  TRUE   1   \n",
              "5    SV-AZ    Female 21-40    2021-08  2021-12  TRUE   1   \n",
              "6    SV-AZ    Female 21-40    2021-09  2021-12  TRUE   1   \n",
              "7    SV-AZ    Female 21-40    2021-09  2022-01  TRUE   1   \n",
              "8    SV-AZ    Female 21-40    2021-09  2022-03  TRUE   1   \n",
              "9    SV-AZ    Female 21-40    2021-10  2021-12  TRUE   1   \n",
              "10   SV-AZ    Female 21-40    2021-10  2022-01  TRUE   1   \n",
              "11   SV-AZ    Female 21-40    2021-10  2022-03  TRUE   1   \n",
              "12   SV-AZ    Female 21-40    2021-10  2022-04  TRUE   1   \n",
              "13   SV-AZ    Female 21-40    2021-11  2022-01  TRUE   1   \n",
              "14   SV-AZ    Female 21-40    2021-11  2022-03  TRUE   1   \n",
              "15   SV-AZ    Female 21-40    2021-11  2022-04  TRUE   1   \n",
              "16   SV-AZ    Female 21-40    2021-12  2022-03  TRUE   1   \n",
              "17   SV-AZ    Female 21-40    2021-12  2022-04  TRUE   1   \n",
              "18   SV-AZ    Female 21-40    2022-01  2022-03  TRUE   1   \n",
              "19   SV-AZ    Female 21-40    2022-01  2022-04  TRUE   1   \n",
              "20   SV-AZ    Female 21-40    2022-02  2022-04  TRUE   1   \n",
              "21   SV-AZ    Male   41-60    2021-08  2022-07  TRUE   1   \n",
              "22   SV-AZ    Male   41-60    2021-09  2022-03  TRUE   3   \n",
              "23   SV-AZ    Male   41-60    2021-09  2022-04  TRUE   4   \n",
              "24   SV-AZ    Male   41-60    2021-09  2022-05  TRUE   1   \n",
              "25   SV-AZ    Male   41-60    2021-09  2022-06  TRUE   1   \n",
              "26   SV-AZ    Male   41-60    2021-09  2022-07  TRUE   1   \n",
              "27   SV-AZ    Male   41-60    2021-10  2022-03  TRUE   4   \n",
              "28   SV-AZ    Male   41-60    2021-10  2022-04  TRUE   4   \n",
              "29   SV-AZ    Male   41-60    2021-10  2022-05  TRUE   1   \n",
              "30   SV-AZ    Male   41-60    2021-10  2022-06  TRUE   1   \n",
              "⋮    ⋮        ⋮      ⋮        ⋮        ⋮        ⋮      ⋮   \n",
              "2360 None     Female Over 80  2021-10  2022-06  FALSE  2176\n",
              "2361 None     Female Over 80  2021-10  2022-07  FALSE  2118\n",
              "2362 None     Female Over 80  2021-11  2022-01  FALSE  1871\n",
              "2363 None     Female Over 80  2021-11  2022-02  FALSE  1829\n",
              "2364 None     Female Over 80  2021-11  2022-03  FALSE  1764\n",
              "2365 None     Female Over 80  2021-11  2022-04  FALSE  1694\n",
              "2366 None     Female Over 80  2021-11  2022-05  FALSE  1651\n",
              "2367 None     Female Over 80  2021-11  2022-06  FALSE  1613\n",
              "2368 None     Female Over 80  2021-11  2022-07  FALSE  1573\n",
              "2369 None     Female Over 80  2021-12  2022-02  FALSE  1357\n",
              "2370 None     Female Over 80  2021-12  2022-03  FALSE  1298\n",
              "2371 None     Female Over 80  2021-12  2022-04  FALSE  1243\n",
              "2372 None     Female Over 80  2021-12  2022-05  FALSE  1211\n",
              "2373 None     Female Over 80  2021-12  2022-06  FALSE  1183\n",
              "2374 None     Female Over 80  2021-12  2022-07  FALSE  1151\n",
              "2375 None     Female Over 80  2022-01  2022-03  FALSE   896\n",
              "2376 None     Female Over 80  2022-01  2022-04  FALSE   855\n",
              "2377 None     Female Over 80  2022-01  2022-05  FALSE   832\n",
              "2378 None     Female Over 80  2022-01  2022-06  FALSE   814\n",
              "2379 None     Female Over 80  2022-01  2022-07  FALSE   792\n",
              "2380 None     Female Over 80  2022-02  2022-04  FALSE   630\n",
              "2381 None     Female Over 80  2022-02  2022-05  FALSE   616\n",
              "2382 None     Female Over 80  2022-02  2022-06  FALSE   604\n",
              "2383 None     Female Over 80  2022-02  2022-07  FALSE   589\n",
              "2384 None     Female Over 80  2022-03  2022-05  FALSE   373\n",
              "2385 None     Female Over 80  2022-03  2022-06  FALSE   366\n",
              "2386 None     Female Over 80  2022-03  2022-07  FALSE   360\n",
              "2387 None     Female Over 80  2022-04  2022-06  FALSE   171\n",
              "2388 None     Female Over 80  2022-04  2022-07  FALSE   170\n",
              "2389 None     Female Over 80  2022-05  2022-07  FALSE   107"
            ]
          },
          "metadata": {}
        }
      ]
    },
    {
      "cell_type": "markdown",
      "source": [
        "• Calculate vaccine effectiveness of the vaccine sequence \"SV-AZ\" against severe COVID-19 using the ORMH method that requires sex,\tagegroup,\tvac_date, and inf_date for stratification. Note that, the vaccine effectiveness ~ (1-ORMH)*100\n",
        "\n",
        "• Calculate 95% CI of the vaccine effectiveness.\n",
        "\n",
        "Hint: read the book: Rothman, K.J., Greenland, S. and Lash, T. (2008) Modern epidemiology. Third Edition. Lippincott Williams & Wilkins, Philadelphia, 260-276.\n",
        "\n",
        "• Compare the results with OR from logistic regression."
      ],
      "metadata": {
        "id": "l75zPgCgnMJX"
      }
    },
    {
      "cell_type": "code",
      "source": [
        "logitdm<-glm(severe~vac_type+agegroup+sex+vac_date+inf_date,weights = Freq,family=\"binomial\",data=svaz)\n",
        "logistic.display(logitdm)"
      ],
      "metadata": {
        "id": "W8glcdSwSz84"
      },
      "execution_count": null,
      "outputs": []
    }
  ],
  "metadata": {
    "accelerator": "GPU",
    "colab": {
      "provenance": []
    },
    "kernelspec": {
      "display_name": "R",
      "name": "ir"
    },
    "gpuClass": "standard"
  },
  "nbformat": 4,
  "nbformat_minor": 0
}